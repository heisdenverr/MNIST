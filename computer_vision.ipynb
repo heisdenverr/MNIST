{
  "cells": [
    {
      "cell_type": "markdown",
      "metadata": {
        "id": "view-in-github",
        "colab_type": "text"
      },
      "source": [
        "<a href=\"https://colab.research.google.com/github/heisdenverr/MNIST/blob/master-branch/computer_vision.ipynb\" target=\"_parent\"><img src=\"https://colab.research.google.com/assets/colab-badge.svg\" alt=\"Open In Colab\"/></a>"
      ]
    },
    {
      "cell_type": "code",
      "execution_count": null,
      "metadata": {
        "colab": {
          "base_uri": "https://localhost:8080/"
        },
        "id": "lhcGvSpcBNnN",
        "outputId": "08c14c46-a771-4d1a-93ea-cff92beca956"
      },
      "outputs": [
        {
          "output_type": "stream",
          "name": "stdout",
          "text": [
            "2.3.0+cu121\n",
            "0.18.0+cu121\n",
            "we're currently running on cuda device\n"
          ]
        }
      ],
      "source": [
        "# import pytorch\n",
        "\n",
        "import torch\n",
        "from torch import nn\n",
        "\n",
        "# import torchvision\n",
        "import torchvision\n",
        "from torchvision import datasets\n",
        "from torchvision import transforms\n",
        "from torchvision.transforms import ToTensor\n",
        "\n",
        "# import matplotlib for visualization\n",
        "import matplotlib.pyplot as plt\n",
        "\n",
        "# check torch version\n",
        "print(torch.__version__)\n",
        "print(torchvision.__version__)\n",
        "\n",
        "# set device agnostics code\n",
        "device = 'cuda' if torch.cuda.is_available() else 'cpu'\n",
        "print(f\"we're currently running on {device} device\")\n"
      ]
    },
    {
      "cell_type": "markdown",
      "metadata": {
        "id": "3u8wV8-PHzCK"
      },
      "source": [
        "import ''' fashion mnst dataset '''"
      ]
    },
    {
      "cell_type": "code",
      "execution_count": null,
      "metadata": {
        "id": "ilFStOyrB9qd",
        "colab": {
          "base_uri": "https://localhost:8080/"
        },
        "outputId": "4a4efe50-4e59-4b82-b467-7f3df543c30c"
      },
      "outputs": [
        {
          "output_type": "stream",
          "name": "stdout",
          "text": [
            "Downloading http://fashion-mnist.s3-website.eu-central-1.amazonaws.com/train-images-idx3-ubyte.gz\n",
            "Downloading http://fashion-mnist.s3-website.eu-central-1.amazonaws.com/train-images-idx3-ubyte.gz to data/FashionMNIST/raw/train-images-idx3-ubyte.gz\n"
          ]
        },
        {
          "output_type": "stream",
          "name": "stderr",
          "text": [
            "100%|██████████| 26421880/26421880 [00:02<00:00, 8979628.76it/s] \n"
          ]
        },
        {
          "output_type": "stream",
          "name": "stdout",
          "text": [
            "Extracting data/FashionMNIST/raw/train-images-idx3-ubyte.gz to data/FashionMNIST/raw\n",
            "\n",
            "Downloading http://fashion-mnist.s3-website.eu-central-1.amazonaws.com/train-labels-idx1-ubyte.gz\n",
            "Downloading http://fashion-mnist.s3-website.eu-central-1.amazonaws.com/train-labels-idx1-ubyte.gz to data/FashionMNIST/raw/train-labels-idx1-ubyte.gz\n"
          ]
        },
        {
          "output_type": "stream",
          "name": "stderr",
          "text": [
            "100%|██████████| 29515/29515 [00:00<00:00, 150425.27it/s]\n"
          ]
        },
        {
          "output_type": "stream",
          "name": "stdout",
          "text": [
            "Extracting data/FashionMNIST/raw/train-labels-idx1-ubyte.gz to data/FashionMNIST/raw\n",
            "\n",
            "Downloading http://fashion-mnist.s3-website.eu-central-1.amazonaws.com/t10k-images-idx3-ubyte.gz\n",
            "Downloading http://fashion-mnist.s3-website.eu-central-1.amazonaws.com/t10k-images-idx3-ubyte.gz to data/FashionMNIST/raw/t10k-images-idx3-ubyte.gz\n"
          ]
        },
        {
          "output_type": "stream",
          "name": "stderr",
          "text": [
            "100%|██████████| 4422102/4422102 [00:01<00:00, 2720079.51it/s]\n"
          ]
        },
        {
          "output_type": "stream",
          "name": "stdout",
          "text": [
            "Extracting data/FashionMNIST/raw/t10k-images-idx3-ubyte.gz to data/FashionMNIST/raw\n",
            "\n",
            "Downloading http://fashion-mnist.s3-website.eu-central-1.amazonaws.com/t10k-labels-idx1-ubyte.gz\n",
            "Downloading http://fashion-mnist.s3-website.eu-central-1.amazonaws.com/t10k-labels-idx1-ubyte.gz to data/FashionMNIST/raw/t10k-labels-idx1-ubyte.gz\n"
          ]
        },
        {
          "output_type": "stream",
          "name": "stderr",
          "text": [
            "100%|██████████| 5148/5148 [00:00<00:00, 6772985.25it/s]"
          ]
        },
        {
          "output_type": "stream",
          "name": "stdout",
          "text": [
            "Extracting data/FashionMNIST/raw/t10k-labels-idx1-ubyte.gz to data/FashionMNIST/raw\n",
            "\n"
          ]
        },
        {
          "output_type": "stream",
          "name": "stderr",
          "text": [
            "\n"
          ]
        }
      ],
      "source": [
        "train_data = datasets.FashionMNIST(\n",
        "    root=\"data\",\n",
        "    train=True,\n",
        "    download=True,\n",
        "    transform=ToTensor(),\n",
        "    target_transform=None\n",
        ")\n",
        "\n",
        "test_data = datasets.FashionMNIST(\n",
        "    root=\"data\",\n",
        "    train=False,\n",
        "    download=True,\n",
        "    transform=ToTensor(),\n",
        "    target_transform=None\n",
        ")"
      ]
    },
    {
      "cell_type": "code",
      "execution_count": null,
      "metadata": {
        "colab": {
          "base_uri": "https://localhost:8080/"
        },
        "id": "PzBQZuGvC6Cr",
        "outputId": "c65d162e-7dd7-4cd3-d81d-9e3313e4ab24"
      },
      "outputs": [
        {
          "output_type": "execute_result",
          "data": {
            "text/plain": [
              "(60000, 10000)"
            ]
          },
          "metadata": {},
          "execution_count": 4
        }
      ],
      "source": [
        "len(train_data), len(test_data)"
      ]
    },
    {
      "cell_type": "code",
      "execution_count": null,
      "metadata": {
        "colab": {
          "base_uri": "https://localhost:8080/"
        },
        "id": "KZr9mrV_FFCK",
        "outputId": "a0b97c75-830e-4628-b68f-59d876f75f3c"
      },
      "outputs": [
        {
          "output_type": "execute_result",
          "data": {
            "text/plain": [
              "9"
            ]
          },
          "metadata": {},
          "execution_count": 5
        }
      ],
      "source": [
        "image, label = train_data[0]\n",
        "label"
      ]
    },
    {
      "cell_type": "code",
      "execution_count": null,
      "metadata": {
        "colab": {
          "base_uri": "https://localhost:8080/"
        },
        "id": "kMRQfTX8kybW",
        "outputId": "207cefc8-2116-4203-d66a-f8f0a13d56ba"
      },
      "outputs": [
        {
          "output_type": "execute_result",
          "data": {
            "text/plain": [
              "['T-shirt/top',\n",
              " 'Trouser',\n",
              " 'Pullover',\n",
              " 'Dress',\n",
              " 'Coat',\n",
              " 'Sandal',\n",
              " 'Shirt',\n",
              " 'Sneaker',\n",
              " 'Bag',\n",
              " 'Ankle boot']"
            ]
          },
          "metadata": {},
          "execution_count": 6
        }
      ],
      "source": [
        "class_names = train_data.classes\n",
        "class_names"
      ]
    },
    {
      "cell_type": "code",
      "execution_count": null,
      "metadata": {
        "colab": {
          "base_uri": "https://localhost:8080/"
        },
        "id": "DMdoWHr9lFJ8",
        "outputId": "76233757-0dff-4515-dfbc-63b6bfcad150"
      },
      "outputs": [
        {
          "output_type": "execute_result",
          "data": {
            "text/plain": [
              "{'T-shirt/top': 0,\n",
              " 'Trouser': 1,\n",
              " 'Pullover': 2,\n",
              " 'Dress': 3,\n",
              " 'Coat': 4,\n",
              " 'Sandal': 5,\n",
              " 'Shirt': 6,\n",
              " 'Sneaker': 7,\n",
              " 'Bag': 8,\n",
              " 'Ankle boot': 9}"
            ]
          },
          "metadata": {},
          "execution_count": 7
        }
      ],
      "source": [
        "class_to_idx = train_data.class_to_idx\n",
        "class_to_idx"
      ]
    },
    {
      "cell_type": "code",
      "execution_count": null,
      "metadata": {
        "colab": {
          "base_uri": "https://localhost:8080/"
        },
        "id": "AEaTm3rOlPJg",
        "outputId": "f4f1f7d1-eee3-4710-fa7f-facdd0514638"
      },
      "outputs": [
        {
          "output_type": "execute_result",
          "data": {
            "text/plain": [
              "(torch.Size([1, 28, 28]), 9)"
            ]
          },
          "metadata": {},
          "execution_count": 8
        }
      ],
      "source": [
        "image.shape, label"
      ]
    },
    {
      "cell_type": "code",
      "execution_count": null,
      "metadata": {
        "colab": {
          "base_uri": "https://localhost:8080/",
          "height": 465
        },
        "id": "ELRboNgQlWXT",
        "outputId": "77063078-4ec3-475f-e055-e0f8c11facfe"
      },
      "outputs": [
        {
          "output_type": "stream",
          "name": "stdout",
          "text": [
            "image shape: torch.Size([1, 28, 28])\n"
          ]
        },
        {
          "output_type": "execute_result",
          "data": {
            "text/plain": [
              "<matplotlib.image.AxesImage at 0x7b20a6022e90>"
            ]
          },
          "metadata": {},
          "execution_count": 9
        },
        {
          "output_type": "display_data",
          "data": {
            "text/plain": [
              "<Figure size 640x480 with 1 Axes>"
            ],
            "image/png": "[encoded data removed]"
          },
          "metadata": {}
        }
      ],
      "source": [
        "print(f\"image shape: {image.shape}\")\n",
        "plt.imshow(image.squeeze())"
      ]
    },
    {
      "cell_type": "code",
      "execution_count": null,
      "metadata": {
        "colab": {
          "base_uri": "https://localhost:8080/",
          "height": 452
        },
        "id": "ZQAAbAXSn1Mi",
        "outputId": "bece7344-7f06-4336-bf0c-f7917ddde310"
      },
      "outputs": [
        {
          "output_type": "display_data",
          "data": {
            "text/plain": [
              "<Figure size 640x480 with 1 Axes>"
            ],
            "image/png": "[encoded data removed]"
          },
          "metadata": {}
        }
      ],
      "source": [
        "plt.imshow(image.squeeze(), cmap=\"gray\")\n",
        "plt.title(class_names[label]);\n"
      ]
    },
    {
      "cell_type": "code",
      "execution_count": null,
      "metadata": {
        "colab": {
          "base_uri": "https://localhost:8080/",
          "height": 663
        },
        "id": "8qbqGiUspGYR",
        "outputId": "c51d740b-8879-4aea-90fc-1998b96ffc14"
      },
      "outputs": [
        {
          "output_type": "display_data",
          "data": {
            "text/plain": [
              "<Figure size 900x900 with 16 Axes>"
            ],
            "image/png": "[encoded data removed]"
          },
          "metadata": {}
        }
      ],
      "source": [
        "# get more images\n",
        "torch.manual_seed(42)\n",
        "fig = plt.figure(figsize=(9, 9))\n",
        "rows, cols =4, 4\n",
        "for i in range(1, rows*cols+1):\n",
        "  random_idx = torch.randint(0, len(train_data), size=[1]).item()\n",
        "  img, label = train_data[random_idx]\n",
        "  fig.add_subplot(rows, cols, i)\n",
        "  plt.imshow(img.squeeze(), cmap=\"gray\")\n",
        "  plt.title(class_names[label])\n",
        "  plt.axis(False);"
      ]
    },
    {
      "cell_type": "code",
      "execution_count": null,
      "metadata": {
        "colab": {
          "base_uri": "https://localhost:8080/"
        },
        "id": "mJCznK6erL2_",
        "outputId": "d4572ad8-3d2c-4279-82cf-e4db5ebb2be6"
      },
      "outputs": [
        {
          "output_type": "execute_result",
          "data": {
            "text/plain": [
              "(Dataset FashionMNIST\n",
              "     Number of datapoints: 60000\n",
              "     Root location: data\n",
              "     Split: Train\n",
              "     StandardTransform\n",
              " Transform: ToTensor(),\n",
              " Dataset FashionMNIST\n",
              "     Number of datapoints: 10000\n",
              "     Root location: data\n",
              "     Split: Test\n",
              "     StandardTransform\n",
              " Transform: ToTensor())"
            ]
          },
          "metadata": {},
          "execution_count": 12
        }
      ],
      "source": [
        "train_data, test_data"
      ]
    },
    {
      "cell_type": "code",
      "execution_count": null,
      "metadata": {
        "colab": {
          "base_uri": "https://localhost:8080/"
        },
        "id": "MsmXgvCVroFj",
        "outputId": "945374dc-746a-4c76-f15e-ac8ae7b40b01"
      },
      "outputs": [
        {
          "output_type": "execute_result",
          "data": {
            "text/plain": [
              "(<torch.utils.data.dataloader.DataLoader at 0x7b208d7bbe50>,\n",
              " <torch.utils.data.dataloader.DataLoader at 0x7b208d7b8ee0>)"
            ]
          },
          "metadata": {},
          "execution_count": 13
        }
      ],
      "source": [
        "# PREPARE OUR DATA LOADER\n",
        "\n",
        "from torch.utils.data import DataLoader\n",
        "\n",
        "BATCH_SIZE = 32\n",
        "\n",
        "train_dataloader = DataLoader(\n",
        "    dataset=train_data,\n",
        "    batch_size=BATCH_SIZE,\n",
        "    shuffle=True\n",
        ")\n",
        "\n",
        "test_dataloader = DataLoader(\n",
        "    dataset=test_data,\n",
        "    batch_size=BATCH_SIZE,\n",
        "    shuffle=False\n",
        ")\n",
        "\n",
        "train_dataloader, test_dataloader"
      ]
    },
    {
      "cell_type": "code",
      "execution_count": null,
      "metadata": {
        "colab": {
          "base_uri": "https://localhost:8080/"
        },
        "id": "dFPgJsepvke1",
        "outputId": "ca0a558f-e1a7-4de3-8610-181d5fa143f3"
      },
      "outputs": [
        {
          "output_type": "stream",
          "name": "stdout",
          "text": [
            "DataLoader: (<torch.utils.data.dataloader.DataLoader object at 0x7b208d7bbe50>, <torch.utils.data.dataloader.DataLoader object at 0x7b208d7b8ee0>)\n",
            "1875, 32\n",
            "313, 32\n"
          ]
        }
      ],
      "source": [
        "print(f\"DataLoader: {train_dataloader, test_dataloader}\")\n",
        "print(f\"{len(train_dataloader)}, {BATCH_SIZE}\")\n",
        "print(f\"{len(test_dataloader)}, {BATCH_SIZE}\")"
      ]
    },
    {
      "cell_type": "code",
      "execution_count": null,
      "metadata": {
        "colab": {
          "base_uri": "https://localhost:8080/"
        },
        "id": "K-C6k3ervyJ8",
        "outputId": "ab852bf2-62b5-414e-8f0b-1c6752f56182"
      },
      "outputs": [
        {
          "output_type": "execute_result",
          "data": {
            "text/plain": [
              "(torch.Size([32, 1, 28, 28]), torch.Size([32]))"
            ]
          },
          "metadata": {},
          "execution_count": 15
        }
      ],
      "source": [
        "train_features_batch, train_label_batch = next(iter(train_dataloader))\n",
        "train_features_batch.shape, train_label_batch.shape"
      ]
    },
    {
      "cell_type": "code",
      "execution_count": null,
      "metadata": {
        "colab": {
          "base_uri": "https://localhost:8080/",
          "height": 463
        },
        "id": "S4QNgmqewU3Y",
        "outputId": "568bcce8-026c-4e12-f611-66ca067e00eb"
      },
      "outputs": [
        {
          "output_type": "stream",
          "name": "stdout",
          "text": [
            "Image size: torch.Size([1, 28, 28])\n",
            "Label: 6, label size: torch.Size([])\n"
          ]
        },
        {
          "output_type": "display_data",
          "data": {
            "text/plain": [
              "<Figure size 640x480 with 1 Axes>"
            ],
            "image/png": "[encoded data removed]"
          },
          "metadata": {}
        }
      ],
      "source": [
        "# show a sample\n",
        "torch.manual_seed(42)\n",
        "random_idx = torch.randint(0, len(train_features_batch), size=[1]).item()\n",
        "img, label = train_features_batch[random_idx], train_label_batch[random_idx]\n",
        "plt.imshow(img.squeeze(), cmap='gray')\n",
        "plt.title(class_names[label])\n",
        "plt.axis(False)\n",
        "print(f\"Image size: {img.shape}\")\n",
        "print(f\"Label: {label}, label size: {label.shape}\")"
      ]
    },
    {
      "cell_type": "markdown",
      "metadata": {
        "id": "Ojda0E4oqAD2"
      },
      "source": []
    },
    {
      "cell_type": "markdown",
      "metadata": {
        "id": "ViS3pizTowo6"
      },
      "source": [
        "**Building** **a Baseline Model**\n",
        "\n",
        "baseline code first\n",
        "\n"
      ]
    },
    {
      "cell_type": "code",
      "execution_count": null,
      "metadata": {
        "colab": {
          "base_uri": "https://localhost:8080/"
        },
        "id": "Ng6MEkjro03y",
        "outputId": "a2b3599e-c0a4-419e-a7c2-00f1ad6acce3"
      },
      "outputs": [
        {
          "output_type": "stream",
          "name": "stdout",
          "text": [
            "shape before torch.Size([1, 28, 28]) \n",
            " shape after torch.Size([1, 784])\n"
          ]
        }
      ],
      "source": [
        "# create a flatten layer\n",
        "flatten_model = nn.Flatten()\n",
        "\n",
        "# Get a single sample\n",
        "x = train_features_batch[0]\n",
        "output = flatten_model(x)\n",
        "\n",
        "\n",
        "print(f\"shape before {x.shape} \\n shape after {output.shape}\")# Trying to convect all into a single vector space as inputs\n"
      ]
    },
    {
      "cell_type": "code",
      "execution_count": null,
      "metadata": {
        "id": "_Kvl-iICo00d"
      },
      "outputs": [],
      "source": [
        "from torch import nn\n",
        "class FashionMNISTModelV0(nn.Module):\n",
        "  def __init__(self,\n",
        "               input_shape: int,\n",
        "               hidden_units: int,\n",
        "               output_shape: int):\n",
        "    super().__init__()\n",
        "    self.layer_stack = nn.Sequential(\n",
        "        nn.Flatten(),\n",
        "        nn.Linear(in_features=input_shape,\n",
        "                  out_features=hidden_units,\n",
        "        ),\n",
        "        nn.Linear(in_features=hidden_units,\n",
        "                  out_features=output_shape\n",
        "        )\n",
        "    )\n",
        "\n",
        "  def forward(self, x):\n",
        "    return self.layer_stack(x)"
      ]
    },
    {
      "cell_type": "code",
      "execution_count": null,
      "metadata": {
        "id": "N4d6c_0so0yB"
      },
      "outputs": [],
      "source": [
        "torch.manual_seed(42)\n",
        "model_0 = FashionMNISTModelV0(\n",
        "    input_shape=28*28,\n",
        "    hidden_units=10,\n",
        "    output_shape=len(class_names)\n",
        ").to(\"cpu\")"
      ]
    },
    {
      "cell_type": "code",
      "execution_count": null,
      "metadata": {
        "colab": {
          "base_uri": "https://localhost:8080/"
        },
        "id": "c7q5JzhYo0vv",
        "outputId": "578c5518-c6f9-4df4-f7e6-28c7cd16d1fb"
      },
      "outputs": [
        {
          "output_type": "execute_result",
          "data": {
            "text/plain": [
              "tensor([[-0.0315,  0.3171,  0.0531, -0.2525,  0.5959,  0.2112,  0.3233,  0.2694,\n",
              "         -0.1004,  0.0157]], grad_fn=<AddmmBackward0>)"
            ]
          },
          "metadata": {},
          "execution_count": 20
        }
      ],
      "source": [
        "dummy_x = torch.rand([1, 1, 28, 28])\n",
        "model_0(dummy_x)"
      ]
    },
    {
      "cell_type": "code",
      "execution_count": null,
      "metadata": {
        "colab": {
          "base_uri": "https://localhost:8080/"
        },
        "id": "-2oWEYMbo0th",
        "outputId": "581d9cc7-e9aa-41c5-8bbd-10e453d7e2bc"
      },
      "outputs": [
        {
          "output_type": "execute_result",
          "data": {
            "text/plain": [
              "OrderedDict([('layer_stack.1.weight',\n",
              "              tensor([[ 0.0273,  0.0296, -0.0084,  ..., -0.0142,  0.0093,  0.0135],\n",
              "                      [-0.0188, -0.0354,  0.0187,  ..., -0.0106, -0.0001,  0.0115],\n",
              "                      [-0.0008,  0.0017,  0.0045,  ..., -0.0127, -0.0188,  0.0059],\n",
              "                      ...,\n",
              "                      [-0.0116,  0.0273, -0.0344,  ...,  0.0176,  0.0283, -0.0011],\n",
              "                      [-0.0230,  0.0257,  0.0291,  ..., -0.0187, -0.0087,  0.0001],\n",
              "                      [ 0.0176, -0.0147,  0.0053,  ..., -0.0336, -0.0221,  0.0205]])),\n",
              "             ('layer_stack.1.bias',\n",
              "              tensor([-0.0093,  0.0283, -0.0033,  0.0255,  0.0017,  0.0037, -0.0302, -0.0123,\n",
              "                       0.0018,  0.0163])),\n",
              "             ('layer_stack.2.weight',\n",
              "              tensor([[ 0.0614, -0.0687,  0.0021,  0.2718,  0.2109,  0.1079, -0.2279, -0.1063,\n",
              "                        0.2019,  0.2847],\n",
              "                      [-0.1495,  0.1344, -0.0740,  0.2006, -0.0475, -0.2514, -0.3130, -0.0118,\n",
              "                        0.0932, -0.1864],\n",
              "                      [ 0.2488,  0.1500,  0.1907,  0.1457, -0.3050, -0.0580,  0.1643,  0.1565,\n",
              "                       -0.2877, -0.1792],\n",
              "                      [ 0.2305, -0.2618,  0.2397, -0.0610,  0.0232,  0.1542,  0.0851, -0.2027,\n",
              "                        0.1030, -0.2715],\n",
              "                      [-0.1596, -0.0555, -0.0633,  0.2302, -0.1726,  0.2654,  0.1473,  0.1029,\n",
              "                        0.2252, -0.2160],\n",
              "                      [-0.2725,  0.0118,  0.1559,  0.1596,  0.0132,  0.3024,  0.1124,  0.1366,\n",
              "                       -0.1533,  0.0965],\n",
              "                      [-0.1184, -0.2555, -0.2057, -0.1909, -0.0477, -0.1324,  0.2905,  0.1307,\n",
              "                       -0.2629,  0.0133],\n",
              "                      [ 0.2727, -0.0127,  0.0513,  0.0863, -0.1043, -0.2047, -0.1185, -0.0825,\n",
              "                        0.2488, -0.2571],\n",
              "                      [ 0.0425, -0.1209, -0.0336, -0.0281, -0.1227,  0.0730,  0.0747, -0.1816,\n",
              "                        0.1943,  0.2853],\n",
              "                      [-0.1310,  0.0645, -0.1171,  0.2168, -0.0245, -0.2820,  0.0736,  0.2621,\n",
              "                        0.0012, -0.0810]])),\n",
              "             ('layer_stack.2.bias',\n",
              "              tensor([-0.0087,  0.1791,  0.2712, -0.0791,  0.1685,  0.1762,  0.2825,  0.2266,\n",
              "                      -0.2612, -0.2613]))])"
            ]
          },
          "metadata": {},
          "execution_count": 21
        }
      ],
      "source": [
        "model_0.state_dict()"
      ]
    },
    {
      "cell_type": "code",
      "execution_count": null,
      "metadata": {
        "colab": {
          "base_uri": "https://localhost:8080/"
        },
        "id": "cK1j4JEho0rQ",
        "outputId": "0a6a3d0a-c154-4ad6-e0ec-1500d988c5a8"
      },
      "outputs": [
        {
          "output_type": "stream",
          "name": "stdout",
          "text": [
            "Downloading helper_functions.py\n"
          ]
        }
      ],
      "source": [
        "import requests\n",
        "from pathlib import Path\n",
        "\n",
        "if Path(\"helper_functions.py\").is_file():\n",
        "  print(\"helper function exist\")\n",
        "else:\n",
        "  print(\"Downloading helper_functions.py\")\n",
        "  request = requests.get(\"https://raw.githubusercontent.com/mrdbourke/pytorch-deep-learning/main/helper_functions.py\")\n",
        "  with open('helper_functions.py', 'wb') as f:\n",
        "    f.write(request.content)"
      ]
    },
    {
      "cell_type": "code",
      "execution_count": null,
      "metadata": {
        "id": "c8GPOGnno0nw"
      },
      "outputs": [],
      "source": [
        "# import Accuracy metrics\n",
        "from helper_functions import accuracy_fn\n",
        "\n",
        "loss_fn = nn.CrossEntropyLoss()\n",
        "optimizer = torch.optim.SGD(params=model_0.parameters(),\n",
        "                         lr=0.1)\n",
        "\n"
      ]
    },
    {
      "cell_type": "code",
      "execution_count": null,
      "metadata": {
        "id": "cjEBjpAN1h2U"
      },
      "outputs": [],
      "source": [
        "# Track model performance with respect to time"
      ]
    },
    {
      "cell_type": "code",
      "execution_count": null,
      "metadata": {
        "id": "VqUX8vYe2Q4e"
      },
      "outputs": [],
      "source": [
        "from timeit import default_timer as timer\n",
        "def print_train_time(\n",
        "    start: float,\n",
        "    end: float,\n",
        "    device: torch.device=None):\n",
        "  total_time = end - start\n",
        "  print(f\"train time on {device}: {total_time:.3f} seconds\")\n",
        "  return total_time"
      ]
    },
    {
      "cell_type": "code",
      "execution_count": null,
      "metadata": {
        "colab": {
          "base_uri": "https://localhost:8080/"
        },
        "id": "Go3EfxVV3BM5",
        "outputId": "f5e1886a-37cc-47d6-aa13-3db6c1b87f73"
      },
      "outputs": [
        {
          "output_type": "stream",
          "name": "stdout",
          "text": [
            "train time on cpu: 0.000 seconds\n"
          ]
        },
        {
          "output_type": "execute_result",
          "data": {
            "text/plain": [
              "4.2937000003462344e-05"
            ]
          },
          "metadata": {},
          "execution_count": 26
        }
      ],
      "source": [
        "start_time = timer()\n",
        "end_time =  timer()\n",
        "print_train_time(start_time, end=end_time, device=\"cpu\")"
      ]
    },
    {
      "cell_type": "markdown",
      "metadata": {
        "id": "gEIz4knR4ESM"
      },
      "source": [
        "**Creating a Training loop and Training a model on batches of data**\n",
        "\n",
        "1. Loop through epochs\n",
        "2. Loop through, training batches, perfrom training steps, calculate train loss\n",
        "3. Loop through test batches, perform testing steps, calculate test loss\n",
        "4. Print out what's happening\n",
        "5. Time it all."
      ]
    },
    {
      "cell_type": "code",
      "execution_count": null,
      "metadata": {
        "colab": {
          "base_uri": "https://localhost:8080/",
          "height": 275,
          "referenced_widgets": [
            "b04375e478b94f50ae662e0e6b467536",
            "0164824d752c4da6b7492fc8d0e58798",
            "5fca9beda70b4ff8a3d4f44d6ed094a5",
            "af0786c98c4948be97705bec17f81f71",
            "02cc453a431240c59e37b9ea1f23f3fa",
            "8dd2daa2a5be4c61a5f3b9197960c4ba",
            "4b4bea71e09e46dca61e1d61fb19ef3a",
            "42ab2c1315b64c458c99a4c589620f9b",
            "2390ff1790ec4cc88722a738a4465e26",
            "bf366a2eb8f0483a9d6325ec76427871",
            "c4b1da390c0f488383e08dce95730f91"
          ]
        },
        "id": "SaBeHzfe3T8Y",
        "outputId": "19984936-5784-4b99-823f-b905cb2e139d"
      },
      "outputs": [
        {
          "output_type": "display_data",
          "data": {
            "text/plain": [
              "  0%|          | 0/3 [00:00<?, ?it/s]"
            ],
            "application/vnd.jupyter.widget-view+json": {
              "version_major": 2,
              "version_minor": 0,
              "model_id": "b04375e478b94f50ae662e0e6b467536"
            }
          },
          "metadata": {}
        },
        {
          "output_type": "stream",
          "name": "stdout",
          "text": [
            "Epoch: 0\n",
            "------\n",
            "\n",
            "Train loss: 0.5904 | Test loss: 0.5095 | Test acc: 82.0387\n",
            "Epoch: 1\n",
            "------\n",
            "\n",
            "Train loss: 0.4763 | Test loss: 0.4799 | Test acc: 83.1969\n",
            "Epoch: 2\n",
            "------\n",
            "\n",
            "Train loss: 0.4550 | Test loss: 0.4766 | Test acc: 83.4265\n",
            "train time on cpu: 26.541 seconds\n"
          ]
        }
      ],
      "source": [
        "# import tqdm for a progress bar\n",
        "\n",
        "from tqdm.auto import tqdm\n",
        "\n",
        "# set the seed and start timer\n",
        "torch.manual_seed(42)\n",
        "train_time_start_on_cpu = timer()\n",
        "\n",
        "# set the epochs small for faster training timer\n",
        "epochs = 3\n",
        "\n",
        "# create training and test loop\n",
        "for epoch in tqdm(range(epochs)):\n",
        "  print(f\"Epoch: {epoch}\\n------\")\n",
        "  ### Training\n",
        "  train_loss = 0\n",
        "  # Add a loop to loop through the training batches\n",
        "  for batch, (X, y) in enumerate(train_dataloader):\n",
        "    model_0.train()\n",
        "\n",
        "    # 1. Forward pass\n",
        "    y_pred = model_0(X)\n",
        "\n",
        "    #2. Calculate loss (per batch)\n",
        "    loss = loss_fn(y_pred, y)\n",
        "    train_loss += loss\n",
        "\n",
        "    #3. optimizer zero grad\n",
        "    optimizer.zero_grad()\n",
        "\n",
        "    #4. Loss backward\n",
        "    loss.backward()\n",
        "\n",
        "    #5. optimizer step\n",
        "    optimizer.step()\n",
        "    # print out what's happening\n",
        "    if epochs % 400 == 0:\n",
        "      print(f\"Looked at {batch * len(X)}/{len(train_dataloader.dataset)} samples.\")\n",
        "  # Divide total train loss by length of train dataloader\n",
        "  train_loss /= len(train_dataloader)\n",
        "\n",
        "  ## Testing\n",
        "  test_loss, test_acc = 0, 0\n",
        "  with torch.inference_mode():\n",
        "    for X_test, y_test in test_dataloader:\n",
        "      #1. Forward pass\n",
        "      test_pred = model_0(X_test)\n",
        "\n",
        "      #2. Calculate loss (accumulatively)\n",
        "      test_loss += loss_fn(test_pred, y_test)\n",
        "\n",
        "      #3. Calculate accuracy\n",
        "      test_acc += accuracy_fn(y_true=y_test, y_pred=test_pred.argmax(dim=1))\n",
        "\n",
        "    # Calculate test loss avg per batch\n",
        "    test_loss /= len(test_dataloader)\n",
        "\n",
        "    # Calculate test acc avg per batch\n",
        "    test_acc /=  len(test_dataloader)\n",
        "\n",
        "  # Print out what's happening\n",
        "  print(f\"\\nTrain loss: {train_loss:.4f} | Test loss: {test_loss:.4f} | Test acc: {test_acc:.4f}\")\n",
        "\n",
        "# Calculate train time\n",
        "train_time_end_on_cpu = timer()\n",
        "total_train_time_model_0 = print_train_time(start=train_time_start_on_cpu,\n",
        "                                            end=train_time_end_on_cpu,\n",
        "                                            device=str(next(model_0.parameters()).device))\n"
      ]
    },
    {
      "cell_type": "code",
      "execution_count": null,
      "metadata": {
        "colab": {
          "base_uri": "https://localhost:8080/"
        },
        "id": "NYQwxCr__NjA",
        "outputId": "211444ac-6d0c-44e4-813d-3197411ac75f"
      },
      "outputs": [
        {
          "output_type": "execute_result",
          "data": {
            "text/plain": [
              "{'model_name': 'FashionMNISTModelV0',\n",
              " 'model_loss': 0.47663888335227966,\n",
              " 'model_acc': 83.42651757188499}"
            ]
          },
          "metadata": {},
          "execution_count": 28
        }
      ],
      "source": [
        "torch.manual_seed(42)\n",
        "def eval_model(model: torch.nn.Module,\n",
        "               data_loader: torch.utils.data.DataLoader,\n",
        "               loss_fn: torch.nn.Module,\n",
        "               accuracy_fn):\n",
        "  loss, acc = 0,0\n",
        "  model.eval()\n",
        "  with torch.inference_mode():\n",
        "    for X, y in data_loader:\n",
        "      y_pred = model(X)\n",
        "\n",
        "      loss += loss_fn(y_pred, y)\n",
        "      acc += accuracy_fn(y_true=y, y_pred=y_pred.argmax(dim=1))\n",
        "\n",
        "    loss /= len(data_loader)\n",
        "    acc /= len(data_loader)\n",
        "\n",
        "  return {\"model_name\": model.__class__.__name__,\n",
        "          \"model_loss\": loss.item(),\n",
        "          \"model_acc\": acc}\n",
        "\n",
        "model_0_results = eval_model(model=model_0,\n",
        "                             data_loader=test_dataloader,\n",
        "                             loss_fn=loss_fn,\n",
        "                             accuracy_fn=accuracy_fn)\n",
        "model_0_results"
      ]
    },
    {
      "cell_type": "code",
      "execution_count": null,
      "metadata": {
        "colab": {
          "base_uri": "https://localhost:8080/",
          "height": 35
        },
        "id": "6913e-vO1Wk_",
        "outputId": "311bb9d7-5fde-41d1-f770-6070e21a4506"
      },
      "outputs": [
        {
          "output_type": "execute_result",
          "data": {
            "text/plain": [
              "'cuda'"
            ],
            "application/vnd.google.colaboratory.intrinsic+json": {
              "type": "string"
            }
          },
          "metadata": {},
          "execution_count": 29
        }
      ],
      "source": [
        "device = \"cuda\" if torch.cuda.is_available() else 'cpu'\n",
        "device"
      ]
    },
    {
      "cell_type": "code",
      "execution_count": null,
      "metadata": {
        "id": "RgbPogMj4RYZ"
      },
      "outputs": [],
      "source": [
        "class ModelV1(nn.Module):\n",
        "\n",
        "  def __init__(self,\n",
        "               input_shape: int,\n",
        "               hidden_units: int,\n",
        "               output_shape: int):\n",
        "    super().__init__()\n",
        "\n",
        "    self.layer_stack = nn.Sequential(\n",
        "      nn.Flatten(),\n",
        "      nn.Linear(in_features=input_shape,\n",
        "                out_features=hidden_units),\n",
        "      nn.ReLU(),\n",
        "      nn.Linear(in_features=hidden_units,\n",
        "                out_features=output_shape),\n",
        "      nn.ReLU()\n",
        "    )\n",
        "\n",
        "  def forward(self, x: torch.Tensor):\n",
        "    return self.layer_stack(x)"
      ]
    },
    {
      "cell_type": "code",
      "execution_count": null,
      "metadata": {
        "colab": {
          "base_uri": "https://localhost:8080/"
        },
        "id": "xWQ_Wc0t651i",
        "outputId": "128c5e49-de6f-44c4-a3dd-0d919998d101"
      },
      "outputs": [
        {
          "output_type": "execute_result",
          "data": {
            "text/plain": [
              "device(type='cuda', index=0)"
            ]
          },
          "metadata": {},
          "execution_count": 31
        }
      ],
      "source": [
        "torch.manual_seed(42)\n",
        "model_1 = ModelV1(input_shape=784,\n",
        "                  hidden_units=10,\n",
        "                  output_shape=len(class_names)).to(device)\n",
        "next(model_1.parameters()).device"
      ]
    },
    {
      "cell_type": "code",
      "execution_count": null,
      "metadata": {
        "id": "9fjDfzCl7UDa"
      },
      "outputs": [],
      "source": [
        "from helper_functions import accuracy_fn\n",
        "loss_fn = nn.CrossEntropyLoss()\n",
        "optimizer = torch.optim.SGD(params=model_1.parameters(),\n",
        "                            lr=0.1)"
      ]
    },
    {
      "cell_type": "code",
      "execution_count": null,
      "metadata": {
        "id": "FSxdq9r98hrp"
      },
      "outputs": [],
      "source": [
        "def train_step(model: torch.nn.Module,\n",
        "               data_loader: torch.utils.data.DataLoader,\n",
        "               loss_fn: torch.nn.Module,\n",
        "               optimizer: torch.optim.Optimizer,\n",
        "               accuracy_fn,\n",
        "               device: torch.device = device):\n",
        "  train_loss, train_acc = 0, 0\n",
        "\n",
        "  model.train()\n",
        "\n",
        "\n",
        "  for batch, (X, y) in enumerate(data_loader):\n",
        "\n",
        "    X, y = X.to(device), y.to(device)\n",
        "\n",
        "    # 1. Forward pass\n",
        "    y_pred = model(X)\n",
        "\n",
        "    #2. Calculate loss (per batch)\n",
        "    loss = loss_fn(y_pred, y)\n",
        "    train_loss += loss\n",
        "    train_acc += accuracy_fn(y_true=y,\n",
        "                             y_pred=y_pred.argmax(dim=1))\n",
        "\n",
        "    #3. optimizer zero grad\n",
        "    optimizer.zero_grad()\n",
        "\n",
        "    #4. Loss backward\n",
        "    loss.backward()\n",
        "\n",
        "    #5. optimizer step\n",
        "    optimizer.step()\n",
        "\n",
        "  train_loss /= len(data_loader)\n",
        "  train_acc /=  len(data_loader)\n",
        "  print(f\"Train loss: {train_loss:.5f} | Train acc: {train_acc:.2f}%\")"
      ]
    },
    {
      "cell_type": "code",
      "execution_count": null,
      "metadata": {
        "id": "8uJuTTmt_hI3"
      },
      "outputs": [],
      "source": [
        "def test_step(model: torch.nn.Module,\n",
        "            data_loader: torch.utils.data.DataLoader,\n",
        "            accuracy_fn,\n",
        "            loss_fn: torch.nn.Module,\n",
        "            device: torch.device = device):\n",
        "\n",
        "  test_loss, test_acc = 0, 0\n",
        "\n",
        "  model.eval()\n",
        "\n",
        "  with torch.inference_mode():\n",
        "    for X, y in data_loader:\n",
        "      X, y = X.to(device), y.to(device)\n",
        "      #1. Forward pass\n",
        "      test_pred = model(X)\n",
        "\n",
        "      #2. Calculate loss (accumulatively)\n",
        "      test_loss += loss_fn(test_pred, y)\n",
        "      test_acc += accuracy_fn(y_true=y,\n",
        "                              y_pred=test_pred.argmax(dim=1))\n",
        "\n",
        "\n",
        "    test_loss /= len(data_loader)\n",
        "    test_acc /=  len(data_loader)\n",
        "    print(f\"Test loss: {test_loss:.5f} | Test acc: {test_acc:.2f}%\\n\")"
      ]
    },
    {
      "cell_type": "code",
      "execution_count": null,
      "metadata": {
        "colab": {
          "base_uri": "https://localhost:8080/",
          "height": 361,
          "referenced_widgets": [
            "975115ba3b4c4e8a9f0f0c957ab4f2db",
            "e562830aa90842439724ec36730cee8c",
            "af03b346dfea4d77bab233fa23c584f0",
            "807fe4a61a554d039d00ece13fd8a95b",
            "32282053a5274e418552f68e3e70df22",
            "42b9db0a6bb04fd5964d1bba5dfb84bc",
            "837c106bd3c64d29bdd71382439f7813",
            "18d67387bd78481387c6648557f7ff86",
            "933df7654a924fe680a3b102d9daad4d",
            "e19627f01b234ee3b523953324a19e0e",
            "36032e2b94e84cada27bd67c5020a901"
          ]
        },
        "id": "U_OIhNxcpb5I",
        "outputId": "fca41cb6-d990-41b0-d58b-36fe5bd75f2a"
      },
      "outputs": [
        {
          "output_type": "display_data",
          "data": {
            "text/plain": [
              "  0%|          | 0/3 [00:00<?, ?it/s]"
            ],
            "application/vnd.jupyter.widget-view+json": {
              "version_major": 2,
              "version_minor": 0,
              "model_id": "975115ba3b4c4e8a9f0f0c957ab4f2db"
            }
          },
          "metadata": {}
        },
        {
          "output_type": "stream",
          "name": "stdout",
          "text": [
            "Epoch: 0\n",
            "------------\n",
            "Train loss: 1.09199 | Train acc: 61.34%\n",
            "Test loss: 0.95636 | Test acc: 65.00%\n",
            "\n",
            "train time on cuda: 11.051 seconds\n",
            "Epoch: 1\n",
            "------------\n",
            "Train loss: 0.78101 | Train acc: 71.93%\n",
            "Test loss: 0.72227 | Test acc: 73.91%\n",
            "\n",
            "train time on cuda: 20.628 seconds\n",
            "Epoch: 2\n",
            "------------\n",
            "Train loss: 0.67027 | Train acc: 75.94%\n",
            "Test loss: 0.68500 | Test acc: 75.02%\n",
            "\n",
            "train time on cuda: 30.281 seconds\n"
          ]
        }
      ],
      "source": [
        "torch.manual_seed(42)\n",
        "\n",
        "from timeit import default_timer as timer\n",
        "train_time_start_on_gpu = timer()\n",
        "\n",
        "epochs = 3\n",
        "\n",
        "for epoch in tqdm(range(epochs)):\n",
        "  print(f\"Epoch: {epoch}\\n------------\")\n",
        "  train_step(model=model_1,\n",
        "             data_loader=train_dataloader,\n",
        "             loss_fn=loss_fn,\n",
        "             optimizer=optimizer,\n",
        "             accuracy_fn=accuracy_fn,\n",
        "             device=device)\n",
        "  test_step(model=model_1,\n",
        "            data_loader=test_dataloader,\n",
        "            accuracy_fn=accuracy_fn,\n",
        "            loss_fn=loss_fn,\n",
        "            device=device)\n",
        "  train_time_end_on_gpu = timer()\n",
        "  total_train_time_model_1 = print_train_time(start=train_time_start_on_gpu,\n",
        "                                              end=train_time_end_on_gpu,\n",
        "                                              device=device)"
      ]
    },
    {
      "cell_type": "code",
      "execution_count": null,
      "metadata": {
        "colab": {
          "base_uri": "https://localhost:8080/"
        },
        "id": "f7SM_KL4simI",
        "outputId": "b664938b-d0d9-4341-8832-2766caaa8d54"
      },
      "outputs": [
        {
          "output_type": "execute_result",
          "data": {
            "text/plain": [
              "{'model_name': 'FashionMNISTModelV0',\n",
              " 'model_loss': 0.47663888335227966,\n",
              " 'model_acc': 83.42651757188499}"
            ]
          },
          "metadata": {},
          "execution_count": 36
        }
      ],
      "source": [
        "model_0_results"
      ]
    },
    {
      "cell_type": "code",
      "execution_count": null,
      "metadata": {
        "colab": {
          "base_uri": "https://localhost:8080/"
        },
        "id": "BBKvj0FDslMe",
        "outputId": "08b7c399-f673-41d4-bdaa-77d2ca4dd229"
      },
      "outputs": [
        {
          "output_type": "execute_result",
          "data": {
            "text/plain": [
              "26.54077511700001"
            ]
          },
          "metadata": {},
          "execution_count": 37
        }
      ],
      "source": [
        "total_train_time_model_0"
      ]
    },
    {
      "cell_type": "code",
      "execution_count": null,
      "metadata": {
        "colab": {
          "base_uri": "https://localhost:8080/",
          "height": 101,
          "referenced_widgets": [
            "be518f3b2c5b4427a6e640ad34d9deea",
            "205588f8e7f742ea90a97635d87ec89c",
            "e2d551132f29404e85600189bd4ca750",
            "036d83c0c99e494c888c0338fa4aaf64",
            "f590f9264d2d4826820ea26e4dd696a6",
            "bb7e9b155b194cb5b6b90bb623b46b8b",
            "54ac26ac984348d1b9d4a2167b1518bf",
            "e97e43489d514e3d8aa142b92801e688",
            "4cbb1c3347c944eab6ac26e6a959d128",
            "398358f8b70f44b0858bc215fada8d92",
            "6a44f3b31c5149e7889404ec708e5bf8"
          ]
        },
        "id": "QDgLwRtBs-vf",
        "outputId": "c29300ff-0b13-4181-e7f5-aa5c63527619"
      },
      "outputs": [
        {
          "output_type": "display_data",
          "data": {
            "text/plain": [
              "  0%|          | 0/313 [00:00<?, ?it/s]"
            ],
            "application/vnd.jupyter.widget-view+json": {
              "version_major": 2,
              "version_minor": 0,
              "model_id": "be518f3b2c5b4427a6e640ad34d9deea"
            }
          },
          "metadata": {}
        },
        {
          "output_type": "execute_result",
          "data": {
            "text/plain": [
              "{'model_name': 'ModelV1',\n",
              " 'model_loss': 0.6850008964538574,\n",
              " 'model_acc': 75.01996805111821}"
            ]
          },
          "metadata": {},
          "execution_count": 38
        }
      ],
      "source": [
        "torch.manual_seed(42)\n",
        "def eval_model(model: torch.nn.Module,\n",
        "               data_loader: torch.utils.data.DataLoader,\n",
        "               loss_fn: torch.nn.Module,\n",
        "               accuracy_fn,\n",
        "               device=device):\n",
        "  loss, acc = 0,0\n",
        "  model.eval()\n",
        "  with torch.inference_mode():\n",
        "    for X, y in tqdm(data_loader):\n",
        "      X, y = X.to(device), y.to(device)\n",
        "      y_pred = model(X)\n",
        "\n",
        "      loss += loss_fn(y_pred, y)\n",
        "      acc += accuracy_fn(y_true=y, y_pred=y_pred.argmax(dim=1))\n",
        "\n",
        "    loss /= len(data_loader)\n",
        "    acc /= len(data_loader)\n",
        "\n",
        "  return {\"model_name\": model.__class__.__name__,\n",
        "          \"model_loss\": loss.item(),\n",
        "          \"model_acc\": acc}\n",
        "\n",
        "model_1_results = eval_model(model=model_1,\n",
        "                             data_loader=test_dataloader,\n",
        "                             loss_fn=loss_fn,\n",
        "                             accuracy_fn=accuracy_fn,\n",
        "                             device=device)\n",
        "model_1_results"
      ]
    },
    {
      "cell_type": "code",
      "execution_count": null,
      "metadata": {
        "colab": {
          "base_uri": "https://localhost:8080/",
          "height": 143
        },
        "id": "QOeNv9sYvGgr",
        "outputId": "85fc0c4e-9b64-4f81-8089-7721dcc5736e"
      },
      "outputs": [
        {
          "output_type": "execute_result",
          "data": {
            "text/plain": [
              "              model_1              model_0\n",
              "model_name    ModelV1  FashionMNISTModelV0\n",
              "model_loss   0.685001             0.476639\n",
              "model_acc   75.019968            83.426518"
            ],
            "text/html": [
              "\n",
              "  <div id=\"df-9575c7b3-efe1-4a5e-9dd8-21c2e5112191\" class=\"colab-df-container\">\n",
              "    <div>\n",
              "<style scoped>\n",
              "    .dataframe tbody tr th:only-of-type {\n",
              "        vertical-align: middle;\n",
              "    }\n",
              "\n",
              "    .dataframe tbody tr th {\n",
              "        vertical-align: top;\n",
              "    }\n",
              "\n",
              "    .dataframe thead th {\n",
              "        text-align: right;\n",
              "    }\n",
              "</style>\n",
              "<table border=\"1\" class=\"dataframe\">\n",
              "  <thead>\n",
              "    <tr style=\"text-align: right;\">\n",
              "      <th></th>\n",
              "      <th>model_1</th>\n",
              "      <th>model_0</th>\n",
              "    </tr>\n",
              "  </thead>\n",
              "  <tbody>\n",
              "    <tr>\n",
              "      <th>model_name</th>\n",
              "      <td>ModelV1</td>\n",
              "      <td>FashionMNISTModelV0</td>\n",
              "    </tr>\n",
              "    <tr>\n",
              "      <th>model_loss</th>\n",
              "      <td>0.685001</td>\n",
              "      <td>0.476639</td>\n",
              "    </tr>\n",
              "    <tr>\n",
              "      <th>model_acc</th>\n",
              "      <td>75.019968</td>\n",
              "      <td>83.426518</td>\n",
              "    </tr>\n",
              "  </tbody>\n",
              "</table>\n",
              "</div>\n",
              "    <div class=\"colab-df-buttons\">\n",
              "\n",
              "  <div class=\"colab-df-container\">\n",
              "    <button class=\"colab-df-convert\" onclick=\"convertToInteractive('df-9575c7b3-efe1-4a5e-9dd8-21c2e5112191')\"\n",
              "            title=\"Convert this dataframe to an interactive table.\"\n",
              "            style=\"display:none;\">\n",
              "\n",
              "  <svg xmlns=\"http://www.w3.org/2000/svg\" height=\"24px\" viewBox=\"0 -960 960 960\">\n",
              "    <path d=\"M120-120v-720h720v720H120Zm60-500h600v-160H180v160Zm220 220h160v-160H400v160Zm0 220h160v-160H400v160ZM180-400h160v-160H180v160Zm440 0h160v-160H620v160ZM180-180h160v-160H180v160Zm440 0h160v-160H620v160Z\"/>\n",
              "  </svg>\n",
              "    </button>\n",
              "\n",
              "  <style>\n",
              "    .colab-df-container {\n",
              "      display:flex;\n",
              "      gap: 12px;\n",
              "    }\n",
              "\n",
              "    .colab-df-convert {\n",
              "      background-color: #E8F0FE;\n",
              "      border: none;\n",
              "      border-radius: 50%;\n",
              "      cursor: pointer;\n",
              "      display: none;\n",
              "      fill: #1967D2;\n",
              "      height: 32px;\n",
              "      padding: 0 0 0 0;\n",
              "      width: 32px;\n",
              "    }\n",
              "\n",
              "    .colab-df-convert:hover {\n",
              "      background-color: #E2EBFA;\n",
              "      box-shadow: 0px 1px 2px rgba(60, 64, 67, 0.3), 0px 1px 3px 1px rgba(60, 64, 67, 0.15);\n",
              "      fill: #174EA6;\n",
              "    }\n",
              "\n",
              "    .colab-df-buttons div {\n",
              "      margin-bottom: 4px;\n",
              "    }\n",
              "\n",
              "    [theme=dark] .colab-df-convert {\n",
              "      background-color: #3B4455;\n",
              "      fill: #D2E3FC;\n",
              "    }\n",
              "\n",
              "    [theme=dark] .colab-df-convert:hover {\n",
              "      background-color: #434B5C;\n",
              "      box-shadow: 0px 1px 3px 1px rgba(0, 0, 0, 0.15);\n",
              "      filter: drop-shadow(0px 1px 2px rgba(0, 0, 0, 0.3));\n",
              "      fill: #FFFFFF;\n",
              "    }\n",
              "  </style>\n",
              "\n",
              "    <script>\n",
              "      const buttonEl =\n",
              "        document.querySelector('#df-9575c7b3-efe1-4a5e-9dd8-21c2e5112191 button.colab-df-convert');\n",
              "      buttonEl.style.display =\n",
              "        google.colab.kernel.accessAllowed ? 'block' : 'none';\n",
              "\n",
              "      async function convertToInteractive(key) {\n",
              "        const element = document.querySelector('#df-9575c7b3-efe1-4a5e-9dd8-21c2e5112191');\n",
              "        const dataTable =\n",
              "          await google.colab.kernel.invokeFunction('convertToInteractive',\n",
              "                                                    [key], {});\n",
              "        if (!dataTable) return;\n",
              "\n",
              "        const docLinkHtml = 'Like what you see? Visit the ' +\n",
              "          '<a target=\"_blank\" href=https://colab.research.google.com/notebooks/data_table.ipynb>data table notebook</a>'\n",
              "          + ' to learn more about interactive tables.';\n",
              "        element.innerHTML = '';\n",
              "        dataTable['output_type'] = 'display_data';\n",
              "        await google.colab.output.renderOutput(dataTable, element);\n",
              "        const docLink = document.createElement('div');\n",
              "        docLink.innerHTML = docLinkHtml;\n",
              "        element.appendChild(docLink);\n",
              "      }\n",
              "    </script>\n",
              "  </div>\n",
              "\n",
              "\n",
              "<div id=\"df-3ea66449-71b8-40e0-a462-d4b30cc5c237\">\n",
              "  <button class=\"colab-df-quickchart\" onclick=\"quickchart('df-3ea66449-71b8-40e0-a462-d4b30cc5c237')\"\n",
              "            title=\"Suggest charts\"\n",
              "            style=\"display:none;\">\n",
              "\n",
              "<svg xmlns=\"http://www.w3.org/2000/svg\" height=\"24px\"viewBox=\"0 0 24 24\"\n",
              "     width=\"24px\">\n",
              "    <g>\n",
              "        <path d=\"M19 3H5c-1.1 0-2 .9-2 2v14c0 1.1.9 2 2 2h14c1.1 0 2-.9 2-2V5c0-1.1-.9-2-2-2zM9 17H7v-7h2v7zm4 0h-2V7h2v10zm4 0h-2v-4h2v4z\"/>\n",
              "    </g>\n",
              "</svg>\n",
              "  </button>\n",
              "\n",
              "<style>\n",
              "  .colab-df-quickchart {\n",
              "      --bg-color: #E8F0FE;\n",
              "      --fill-color: #1967D2;\n",
              "      --hover-bg-color: #E2EBFA;\n",
              "      --hover-fill-color: #174EA6;\n",
              "      --disabled-fill-color: #AAA;\n",
              "      --disabled-bg-color: #DDD;\n",
              "  }\n",
              "\n",
              "  [theme=dark] .colab-df-quickchart {\n",
              "      --bg-color: #3B4455;\n",
              "      --fill-color: #D2E3FC;\n",
              "      --hover-bg-color: #434B5C;\n",
              "      --hover-fill-color: #FFFFFF;\n",
              "      --disabled-bg-color: #3B4455;\n",
              "      --disabled-fill-color: #666;\n",
              "  }\n",
              "\n",
              "  .colab-df-quickchart {\n",
              "    background-color: var(--bg-color);\n",
              "    border: none;\n",
              "    border-radius: 50%;\n",
              "    cursor: pointer;\n",
              "    display: none;\n",
              "    fill: var(--fill-color);\n",
              "    height: 32px;\n",
              "    padding: 0;\n",
              "    width: 32px;\n",
              "  }\n",
              "\n",
              "  .colab-df-quickchart:hover {\n",
              "    background-color: var(--hover-bg-color);\n",
              "    box-shadow: 0 1px 2px rgba(60, 64, 67, 0.3), 0 1px 3px 1px rgba(60, 64, 67, 0.15);\n",
              "    fill: var(--button-hover-fill-color);\n",
              "  }\n",
              "\n",
              "  .colab-df-quickchart-complete:disabled,\n",
              "  .colab-df-quickchart-complete:disabled:hover {\n",
              "    background-color: var(--disabled-bg-color);\n",
              "    fill: var(--disabled-fill-color);\n",
              "    box-shadow: none;\n",
              "  }\n",
              "\n",
              "  .colab-df-spinner {\n",
              "    border: 2px solid var(--fill-color);\n",
              "    border-color: transparent;\n",
              "    border-bottom-color: var(--fill-color);\n",
              "    animation:\n",
              "      spin 1s steps(1) infinite;\n",
              "  }\n",
              "\n",
              "  @keyframes spin {\n",
              "    0% {\n",
              "      border-color: transparent;\n",
              "      border-bottom-color: var(--fill-color);\n",
              "      border-left-color: var(--fill-color);\n",
              "    }\n",
              "    20% {\n",
              "      border-color: transparent;\n",
              "      border-left-color: var(--fill-color);\n",
              "      border-top-color: var(--fill-color);\n",
              "    }\n",
              "    30% {\n",
              "      border-color: transparent;\n",
              "      border-left-color: var(--fill-color);\n",
              "      border-top-color: var(--fill-color);\n",
              "      border-right-color: var(--fill-color);\n",
              "    }\n",
              "    40% {\n",
              "      border-color: transparent;\n",
              "      border-right-color: var(--fill-color);\n",
              "      border-top-color: var(--fill-color);\n",
              "    }\n",
              "    60% {\n",
              "      border-color: transparent;\n",
              "      border-right-color: var(--fill-color);\n",
              "    }\n",
              "    80% {\n",
              "      border-color: transparent;\n",
              "      border-right-color: var(--fill-color);\n",
              "      border-bottom-color: var(--fill-color);\n",
              "    }\n",
              "    90% {\n",
              "      border-color: transparent;\n",
              "      border-bottom-color: var(--fill-color);\n",
              "    }\n",
              "  }\n",
              "</style>\n",
              "\n",
              "  <script>\n",
              "    async function quickchart(key) {\n",
              "      const quickchartButtonEl =\n",
              "        document.querySelector('#' + key + ' button');\n",
              "      quickchartButtonEl.disabled = true;  // To prevent multiple clicks.\n",
              "      quickchartButtonEl.classList.add('colab-df-spinner');\n",
              "      try {\n",
              "        const charts = await google.colab.kernel.invokeFunction(\n",
              "            'suggestCharts', [key], {});\n",
              "      } catch (error) {\n",
              "        console.error('Error during call to suggestCharts:', error);\n",
              "      }\n",
              "      quickchartButtonEl.classList.remove('colab-df-spinner');\n",
              "      quickchartButtonEl.classList.add('colab-df-quickchart-complete');\n",
              "    }\n",
              "    (() => {\n",
              "      let quickchartButtonEl =\n",
              "        document.querySelector('#df-3ea66449-71b8-40e0-a462-d4b30cc5c237 button');\n",
              "      quickchartButtonEl.style.display =\n",
              "        google.colab.kernel.accessAllowed ? 'block' : 'none';\n",
              "    })();\n",
              "  </script>\n",
              "</div>\n",
              "\n",
              "  <div id=\"id_611ad83b-52a8-4acc-b3a3-27101dd3a636\">\n",
              "    <style>\n",
              "      .colab-df-generate {\n",
              "        background-color: #E8F0FE;\n",
              "        border: none;\n",
              "        border-radius: 50%;\n",
              "        cursor: pointer;\n",
              "        display: none;\n",
              "        fill: #1967D2;\n",
              "        height: 32px;\n",
              "        padding: 0 0 0 0;\n",
              "        width: 32px;\n",
              "      }\n",
              "\n",
              "      .colab-df-generate:hover {\n",
              "        background-color: #E2EBFA;\n",
              "        box-shadow: 0px 1px 2px rgba(60, 64, 67, 0.3), 0px 1px 3px 1px rgba(60, 64, 67, 0.15);\n",
              "        fill: #174EA6;\n",
              "      }\n",
              "\n",
              "      [theme=dark] .colab-df-generate {\n",
              "        background-color: #3B4455;\n",
              "        fill: #D2E3FC;\n",
              "      }\n",
              "\n",
              "      [theme=dark] .colab-df-generate:hover {\n",
              "        background-color: #434B5C;\n",
              "        box-shadow: 0px 1px 3px 1px rgba(0, 0, 0, 0.15);\n",
              "        filter: drop-shadow(0px 1px 2px rgba(0, 0, 0, 0.3));\n",
              "        fill: #FFFFFF;\n",
              "      }\n",
              "    </style>\n",
              "    <button class=\"colab-df-generate\" onclick=\"generateWithVariable('df')\"\n",
              "            title=\"Generate code using this dataframe.\"\n",
              "            style=\"display:none;\">\n",
              "\n",
              "  <svg xmlns=\"http://www.w3.org/2000/svg\" height=\"24px\"viewBox=\"0 0 24 24\"\n",
              "       width=\"24px\">\n",
              "    <path d=\"M7,19H8.4L18.45,9,17,7.55,7,17.6ZM5,21V16.75L18.45,3.32a2,2,0,0,1,2.83,0l1.4,1.43a1.91,1.91,0,0,1,.58,1.4,1.91,1.91,0,0,1-.58,1.4L9.25,21ZM18.45,9,17,7.55Zm-12,3A5.31,5.31,0,0,0,4.9,8.1,5.31,5.31,0,0,0,1,6.5,5.31,5.31,0,0,0,4.9,4.9,5.31,5.31,0,0,0,6.5,1,5.31,5.31,0,0,0,8.1,4.9,5.31,5.31,0,0,0,12,6.5,5.46,5.46,0,0,0,6.5,12Z\"/>\n",
              "  </svg>\n",
              "    </button>\n",
              "    <script>\n",
              "      (() => {\n",
              "      const buttonEl =\n",
              "        document.querySelector('#id_611ad83b-52a8-4acc-b3a3-27101dd3a636 button.colab-df-generate');\n",
              "      buttonEl.style.display =\n",
              "        google.colab.kernel.accessAllowed ? 'block' : 'none';\n",
              "\n",
              "      buttonEl.onclick = () => {\n",
              "        google.colab.notebook.generateWithVariable('df');\n",
              "      }\n",
              "      })();\n",
              "    </script>\n",
              "  </div>\n",
              "\n",
              "    </div>\n",
              "  </div>\n"
            ],
            "application/vnd.google.colaboratory.intrinsic+json": {
              "type": "dataframe",
              "variable_name": "df",
              "summary": "{\n  \"name\": \"df\",\n  \"rows\": 3,\n  \"fields\": [\n    {\n      \"column\": \"model_1\",\n      \"properties\": {\n        \"dtype\": \"string\",\n        \"num_unique_values\": 3,\n        \"samples\": [\n          \"ModelV1\",\n          0.6850008964538574,\n          75.01996805111821\n        ],\n        \"semantic_type\": \"\",\n        \"description\": \"\"\n      }\n    },\n    {\n      \"column\": \"model_0\",\n      \"properties\": {\n        \"dtype\": \"string\",\n        \"num_unique_values\": 3,\n        \"samples\": [\n          \"FashionMNISTModelV0\",\n          0.47663888335227966,\n          83.42651757188499\n        ],\n        \"semantic_type\": \"\",\n        \"description\": \"\"\n      }\n    }\n  ]\n}"
            }
          },
          "metadata": {},
          "execution_count": 39
        }
      ],
      "source": [
        "import pandas as pd\n",
        "data = {\"model_1\": model_1_results, \"model_0\": model_0_results}\n",
        "df = pd.DataFrame(data)\n",
        "df"
      ]
    },
    {
      "cell_type": "code",
      "execution_count": null,
      "metadata": {
        "id": "DvVpgFsFvpoR"
      },
      "outputs": [],
      "source": [
        "class ModelV2(nn.Module):\n",
        "\n",
        "  def __init__(self,input_shape: int, hidden_units: int, output_shape: int):\n",
        "    super().__init__()\n",
        "    self.conv_block_1 = nn.Sequential(\n",
        "        nn.Conv2d(in_channels=input_shape,\n",
        "                  out_channels=hidden_units,\n",
        "                  kernel_size=3,\n",
        "                  stride=1,\n",
        "                  padding=1),\n",
        "        nn.ReLU(),\n",
        "        nn.Conv2d(in_channels=hidden_units,\n",
        "                  out_channels=hidden_units,\n",
        "                  kernel_size=3,\n",
        "                  stride=1,\n",
        "                  padding=1),\n",
        "        nn.ReLU(),\n",
        "        nn.MaxPool2d(kernel_size=2)\n",
        "    )\n",
        "    self.conv_block_2 = nn.Sequential(\n",
        "        nn.Conv2d(in_channels=hidden_units,\n",
        "                  out_channels=hidden_units,\n",
        "                  kernel_size=3,\n",
        "                  stride=1,\n",
        "                  padding=1),\n",
        "        nn.ReLU(),\n",
        "        nn.Conv2d(in_channels=hidden_units,\n",
        "                  out_channels=hidden_units,\n",
        "                  kernel_size=3,\n",
        "                  stride=1,\n",
        "                  padding=1),\n",
        "        nn.ReLU(),\n",
        "        nn.MaxPool2d(kernel_size=2)\n",
        "    )\n",
        "    self.classifier = nn.Sequential(\n",
        "        nn.Flatten(),\n",
        "        nn.Linear(in_features=hidden_units*7*7,\n",
        "                  out_features=output_shape)\n",
        "    )\n",
        "\n",
        "  def forward(self, x):\n",
        "    #print(self.conv_block_1(x).shape)\n",
        "    x = self.conv_block_2(self.conv_block_1(x))\n",
        "    #print(x.shape)\n",
        "    x = self.classifier(x)\n",
        "    return x\n"
      ]
    },
    {
      "cell_type": "code",
      "execution_count": null,
      "metadata": {
        "colab": {
          "base_uri": "https://localhost:8080/"
        },
        "id": "yd2O4ukx7Ny6",
        "outputId": "5d2e4e4d-ffc2-4526-b6e8-dcdf00ae6ce9"
      },
      "outputs": [
        {
          "output_type": "execute_result",
          "data": {
            "text/plain": [
              "torch.Size([1, 28, 28])"
            ]
          },
          "metadata": {},
          "execution_count": 41
        }
      ],
      "source": [
        "image.shape"
      ]
    },
    {
      "cell_type": "code",
      "execution_count": null,
      "metadata": {
        "id": "8OGq31w3vmSv"
      },
      "outputs": [],
      "source": [
        "torch.manual_seed(42)\n",
        "model_2 = ModelV2(input_shape=1,\n",
        "                  hidden_units=10,\n",
        "                  output_shape=len(class_names)).to(device)"
      ]
    },
    {
      "cell_type": "code",
      "execution_count": null,
      "metadata": {
        "colab": {
          "base_uri": "https://localhost:8080/"
        },
        "id": "vp0miofM7fUe",
        "outputId": "88e1e7fa-4de2-4db8-d0ce-3509a63f45c1"
      },
      "outputs": [
        {
          "output_type": "execute_result",
          "data": {
            "text/plain": [
              "ModelV2(\n",
              "  (conv_block_1): Sequential(\n",
              "    (0): Conv2d(1, 10, kernel_size=(3, 3), stride=(1, 1), padding=(1, 1))\n",
              "    (1): ReLU()\n",
              "    (2): Conv2d(10, 10, kernel_size=(3, 3), stride=(1, 1), padding=(1, 1))\n",
              "    (3): ReLU()\n",
              "    (4): MaxPool2d(kernel_size=2, stride=2, padding=0, dilation=1, ceil_mode=False)\n",
              "  )\n",
              "  (conv_block_2): Sequential(\n",
              "    (0): Conv2d(10, 10, kernel_size=(3, 3), stride=(1, 1), padding=(1, 1))\n",
              "    (1): ReLU()\n",
              "    (2): Conv2d(10, 10, kernel_size=(3, 3), stride=(1, 1), padding=(1, 1))\n",
              "    (3): ReLU()\n",
              "    (4): MaxPool2d(kernel_size=2, stride=2, padding=0, dilation=1, ceil_mode=False)\n",
              "  )\n",
              "  (classifier): Sequential(\n",
              "    (0): Flatten(start_dim=1, end_dim=-1)\n",
              "    (1): Linear(in_features=490, out_features=10, bias=True)\n",
              "  )\n",
              ")"
            ]
          },
          "metadata": {},
          "execution_count": 43
        }
      ],
      "source": [
        "model_2"
      ]
    },
    {
      "cell_type": "code",
      "execution_count": null,
      "metadata": {
        "colab": {
          "base_uri": "https://localhost:8080/"
        },
        "id": "kVPz2a0q7289",
        "outputId": "493c2886-e07d-4429-bb49-4cd2d2c7b029"
      },
      "outputs": [
        {
          "output_type": "stream",
          "name": "stdout",
          "text": [
            "Image batch shape: torch.Size([1, 28, 28])\n",
            "Single image shape: torch.Size([3, 64, 64])\n",
            "Test_image: \n",
            " tensor([[[ 1.9269,  1.4873,  0.9007,  ...,  1.8446, -1.1845,  1.3835],\n",
            "         [ 1.4451,  0.8564,  2.2181,  ...,  0.3399,  0.7200,  0.4114],\n",
            "         [ 1.9312,  1.0119, -1.4364,  ..., -0.5558,  0.7043,  0.7099],\n",
            "         ...,\n",
            "         [-0.5610, -0.4830,  0.4770,  ..., -0.2713, -0.9537, -0.6737],\n",
            "         [ 0.3076, -0.1277,  0.0366,  ..., -2.0060,  0.2824, -0.8111],\n",
            "         [-1.5486,  0.0485, -0.7712,  ..., -0.1403,  0.9416, -0.0118]],\n",
            "\n",
            "        [[-0.5197,  1.8524,  1.8365,  ...,  0.8935, -1.5114, -0.8515],\n",
            "         [ 2.0818,  1.0677, -1.4277,  ...,  1.6612, -2.6223, -0.4319],\n",
            "         [-0.1010, -0.4388, -1.9775,  ...,  0.2106,  0.2536, -0.7318],\n",
            "         ...,\n",
            "         [ 0.2779,  0.7342, -0.3736,  ..., -0.4601,  0.1815,  0.1850],\n",
            "         [ 0.7205, -0.2833,  0.0937,  ..., -0.1002, -2.3609,  2.2465],\n",
            "         [-1.3242, -0.1973,  0.2920,  ...,  0.5409,  0.6940,  1.8563]],\n",
            "\n",
            "        [[-0.7978,  1.0261,  1.1465,  ...,  1.2134,  0.9354, -0.0780],\n",
            "         [-1.4647, -1.9571,  0.1017,  ..., -1.9986, -0.7409,  0.7011],\n",
            "         [-1.3938,  0.8466, -1.7191,  ..., -1.1867,  0.1320,  0.3407],\n",
            "         ...,\n",
            "         [ 0.8206, -0.3745,  1.2499,  ..., -0.0676,  0.0385,  0.6335],\n",
            "         [-0.5589, -0.3393,  0.2347,  ...,  2.1181,  2.4569,  1.3083],\n",
            "         [-0.4092,  1.5199,  0.2401,  ..., -0.2558,  0.7870,  0.9924]]])\n"
          ]
        }
      ],
      "source": [
        "torch.manual_seed(42)\n",
        "\n",
        "images = torch.randn(size=(32, 3, 64, 64))\n",
        "test_image = images[0]\n",
        "\n",
        "print(f\"Image batch shape: {image.shape}\")\n",
        "print(f\"Single image shape: {test_image.shape}\")\n",
        "print(f\"Test_image: \\n {test_image}\")"
      ]
    },
    {
      "cell_type": "code",
      "execution_count": null,
      "metadata": {
        "colab": {
          "base_uri": "https://localhost:8080/"
        },
        "id": "h-T9_xd79hmz",
        "outputId": "259ec60a-e2b5-46e6-efc3-66718c765154"
      },
      "outputs": [
        {
          "output_type": "execute_result",
          "data": {
            "text/plain": [
              "tensor([[[[ 1.5396,  0.0516,  0.6454,  ..., -0.3673,  0.8711,  0.4256],\n",
              "          [ 0.3662,  1.0114, -0.5997,  ...,  0.8983,  0.2809, -0.2741],\n",
              "          [ 1.2664, -1.4054,  0.3727,  ..., -0.3409,  1.2191, -0.0463],\n",
              "          ...,\n",
              "          [-0.1541,  0.5132, -0.3624,  ..., -0.2360, -0.4609, -0.0035],\n",
              "          [ 0.2981, -0.2432,  1.5012,  ..., -0.6289, -0.7283, -0.5767],\n",
              "          [-0.0386, -0.0781, -0.0388,  ...,  0.2842,  0.4228, -0.1802]],\n",
              "\n",
              "         [[-0.2840, -0.0319, -0.4455,  ..., -0.7956,  1.5599, -1.2449],\n",
              "          [ 0.2753, -0.1262, -0.6541,  ..., -0.2211,  0.1999, -0.8856],\n",
              "          [-0.5404, -1.5489,  0.0249,  ..., -0.5932, -1.0913, -0.3849],\n",
              "          ...,\n",
              "          [ 0.3870, -0.4064, -0.8236,  ...,  0.1734, -0.4330, -0.4951],\n",
              "          [-0.1984, -0.6386,  1.0263,  ..., -0.9401, -0.0585, -0.7833],\n",
              "          [-0.6306, -0.2052, -0.3694,  ..., -1.3248,  0.2456, -0.7134]],\n",
              "\n",
              "         [[ 0.4414,  0.5100,  0.4846,  ..., -0.8484,  0.2638,  1.1258],\n",
              "          [ 0.8117,  0.3191, -0.0157,  ...,  1.2686,  0.2319,  0.5003],\n",
              "          [ 0.3212,  0.0485, -0.2581,  ...,  0.2258,  0.2587, -0.8804],\n",
              "          ...,\n",
              "          [-0.1144, -0.1869,  0.0160,  ..., -0.8346,  0.0974,  0.8421],\n",
              "          [ 0.2941,  0.4417,  0.5866,  ..., -0.1224,  0.4814, -0.4799],\n",
              "          [ 0.6059, -0.0415, -0.2028,  ...,  0.1170,  0.2521, -0.4372]],\n",
              "\n",
              "         ...,\n",
              "\n",
              "         [[-0.2560, -0.0477,  0.6380,  ...,  0.6436,  0.7553, -0.7055],\n",
              "          [ 1.5595, -0.2209, -0.9486,  ..., -0.4876,  0.7754,  0.0750],\n",
              "          [-0.0797,  0.2471,  1.1300,  ...,  0.1505,  0.2354,  0.9576],\n",
              "          ...,\n",
              "          [ 1.1065,  0.6839,  1.2183,  ...,  0.3015, -0.1910, -0.1902],\n",
              "          [-0.3486, -0.7173, -0.3582,  ...,  0.4917,  0.7219,  0.1513],\n",
              "          [ 0.0119,  0.1017,  0.7839,  ..., -0.3752, -0.8127, -0.1257]],\n",
              "\n",
              "         [[ 0.3841,  1.1322,  0.1620,  ...,  0.7010,  0.0109,  0.6058],\n",
              "          [ 0.1664,  0.1873,  1.5924,  ...,  0.3733,  0.9096, -0.5399],\n",
              "          [ 0.4094, -0.0861, -0.7935,  ..., -0.1285, -0.9932, -0.3013],\n",
              "          ...,\n",
              "          [ 0.2688, -0.5630, -1.1902,  ...,  0.4493,  0.5404, -0.0103],\n",
              "          [ 0.0535,  0.4411,  0.5313,  ...,  0.0148, -1.0056,  0.3759],\n",
              "          [ 0.3031, -0.1590, -0.1316,  ..., -0.5384, -0.4271, -0.4876]],\n",
              "\n",
              "         [[-1.1865, -0.7280, -1.2331,  ..., -0.9013, -0.0542, -1.5949],\n",
              "          [-0.6345, -0.5920,  0.5326,  ..., -1.0395, -0.7963, -0.0647],\n",
              "          [-0.1132,  0.5166,  0.2569,  ...,  0.5595, -1.6881,  0.9485],\n",
              "          ...,\n",
              "          [-0.0254, -0.2669,  0.1927,  ..., -0.2917,  0.1088, -0.4807],\n",
              "          [-0.2609, -0.2328,  0.1404,  ..., -0.1325, -0.8436, -0.7524],\n",
              "          [-1.1399, -0.1751, -0.8705,  ...,  0.1589,  0.3377,  0.3493]]]],\n",
              "       grad_fn=<ConvolutionBackward0>)"
            ]
          },
          "metadata": {},
          "execution_count": 45
        }
      ],
      "source": [
        "torch.manual_seed(42)\n",
        "conv_layer = nn.Conv2d(in_channels=3,\n",
        "                       out_channels=10,\n",
        "                       kernel_size=3,\n",
        "                       stride=1,\n",
        "                       padding=0)\n",
        "\n",
        "conv_output = conv_layer(test_image.unsqueeze(0))\n",
        "conv_output"
      ]
    },
    {
      "cell_type": "code",
      "execution_count": null,
      "metadata": {
        "colab": {
          "base_uri": "https://localhost:8080/"
        },
        "id": "yqgkG7uL_gSx",
        "outputId": "3ae99357-f70e-4d0f-cb4f-849a0259fcd1"
      },
      "outputs": [
        {
          "output_type": "execute_result",
          "data": {
            "text/plain": [
              "torch.Size([1, 10, 62, 62])"
            ]
          },
          "metadata": {},
          "execution_count": 46
        }
      ],
      "source": [
        "conv_output.shape"
      ]
    },
    {
      "cell_type": "code",
      "execution_count": null,
      "metadata": {
        "colab": {
          "base_uri": "https://localhost:8080/"
        },
        "id": "kwOKk7bdTAHV",
        "outputId": "910a7d27-199a-4ea1-f520-ca050076b9d8"
      },
      "outputs": [
        {
          "output_type": "stream",
          "name": "stdout",
          "text": [
            "Test image original shape: torch.Size([3, 64, 64])\n",
            "Test image unsqueeze dim: torch.Size([1, 3, 64, 64])\n",
            "shape after going through conv layer: torch.Size([1, 10, 62, 62])\n",
            "shape after conv layer max pool layer: torch.Size([1, 10, 31, 31])\n"
          ]
        }
      ],
      "source": [
        "print(f\"Test image original shape: {test_image.shape}\")\n",
        "print(f\"Test image unsqueeze dim: {test_image.unsqueeze(0).shape}\")\n",
        "\n",
        "max_pool_layer = nn.MaxPool2d(kernel_size=2)\n",
        "\n",
        "test_image_through_conv = conv_layer(test_image.unsqueeze(dim=0))\n",
        "print(f\"shape after going through conv layer: {test_image_through_conv.shape}\")\n",
        "\n",
        "test_image_through_conv_and_maxpool = max_pool_layer(test_image_through_conv)\n",
        "print(f\"shape after conv layer max pool layer: {test_image_through_conv_and_maxpool.shape}\")"
      ]
    },
    {
      "cell_type": "code",
      "execution_count": null,
      "metadata": {
        "colab": {
          "base_uri": "https://localhost:8080/"
        },
        "id": "i--GqT32VFDV",
        "outputId": "a665114f-2e9e-43f2-c044-d4af93401eb5"
      },
      "outputs": [
        {
          "output_type": "stream",
          "name": "stdout",
          "text": [
            "\n",
            "Random tensor\n",
            ":tensor([[[[0.3367, 0.1288],\n",
            "          [0.2345, 0.2303]]]])\n",
            "\n",
            "Random Tensor shape\n",
            ":torch.Size([1, 1, 2, 2])\n",
            "\n",
            "MaxPool Tensor:\n",
            ":tensor([[[[0.3367]]]])\n",
            "Max pool tensor shape:torch.Size([1, 1, 1, 1])\n"
          ]
        }
      ],
      "source": [
        "torch.manual_seed(42)\n",
        "random_tensor = torch.randn(size=(1, 1, 2, 2))\n",
        "print(f\"\\nRandom tensor\\n:{random_tensor}\")\n",
        "print(f\"\\nRandom Tensor shape\\n:{random_tensor.shape}\")\n",
        "\n",
        "max_pool_layer = nn.MaxPool2d(kernel_size=2)\n",
        "\n",
        "max_pool_tensor = max_pool_layer(random_tensor)\n",
        "print(f\"\\nMaxPool Tensor:\\n:{max_pool_tensor}\")\n",
        "print(f\"Max pool tensor shape:{max_pool_tensor.shape}\")"
      ]
    },
    {
      "cell_type": "code",
      "execution_count": null,
      "metadata": {
        "colab": {
          "base_uri": "https://localhost:8080/",
          "height": 447
        },
        "id": "kC3wg3HMZrv2",
        "outputId": "dc1c5913-b544-49a1-c1f9-47e08b462783"
      },
      "outputs": [
        {
          "output_type": "execute_result",
          "data": {
            "text/plain": [
              "<matplotlib.image.AxesImage at 0x7b206dc13460>"
            ]
          },
          "metadata": {},
          "execution_count": 49
        },
        {
          "output_type": "display_data",
          "data": {
            "text/plain": [
              "<Figure size 640x480 with 1 Axes>"
            ],
            "image/png": "[encoded data removed]"
          },
          "metadata": {}
        }
      ],
      "source": [
        "plt.imshow(image.squeeze(), cmap='gray')"
      ]
    },
    {
      "cell_type": "code",
      "execution_count": null,
      "metadata": {
        "id": "OJ0QQN5PcMq7"
      },
      "outputs": [],
      "source": [
        "rand_image_tensor = torch.randn(size=(1, 28, 28))"
      ]
    },
    {
      "cell_type": "code",
      "execution_count": null,
      "metadata": {
        "colab": {
          "base_uri": "https://localhost:8080/"
        },
        "id": "72nE0zvNaL-1",
        "outputId": "4c714ab2-4917-4b48-9e3f-3941dee5f8cc"
      },
      "outputs": [
        {
          "output_type": "execute_result",
          "data": {
            "text/plain": [
              "tensor([[ 0.0424, -0.0839,  0.0839, -0.0463,  0.0053,  0.0437,  0.0025,  0.0108,\n",
              "         -0.0158, -0.0177]], device='cuda:0', grad_fn=<AddmmBackward0>)"
            ]
          },
          "metadata": {},
          "execution_count": 51
        }
      ],
      "source": [
        "model_2(rand_image_tensor.unsqueeze(0).to(device))"
      ]
    },
    {
      "cell_type": "code",
      "execution_count": null,
      "metadata": {
        "colab": {
          "base_uri": "https://localhost:8080/"
        },
        "id": "z6MusxqsaRde",
        "outputId": "71df45dd-5b4e-4331-83e7-2203ccc5d7f1"
      },
      "outputs": [
        {
          "output_type": "execute_result",
          "data": {
            "text/plain": [
              "torch.Size([1, 28, 28])"
            ]
          },
          "metadata": {},
          "execution_count": 52
        }
      ],
      "source": [
        "image.shape"
      ]
    },
    {
      "cell_type": "code",
      "execution_count": null,
      "metadata": {
        "id": "TtFh4r_qe9Oq"
      },
      "outputs": [],
      "source": [
        "loss_fn = nn.CrossEntropyLoss()\n",
        "optimizer = torch.optim.SGD(params=model_2.parameters(),\n",
        "                            lr=0.1)"
      ]
    },
    {
      "cell_type": "code",
      "execution_count": null,
      "metadata": {
        "colab": {
          "base_uri": "https://localhost:8080/",
          "height": 361,
          "referenced_widgets": [
            "1c6117044f1942628a0d898550314cb7",
            "72adb60b3a3c499888e1b486cb79729f",
            "bad3caf85d574e088da99a468ecc33a7",
            "b61c28737cb847cf972d308eb58b7f72",
            "b86005cc96894e3a8dc77319ff85996d",
            "5322031207684ad98c8ec70a0a2817d9",
            "f5a8889d4102485ea891f55ca358e6b2",
            "b2344fe74f5a49da84ed83b24fe71f8b",
            "0b0d514a807f4542bf6bee5c2d8bd2c1",
            "d839b04194414df1a0bf0adcdc3ebb71",
            "27466b006c824fcbbd6a239459883829"
          ]
        },
        "id": "OjeA5zGCfyka",
        "outputId": "465f200b-b8ac-484e-bc80-76847e478a7f"
      },
      "outputs": [
        {
          "output_type": "display_data",
          "data": {
            "text/plain": [
              "  0%|          | 0/3 [00:00<?, ?it/s]"
            ],
            "application/vnd.jupyter.widget-view+json": {
              "version_major": 2,
              "version_minor": 0,
              "model_id": "1c6117044f1942628a0d898550314cb7"
            }
          },
          "metadata": {}
        },
        {
          "output_type": "stream",
          "name": "stdout",
          "text": [
            "Epoch: 0\n",
            " ------\n",
            "Train loss: 0.59526 | Train acc: 78.43%\n",
            "Test loss: 0.39558 | Test acc: 85.72%\n",
            "\n",
            "train time on cuda: 12.007 seconds\n",
            "Epoch: 1\n",
            " ------\n",
            "Train loss: 0.36249 | Train acc: 86.97%\n",
            "Test loss: 0.34112 | Test acc: 87.25%\n",
            "\n",
            "train time on cuda: 23.784 seconds\n",
            "Epoch: 2\n",
            " ------\n",
            "Train loss: 0.32379 | Train acc: 88.24%\n",
            "Test loss: 0.33439 | Test acc: 88.18%\n",
            "\n",
            "train time on cuda: 35.596 seconds\n"
          ]
        }
      ],
      "source": [
        "torch.manual_seed(42)\n",
        "torch.cuda.manual_seed(42)\n",
        "\n",
        "from timeit import default_timer as timer\n",
        "train_time_start_model_2 = timer()\n",
        "\n",
        "epochs = 3\n",
        "for epoch in tqdm(range(epochs)):\n",
        "  print(f\"Epoch: {epoch}\\n ------\")\n",
        "  train_step(\n",
        "      model=model_2,\n",
        "      data_loader=train_dataloader,\n",
        "      loss_fn=loss_fn,\n",
        "      optimizer=optimizer,\n",
        "      accuracy_fn=accuracy_fn,\n",
        "      device=device)\n",
        "  test_step(model=model_2,\n",
        "            data_loader=test_dataloader,\n",
        "            accuracy_fn=accuracy_fn,\n",
        "            loss_fn=loss_fn,\n",
        "            device=device)\n",
        "\n",
        "  train_time_end_model_2 = timer()\n",
        "  total_train_time_model_2 = print_train_time(start=train_time_start_model_2,\n",
        "                                              end = train_time_end_model_2,\n",
        "                                              device=device)"
      ]
    },
    {
      "cell_type": "code",
      "execution_count": null,
      "metadata": {
        "colab": {
          "base_uri": "https://localhost:8080/",
          "height": 101,
          "referenced_widgets": [
            "f743dd42570149289d11d5e8472b55c4",
            "b2997adac5274766af42e26e4d7eb4bd",
            "871041fa5bf3455a9f629f009bb571a1",
            "343587ad2e754874944a5b9d33ab51e5",
            "6fce05d4f8aa46bf8b1ecd2838cc4e8d",
            "b0fb785c87074c5d971d588f9de646d9",
            "26f3074040fe43589961c3576c240be4",
            "f7525fc7dc804a0b94fc05235d2c6feb",
            "96b1a2483d7640918e0d06acea9b8ae5",
            "25837c3af9544cfab399af7817bba9f8",
            "88d83c30832444faabc1289703ba34e2"
          ]
        },
        "id": "TAaMsRGOiz8E",
        "outputId": "eee42386-fd34-44c9-d1e4-573214e3a1a3"
      },
      "outputs": [
        {
          "output_type": "display_data",
          "data": {
            "text/plain": [
              "  0%|          | 0/313 [00:00<?, ?it/s]"
            ],
            "application/vnd.jupyter.widget-view+json": {
              "version_major": 2,
              "version_minor": 0,
              "model_id": "f743dd42570149289d11d5e8472b55c4"
            }
          },
          "metadata": {}
        },
        {
          "output_type": "execute_result",
          "data": {
            "text/plain": [
              "{'model_name': 'ModelV2',\n",
              " 'model_loss': 0.3343946635723114,\n",
              " 'model_acc': 88.17891373801918}"
            ]
          },
          "metadata": {},
          "execution_count": 55
        }
      ],
      "source": [
        "model_2_results = eval_model(\n",
        "    model=model_2,\n",
        "    data_loader=test_dataloader,\n",
        "    loss_fn=loss_fn,\n",
        "    accuracy_fn=accuracy_fn,\n",
        "    device=device\n",
        ")\n",
        "model_2_results"
      ]
    },
    {
      "cell_type": "code",
      "execution_count": null,
      "metadata": {
        "colab": {
          "base_uri": "https://localhost:8080/",
          "height": 143
        },
        "id": "wrMCj5CKkzFA",
        "outputId": "3fc5c7bb-c78c-4a47-c348-10b11eb19734"
      },
      "outputs": [
        {
          "output_type": "execute_result",
          "data": {
            "text/plain": [
              "            model_name  model_loss  model_acc\n",
              "0  FashionMNISTModelV0    0.476639  83.426518\n",
              "1              ModelV1    0.685001  75.019968\n",
              "2              ModelV2    0.334395  88.178914"
            ],
            "text/html": [
              "\n",
              "  <div id=\"df-b73824f5-b1c2-410c-875d-db24f76ce3a3\" class=\"colab-df-container\">\n",
              "    <div>\n",
              "<style scoped>\n",
              "    .dataframe tbody tr th:only-of-type {\n",
              "        vertical-align: middle;\n",
              "    }\n",
              "\n",
              "    .dataframe tbody tr th {\n",
              "        vertical-align: top;\n",
              "    }\n",
              "\n",
              "    .dataframe thead th {\n",
              "        text-align: right;\n",
              "    }\n",
              "</style>\n",
              "<table border=\"1\" class=\"dataframe\">\n",
              "  <thead>\n",
              "    <tr style=\"text-align: right;\">\n",
              "      <th></th>\n",
              "      <th>model_name</th>\n",
              "      <th>model_loss</th>\n",
              "      <th>model_acc</th>\n",
              "    </tr>\n",
              "  </thead>\n",
              "  <tbody>\n",
              "    <tr>\n",
              "      <th>0</th>\n",
              "      <td>FashionMNISTModelV0</td>\n",
              "      <td>0.476639</td>\n",
              "      <td>83.426518</td>\n",
              "    </tr>\n",
              "    <tr>\n",
              "      <th>1</th>\n",
              "      <td>ModelV1</td>\n",
              "      <td>0.685001</td>\n",
              "      <td>75.019968</td>\n",
              "    </tr>\n",
              "    <tr>\n",
              "      <th>2</th>\n",
              "      <td>ModelV2</td>\n",
              "      <td>0.334395</td>\n",
              "      <td>88.178914</td>\n",
              "    </tr>\n",
              "  </tbody>\n",
              "</table>\n",
              "</div>\n",
              "    <div class=\"colab-df-buttons\">\n",
              "\n",
              "  <div class=\"colab-df-container\">\n",
              "    <button class=\"colab-df-convert\" onclick=\"convertToInteractive('df-b73824f5-b1c2-410c-875d-db24f76ce3a3')\"\n",
              "            title=\"Convert this dataframe to an interactive table.\"\n",
              "            style=\"display:none;\">\n",
              "\n",
              "  <svg xmlns=\"http://www.w3.org/2000/svg\" height=\"24px\" viewBox=\"0 -960 960 960\">\n",
              "    <path d=\"M120-120v-720h720v720H120Zm60-500h600v-160H180v160Zm220 220h160v-160H400v160Zm0 220h160v-160H400v160ZM180-400h160v-160H180v160Zm440 0h160v-160H620v160ZM180-180h160v-160H180v160Zm440 0h160v-160H620v160Z\"/>\n",
              "  </svg>\n",
              "    </button>\n",
              "\n",
              "  <style>\n",
              "    .colab-df-container {\n",
              "      display:flex;\n",
              "      gap: 12px;\n",
              "    }\n",
              "\n",
              "    .colab-df-convert {\n",
              "      background-color: #E8F0FE;\n",
              "      border: none;\n",
              "      border-radius: 50%;\n",
              "      cursor: pointer;\n",
              "      display: none;\n",
              "      fill: #1967D2;\n",
              "      height: 32px;\n",
              "      padding: 0 0 0 0;\n",
              "      width: 32px;\n",
              "    }\n",
              "\n",
              "    .colab-df-convert:hover {\n",
              "      background-color: #E2EBFA;\n",
              "      box-shadow: 0px 1px 2px rgba(60, 64, 67, 0.3), 0px 1px 3px 1px rgba(60, 64, 67, 0.15);\n",
              "      fill: #174EA6;\n",
              "    }\n",
              "\n",
              "    .colab-df-buttons div {\n",
              "      margin-bottom: 4px;\n",
              "    }\n",
              "\n",
              "    [theme=dark] .colab-df-convert {\n",
              "      background-color: #3B4455;\n",
              "      fill: #D2E3FC;\n",
              "    }\n",
              "\n",
              "    [theme=dark] .colab-df-convert:hover {\n",
              "      background-color: #434B5C;\n",
              "      box-shadow: 0px 1px 3px 1px rgba(0, 0, 0, 0.15);\n",
              "      filter: drop-shadow(0px 1px 2px rgba(0, 0, 0, 0.3));\n",
              "      fill: #FFFFFF;\n",
              "    }\n",
              "  </style>\n",
              "\n",
              "    <script>\n",
              "      const buttonEl =\n",
              "        document.querySelector('#df-b73824f5-b1c2-410c-875d-db24f76ce3a3 button.colab-df-convert');\n",
              "      buttonEl.style.display =\n",
              "        google.colab.kernel.accessAllowed ? 'block' : 'none';\n",
              "\n",
              "      async function convertToInteractive(key) {\n",
              "        const element = document.querySelector('#df-b73824f5-b1c2-410c-875d-db24f76ce3a3');\n",
              "        const dataTable =\n",
              "          await google.colab.kernel.invokeFunction('convertToInteractive',\n",
              "                                                    [key], {});\n",
              "        if (!dataTable) return;\n",
              "\n",
              "        const docLinkHtml = 'Like what you see? Visit the ' +\n",
              "          '<a target=\"_blank\" href=https://colab.research.google.com/notebooks/data_table.ipynb>data table notebook</a>'\n",
              "          + ' to learn more about interactive tables.';\n",
              "        element.innerHTML = '';\n",
              "        dataTable['output_type'] = 'display_data';\n",
              "        await google.colab.output.renderOutput(dataTable, element);\n",
              "        const docLink = document.createElement('div');\n",
              "        docLink.innerHTML = docLinkHtml;\n",
              "        element.appendChild(docLink);\n",
              "      }\n",
              "    </script>\n",
              "  </div>\n",
              "\n",
              "\n",
              "<div id=\"df-b17ea62b-d4b3-4be1-8c40-a9e707ffdcf2\">\n",
              "  <button class=\"colab-df-quickchart\" onclick=\"quickchart('df-b17ea62b-d4b3-4be1-8c40-a9e707ffdcf2')\"\n",
              "            title=\"Suggest charts\"\n",
              "            style=\"display:none;\">\n",
              "\n",
              "<svg xmlns=\"http://www.w3.org/2000/svg\" height=\"24px\"viewBox=\"0 0 24 24\"\n",
              "     width=\"24px\">\n",
              "    <g>\n",
              "        <path d=\"M19 3H5c-1.1 0-2 .9-2 2v14c0 1.1.9 2 2 2h14c1.1 0 2-.9 2-2V5c0-1.1-.9-2-2-2zM9 17H7v-7h2v7zm4 0h-2V7h2v10zm4 0h-2v-4h2v4z\"/>\n",
              "    </g>\n",
              "</svg>\n",
              "  </button>\n",
              "\n",
              "<style>\n",
              "  .colab-df-quickchart {\n",
              "      --bg-color: #E8F0FE;\n",
              "      --fill-color: #1967D2;\n",
              "      --hover-bg-color: #E2EBFA;\n",
              "      --hover-fill-color: #174EA6;\n",
              "      --disabled-fill-color: #AAA;\n",
              "      --disabled-bg-color: #DDD;\n",
              "  }\n",
              "\n",
              "  [theme=dark] .colab-df-quickchart {\n",
              "      --bg-color: #3B4455;\n",
              "      --fill-color: #D2E3FC;\n",
              "      --hover-bg-color: #434B5C;\n",
              "      --hover-fill-color: #FFFFFF;\n",
              "      --disabled-bg-color: #3B4455;\n",
              "      --disabled-fill-color: #666;\n",
              "  }\n",
              "\n",
              "  .colab-df-quickchart {\n",
              "    background-color: var(--bg-color);\n",
              "    border: none;\n",
              "    border-radius: 50%;\n",
              "    cursor: pointer;\n",
              "    display: none;\n",
              "    fill: var(--fill-color);\n",
              "    height: 32px;\n",
              "    padding: 0;\n",
              "    width: 32px;\n",
              "  }\n",
              "\n",
              "  .colab-df-quickchart:hover {\n",
              "    background-color: var(--hover-bg-color);\n",
              "    box-shadow: 0 1px 2px rgba(60, 64, 67, 0.3), 0 1px 3px 1px rgba(60, 64, 67, 0.15);\n",
              "    fill: var(--button-hover-fill-color);\n",
              "  }\n",
              "\n",
              "  .colab-df-quickchart-complete:disabled,\n",
              "  .colab-df-quickchart-complete:disabled:hover {\n",
              "    background-color: var(--disabled-bg-color);\n",
              "    fill: var(--disabled-fill-color);\n",
              "    box-shadow: none;\n",
              "  }\n",
              "\n",
              "  .colab-df-spinner {\n",
              "    border: 2px solid var(--fill-color);\n",
              "    border-color: transparent;\n",
              "    border-bottom-color: var(--fill-color);\n",
              "    animation:\n",
              "      spin 1s steps(1) infinite;\n",
              "  }\n",
              "\n",
              "  @keyframes spin {\n",
              "    0% {\n",
              "      border-color: transparent;\n",
              "      border-bottom-color: var(--fill-color);\n",
              "      border-left-color: var(--fill-color);\n",
              "    }\n",
              "    20% {\n",
              "      border-color: transparent;\n",
              "      border-left-color: var(--fill-color);\n",
              "      border-top-color: var(--fill-color);\n",
              "    }\n",
              "    30% {\n",
              "      border-color: transparent;\n",
              "      border-left-color: var(--fill-color);\n",
              "      border-top-color: var(--fill-color);\n",
              "      border-right-color: var(--fill-color);\n",
              "    }\n",
              "    40% {\n",
              "      border-color: transparent;\n",
              "      border-right-color: var(--fill-color);\n",
              "      border-top-color: var(--fill-color);\n",
              "    }\n",
              "    60% {\n",
              "      border-color: transparent;\n",
              "      border-right-color: var(--fill-color);\n",
              "    }\n",
              "    80% {\n",
              "      border-color: transparent;\n",
              "      border-right-color: var(--fill-color);\n",
              "      border-bottom-color: var(--fill-color);\n",
              "    }\n",
              "    90% {\n",
              "      border-color: transparent;\n",
              "      border-bottom-color: var(--fill-color);\n",
              "    }\n",
              "  }\n",
              "</style>\n",
              "\n",
              "  <script>\n",
              "    async function quickchart(key) {\n",
              "      const quickchartButtonEl =\n",
              "        document.querySelector('#' + key + ' button');\n",
              "      quickchartButtonEl.disabled = true;  // To prevent multiple clicks.\n",
              "      quickchartButtonEl.classList.add('colab-df-spinner');\n",
              "      try {\n",
              "        const charts = await google.colab.kernel.invokeFunction(\n",
              "            'suggestCharts', [key], {});\n",
              "      } catch (error) {\n",
              "        console.error('Error during call to suggestCharts:', error);\n",
              "      }\n",
              "      quickchartButtonEl.classList.remove('colab-df-spinner');\n",
              "      quickchartButtonEl.classList.add('colab-df-quickchart-complete');\n",
              "    }\n",
              "    (() => {\n",
              "      let quickchartButtonEl =\n",
              "        document.querySelector('#df-b17ea62b-d4b3-4be1-8c40-a9e707ffdcf2 button');\n",
              "      quickchartButtonEl.style.display =\n",
              "        google.colab.kernel.accessAllowed ? 'block' : 'none';\n",
              "    })();\n",
              "  </script>\n",
              "</div>\n",
              "\n",
              "  <div id=\"id_6f5832ef-445e-46b1-adbd-770be366978b\">\n",
              "    <style>\n",
              "      .colab-df-generate {\n",
              "        background-color: #E8F0FE;\n",
              "        border: none;\n",
              "        border-radius: 50%;\n",
              "        cursor: pointer;\n",
              "        display: none;\n",
              "        fill: #1967D2;\n",
              "        height: 32px;\n",
              "        padding: 0 0 0 0;\n",
              "        width: 32px;\n",
              "      }\n",
              "\n",
              "      .colab-df-generate:hover {\n",
              "        background-color: #E2EBFA;\n",
              "        box-shadow: 0px 1px 2px rgba(60, 64, 67, 0.3), 0px 1px 3px 1px rgba(60, 64, 67, 0.15);\n",
              "        fill: #174EA6;\n",
              "      }\n",
              "\n",
              "      [theme=dark] .colab-df-generate {\n",
              "        background-color: #3B4455;\n",
              "        fill: #D2E3FC;\n",
              "      }\n",
              "\n",
              "      [theme=dark] .colab-df-generate:hover {\n",
              "        background-color: #434B5C;\n",
              "        box-shadow: 0px 1px 3px 1px rgba(0, 0, 0, 0.15);\n",
              "        filter: drop-shadow(0px 1px 2px rgba(0, 0, 0, 0.3));\n",
              "        fill: #FFFFFF;\n",
              "      }\n",
              "    </style>\n",
              "    <button class=\"colab-df-generate\" onclick=\"generateWithVariable('compare_results')\"\n",
              "            title=\"Generate code using this dataframe.\"\n",
              "            style=\"display:none;\">\n",
              "\n",
              "  <svg xmlns=\"http://www.w3.org/2000/svg\" height=\"24px\"viewBox=\"0 0 24 24\"\n",
              "       width=\"24px\">\n",
              "    <path d=\"M7,19H8.4L18.45,9,17,7.55,7,17.6ZM5,21V16.75L18.45,3.32a2,2,0,0,1,2.83,0l1.4,1.43a1.91,1.91,0,0,1,.58,1.4,1.91,1.91,0,0,1-.58,1.4L9.25,21ZM18.45,9,17,7.55Zm-12,3A5.31,5.31,0,0,0,4.9,8.1,5.31,5.31,0,0,0,1,6.5,5.31,5.31,0,0,0,4.9,4.9,5.31,5.31,0,0,0,6.5,1,5.31,5.31,0,0,0,8.1,4.9,5.31,5.31,0,0,0,12,6.5,5.46,5.46,0,0,0,6.5,12Z\"/>\n",
              "  </svg>\n",
              "    </button>\n",
              "    <script>\n",
              "      (() => {\n",
              "      const buttonEl =\n",
              "        document.querySelector('#id_6f5832ef-445e-46b1-adbd-770be366978b button.colab-df-generate');\n",
              "      buttonEl.style.display =\n",
              "        google.colab.kernel.accessAllowed ? 'block' : 'none';\n",
              "\n",
              "      buttonEl.onclick = () => {\n",
              "        google.colab.notebook.generateWithVariable('compare_results');\n",
              "      }\n",
              "      })();\n",
              "    </script>\n",
              "  </div>\n",
              "\n",
              "    </div>\n",
              "  </div>\n"
            ],
            "application/vnd.google.colaboratory.intrinsic+json": {
              "type": "dataframe",
              "variable_name": "compare_results",
              "summary": "{\n  \"name\": \"compare_results\",\n  \"rows\": 3,\n  \"fields\": [\n    {\n      \"column\": \"model_name\",\n      \"properties\": {\n        \"dtype\": \"string\",\n        \"num_unique_values\": 3,\n        \"samples\": [\n          \"FashionMNISTModelV0\",\n          \"ModelV1\",\n          \"ModelV2\"\n        ],\n        \"semantic_type\": \"\",\n        \"description\": \"\"\n      }\n    },\n    {\n      \"column\": \"model_loss\",\n      \"properties\": {\n        \"dtype\": \"number\",\n        \"std\": 0.17633910376503886,\n        \"min\": 0.3343946635723114,\n        \"max\": 0.6850008964538574,\n        \"num_unique_values\": 3,\n        \"samples\": [\n          0.47663888335227966,\n          0.6850008964538574,\n          0.3343946635723114\n        ],\n        \"semantic_type\": \"\",\n        \"description\": \"\"\n      }\n    },\n    {\n      \"column\": \"model_acc\",\n      \"properties\": {\n        \"dtype\": \"number\",\n        \"std\": 6.663497527022383,\n        \"min\": 75.01996805111821,\n        \"max\": 88.17891373801918,\n        \"num_unique_values\": 3,\n        \"samples\": [\n          83.42651757188499,\n          75.01996805111821,\n          88.17891373801918\n        ],\n        \"semantic_type\": \"\",\n        \"description\": \"\"\n      }\n    }\n  ]\n}"
            }
          },
          "metadata": {},
          "execution_count": 56
        }
      ],
      "source": [
        "import pandas as pd\n",
        "compare_results = pd.DataFrame([model_0_results,\n",
        "                                model_1_results,\n",
        "                                model_2_results])\n",
        "compare_results"
      ]
    },
    {
      "cell_type": "code",
      "execution_count": null,
      "metadata": {
        "colab": {
          "base_uri": "https://localhost:8080/",
          "height": 143
        },
        "id": "26t4l7kFlkvz",
        "outputId": "d303091f-c631-49da-dbb0-f67a3c0bc1e9"
      },
      "outputs": [
        {
          "output_type": "execute_result",
          "data": {
            "text/plain": [
              "            model_name  model_loss  model_acc  training_time\n",
              "0  FashionMNISTModelV0    0.476639  83.426518      26.540775\n",
              "1              ModelV1    0.685001  75.019968      30.281349\n",
              "2              ModelV2    0.334395  88.178914      35.595552"
            ],
            "text/html": [
              "\n",
              "  <div id=\"df-02d878c7-2a99-4a9a-b3f1-258067922a23\" class=\"colab-df-container\">\n",
              "    <div>\n",
              "<style scoped>\n",
              "    .dataframe tbody tr th:only-of-type {\n",
              "        vertical-align: middle;\n",
              "    }\n",
              "\n",
              "    .dataframe tbody tr th {\n",
              "        vertical-align: top;\n",
              "    }\n",
              "\n",
              "    .dataframe thead th {\n",
              "        text-align: right;\n",
              "    }\n",
              "</style>\n",
              "<table border=\"1\" class=\"dataframe\">\n",
              "  <thead>\n",
              "    <tr style=\"text-align: right;\">\n",
              "      <th></th>\n",
              "      <th>model_name</th>\n",
              "      <th>model_loss</th>\n",
              "      <th>model_acc</th>\n",
              "      <th>training_time</th>\n",
              "    </tr>\n",
              "  </thead>\n",
              "  <tbody>\n",
              "    <tr>\n",
              "      <th>0</th>\n",
              "      <td>FashionMNISTModelV0</td>\n",
              "      <td>0.476639</td>\n",
              "      <td>83.426518</td>\n",
              "      <td>26.540775</td>\n",
              "    </tr>\n",
              "    <tr>\n",
              "      <th>1</th>\n",
              "      <td>ModelV1</td>\n",
              "      <td>0.685001</td>\n",
              "      <td>75.019968</td>\n",
              "      <td>30.281349</td>\n",
              "    </tr>\n",
              "    <tr>\n",
              "      <th>2</th>\n",
              "      <td>ModelV2</td>\n",
              "      <td>0.334395</td>\n",
              "      <td>88.178914</td>\n",
              "      <td>35.595552</td>\n",
              "    </tr>\n",
              "  </tbody>\n",
              "</table>\n",
              "</div>\n",
              "    <div class=\"colab-df-buttons\">\n",
              "\n",
              "  <div class=\"colab-df-container\">\n",
              "    <button class=\"colab-df-convert\" onclick=\"convertToInteractive('df-02d878c7-2a99-4a9a-b3f1-258067922a23')\"\n",
              "            title=\"Convert this dataframe to an interactive table.\"\n",
              "            style=\"display:none;\">\n",
              "\n",
              "  <svg xmlns=\"http://www.w3.org/2000/svg\" height=\"24px\" viewBox=\"0 -960 960 960\">\n",
              "    <path d=\"M120-120v-720h720v720H120Zm60-500h600v-160H180v160Zm220 220h160v-160H400v160Zm0 220h160v-160H400v160ZM180-400h160v-160H180v160Zm440 0h160v-160H620v160ZM180-180h160v-160H180v160Zm440 0h160v-160H620v160Z\"/>\n",
              "  </svg>\n",
              "    </button>\n",
              "\n",
              "  <style>\n",
              "    .colab-df-container {\n",
              "      display:flex;\n",
              "      gap: 12px;\n",
              "    }\n",
              "\n",
              "    .colab-df-convert {\n",
              "      background-color: #E8F0FE;\n",
              "      border: none;\n",
              "      border-radius: 50%;\n",
              "      cursor: pointer;\n",
              "      display: none;\n",
              "      fill: #1967D2;\n",
              "      height: 32px;\n",
              "      padding: 0 0 0 0;\n",
              "      width: 32px;\n",
              "    }\n",
              "\n",
              "    .colab-df-convert:hover {\n",
              "      background-color: #E2EBFA;\n",
              "      box-shadow: 0px 1px 2px rgba(60, 64, 67, 0.3), 0px 1px 3px 1px rgba(60, 64, 67, 0.15);\n",
              "      fill: #174EA6;\n",
              "    }\n",
              "\n",
              "    .colab-df-buttons div {\n",
              "      margin-bottom: 4px;\n",
              "    }\n",
              "\n",
              "    [theme=dark] .colab-df-convert {\n",
              "      background-color: #3B4455;\n",
              "      fill: #D2E3FC;\n",
              "    }\n",
              "\n",
              "    [theme=dark] .colab-df-convert:hover {\n",
              "      background-color: #434B5C;\n",
              "      box-shadow: 0px 1px 3px 1px rgba(0, 0, 0, 0.15);\n",
              "      filter: drop-shadow(0px 1px 2px rgba(0, 0, 0, 0.3));\n",
              "      fill: #FFFFFF;\n",
              "    }\n",
              "  </style>\n",
              "\n",
              "    <script>\n",
              "      const buttonEl =\n",
              "        document.querySelector('#df-02d878c7-2a99-4a9a-b3f1-258067922a23 button.colab-df-convert');\n",
              "      buttonEl.style.display =\n",
              "        google.colab.kernel.accessAllowed ? 'block' : 'none';\n",
              "\n",
              "      async function convertToInteractive(key) {\n",
              "        const element = document.querySelector('#df-02d878c7-2a99-4a9a-b3f1-258067922a23');\n",
              "        const dataTable =\n",
              "          await google.colab.kernel.invokeFunction('convertToInteractive',\n",
              "                                                    [key], {});\n",
              "        if (!dataTable) return;\n",
              "\n",
              "        const docLinkHtml = 'Like what you see? Visit the ' +\n",
              "          '<a target=\"_blank\" href=https://colab.research.google.com/notebooks/data_table.ipynb>data table notebook</a>'\n",
              "          + ' to learn more about interactive tables.';\n",
              "        element.innerHTML = '';\n",
              "        dataTable['output_type'] = 'display_data';\n",
              "        await google.colab.output.renderOutput(dataTable, element);\n",
              "        const docLink = document.createElement('div');\n",
              "        docLink.innerHTML = docLinkHtml;\n",
              "        element.appendChild(docLink);\n",
              "      }\n",
              "    </script>\n",
              "  </div>\n",
              "\n",
              "\n",
              "<div id=\"df-9cb6166f-4756-452f-a98a-391f97609572\">\n",
              "  <button class=\"colab-df-quickchart\" onclick=\"quickchart('df-9cb6166f-4756-452f-a98a-391f97609572')\"\n",
              "            title=\"Suggest charts\"\n",
              "            style=\"display:none;\">\n",
              "\n",
              "<svg xmlns=\"http://www.w3.org/2000/svg\" height=\"24px\"viewBox=\"0 0 24 24\"\n",
              "     width=\"24px\">\n",
              "    <g>\n",
              "        <path d=\"M19 3H5c-1.1 0-2 .9-2 2v14c0 1.1.9 2 2 2h14c1.1 0 2-.9 2-2V5c0-1.1-.9-2-2-2zM9 17H7v-7h2v7zm4 0h-2V7h2v10zm4 0h-2v-4h2v4z\"/>\n",
              "    </g>\n",
              "</svg>\n",
              "  </button>\n",
              "\n",
              "<style>\n",
              "  .colab-df-quickchart {\n",
              "      --bg-color: #E8F0FE;\n",
              "      --fill-color: #1967D2;\n",
              "      --hover-bg-color: #E2EBFA;\n",
              "      --hover-fill-color: #174EA6;\n",
              "      --disabled-fill-color: #AAA;\n",
              "      --disabled-bg-color: #DDD;\n",
              "  }\n",
              "\n",
              "  [theme=dark] .colab-df-quickchart {\n",
              "      --bg-color: #3B4455;\n",
              "      --fill-color: #D2E3FC;\n",
              "      --hover-bg-color: #434B5C;\n",
              "      --hover-fill-color: #FFFFFF;\n",
              "      --disabled-bg-color: #3B4455;\n",
              "      --disabled-fill-color: #666;\n",
              "  }\n",
              "\n",
              "  .colab-df-quickchart {\n",
              "    background-color: var(--bg-color);\n",
              "    border: none;\n",
              "    border-radius: 50%;\n",
              "    cursor: pointer;\n",
              "    display: none;\n",
              "    fill: var(--fill-color);\n",
              "    height: 32px;\n",
              "    padding: 0;\n",
              "    width: 32px;\n",
              "  }\n",
              "\n",
              "  .colab-df-quickchart:hover {\n",
              "    background-color: var(--hover-bg-color);\n",
              "    box-shadow: 0 1px 2px rgba(60, 64, 67, 0.3), 0 1px 3px 1px rgba(60, 64, 67, 0.15);\n",
              "    fill: var(--button-hover-fill-color);\n",
              "  }\n",
              "\n",
              "  .colab-df-quickchart-complete:disabled,\n",
              "  .colab-df-quickchart-complete:disabled:hover {\n",
              "    background-color: var(--disabled-bg-color);\n",
              "    fill: var(--disabled-fill-color);\n",
              "    box-shadow: none;\n",
              "  }\n",
              "\n",
              "  .colab-df-spinner {\n",
              "    border: 2px solid var(--fill-color);\n",
              "    border-color: transparent;\n",
              "    border-bottom-color: var(--fill-color);\n",
              "    animation:\n",
              "      spin 1s steps(1) infinite;\n",
              "  }\n",
              "\n",
              "  @keyframes spin {\n",
              "    0% {\n",
              "      border-color: transparent;\n",
              "      border-bottom-color: var(--fill-color);\n",
              "      border-left-color: var(--fill-color);\n",
              "    }\n",
              "    20% {\n",
              "      border-color: transparent;\n",
              "      border-left-color: var(--fill-color);\n",
              "      border-top-color: var(--fill-color);\n",
              "    }\n",
              "    30% {\n",
              "      border-color: transparent;\n",
              "      border-left-color: var(--fill-color);\n",
              "      border-top-color: var(--fill-color);\n",
              "      border-right-color: var(--fill-color);\n",
              "    }\n",
              "    40% {\n",
              "      border-color: transparent;\n",
              "      border-right-color: var(--fill-color);\n",
              "      border-top-color: var(--fill-color);\n",
              "    }\n",
              "    60% {\n",
              "      border-color: transparent;\n",
              "      border-right-color: var(--fill-color);\n",
              "    }\n",
              "    80% {\n",
              "      border-color: transparent;\n",
              "      border-right-color: var(--fill-color);\n",
              "      border-bottom-color: var(--fill-color);\n",
              "    }\n",
              "    90% {\n",
              "      border-color: transparent;\n",
              "      border-bottom-color: var(--fill-color);\n",
              "    }\n",
              "  }\n",
              "</style>\n",
              "\n",
              "  <script>\n",
              "    async function quickchart(key) {\n",
              "      const quickchartButtonEl =\n",
              "        document.querySelector('#' + key + ' button');\n",
              "      quickchartButtonEl.disabled = true;  // To prevent multiple clicks.\n",
              "      quickchartButtonEl.classList.add('colab-df-spinner');\n",
              "      try {\n",
              "        const charts = await google.colab.kernel.invokeFunction(\n",
              "            'suggestCharts', [key], {});\n",
              "      } catch (error) {\n",
              "        console.error('Error during call to suggestCharts:', error);\n",
              "      }\n",
              "      quickchartButtonEl.classList.remove('colab-df-spinner');\n",
              "      quickchartButtonEl.classList.add('colab-df-quickchart-complete');\n",
              "    }\n",
              "    (() => {\n",
              "      let quickchartButtonEl =\n",
              "        document.querySelector('#df-9cb6166f-4756-452f-a98a-391f97609572 button');\n",
              "      quickchartButtonEl.style.display =\n",
              "        google.colab.kernel.accessAllowed ? 'block' : 'none';\n",
              "    })();\n",
              "  </script>\n",
              "</div>\n",
              "\n",
              "  <div id=\"id_1391a33b-eb6e-43ff-86d1-477294e5bc09\">\n",
              "    <style>\n",
              "      .colab-df-generate {\n",
              "        background-color: #E8F0FE;\n",
              "        border: none;\n",
              "        border-radius: 50%;\n",
              "        cursor: pointer;\n",
              "        display: none;\n",
              "        fill: #1967D2;\n",
              "        height: 32px;\n",
              "        padding: 0 0 0 0;\n",
              "        width: 32px;\n",
              "      }\n",
              "\n",
              "      .colab-df-generate:hover {\n",
              "        background-color: #E2EBFA;\n",
              "        box-shadow: 0px 1px 2px rgba(60, 64, 67, 0.3), 0px 1px 3px 1px rgba(60, 64, 67, 0.15);\n",
              "        fill: #174EA6;\n",
              "      }\n",
              "\n",
              "      [theme=dark] .colab-df-generate {\n",
              "        background-color: #3B4455;\n",
              "        fill: #D2E3FC;\n",
              "      }\n",
              "\n",
              "      [theme=dark] .colab-df-generate:hover {\n",
              "        background-color: #434B5C;\n",
              "        box-shadow: 0px 1px 3px 1px rgba(0, 0, 0, 0.15);\n",
              "        filter: drop-shadow(0px 1px 2px rgba(0, 0, 0, 0.3));\n",
              "        fill: #FFFFFF;\n",
              "      }\n",
              "    </style>\n",
              "    <button class=\"colab-df-generate\" onclick=\"generateWithVariable('compare_results')\"\n",
              "            title=\"Generate code using this dataframe.\"\n",
              "            style=\"display:none;\">\n",
              "\n",
              "  <svg xmlns=\"http://www.w3.org/2000/svg\" height=\"24px\"viewBox=\"0 0 24 24\"\n",
              "       width=\"24px\">\n",
              "    <path d=\"M7,19H8.4L18.45,9,17,7.55,7,17.6ZM5,21V16.75L18.45,3.32a2,2,0,0,1,2.83,0l1.4,1.43a1.91,1.91,0,0,1,.58,1.4,1.91,1.91,0,0,1-.58,1.4L9.25,21ZM18.45,9,17,7.55Zm-12,3A5.31,5.31,0,0,0,4.9,8.1,5.31,5.31,0,0,0,1,6.5,5.31,5.31,0,0,0,4.9,4.9,5.31,5.31,0,0,0,6.5,1,5.31,5.31,0,0,0,8.1,4.9,5.31,5.31,0,0,0,12,6.5,5.46,5.46,0,0,0,6.5,12Z\"/>\n",
              "  </svg>\n",
              "    </button>\n",
              "    <script>\n",
              "      (() => {\n",
              "      const buttonEl =\n",
              "        document.querySelector('#id_1391a33b-eb6e-43ff-86d1-477294e5bc09 button.colab-df-generate');\n",
              "      buttonEl.style.display =\n",
              "        google.colab.kernel.accessAllowed ? 'block' : 'none';\n",
              "\n",
              "      buttonEl.onclick = () => {\n",
              "        google.colab.notebook.generateWithVariable('compare_results');\n",
              "      }\n",
              "      })();\n",
              "    </script>\n",
              "  </div>\n",
              "\n",
              "    </div>\n",
              "  </div>\n"
            ],
            "application/vnd.google.colaboratory.intrinsic+json": {
              "type": "dataframe",
              "variable_name": "compare_results",
              "summary": "{\n  \"name\": \"compare_results\",\n  \"rows\": 3,\n  \"fields\": [\n    {\n      \"column\": \"model_name\",\n      \"properties\": {\n        \"dtype\": \"string\",\n        \"num_unique_values\": 3,\n        \"samples\": [\n          \"FashionMNISTModelV0\",\n          \"ModelV1\",\n          \"ModelV2\"\n        ],\n        \"semantic_type\": \"\",\n        \"description\": \"\"\n      }\n    },\n    {\n      \"column\": \"model_loss\",\n      \"properties\": {\n        \"dtype\": \"number\",\n        \"std\": 0.17633910376503886,\n        \"min\": 0.3343946635723114,\n        \"max\": 0.6850008964538574,\n        \"num_unique_values\": 3,\n        \"samples\": [\n          0.47663888335227966,\n          0.6850008964538574,\n          0.3343946635723114\n        ],\n        \"semantic_type\": \"\",\n        \"description\": \"\"\n      }\n    },\n    {\n      \"column\": \"model_acc\",\n      \"properties\": {\n        \"dtype\": \"number\",\n        \"std\": 6.663497527022383,\n        \"min\": 75.01996805111821,\n        \"max\": 88.17891373801918,\n        \"num_unique_values\": 3,\n        \"samples\": [\n          83.42651757188499,\n          75.01996805111821,\n          88.17891373801918\n        ],\n        \"semantic_type\": \"\",\n        \"description\": \"\"\n      }\n    },\n    {\n      \"column\": \"training_time\",\n      \"properties\": {\n        \"dtype\": \"number\",\n        \"std\": 4.5501216572088,\n        \"min\": 26.54077511700001,\n        \"max\": 35.59555239399998,\n        \"num_unique_values\": 3,\n        \"samples\": [\n          26.54077511700001,\n          30.281348888999986,\n          35.59555239399998\n        ],\n        \"semantic_type\": \"\",\n        \"description\": \"\"\n      }\n    }\n  ]\n}"
            }
          },
          "metadata": {},
          "execution_count": 57
        }
      ],
      "source": [
        "compare_results[\"training_time\"] = [\n",
        "    total_train_time_model_0,\n",
        "    total_train_time_model_1,\n",
        "    total_train_time_model_2]\n",
        "compare_results"
      ]
    },
    {
      "cell_type": "code",
      "execution_count": null,
      "metadata": {
        "id": "KeY4jmjynr9x"
      },
      "outputs": [],
      "source": [
        "def make_predictions(model: nn.Module,\n",
        "                     data: list,\n",
        "                     device: torch.device = device):\n",
        "\n",
        "  pred_probs = []\n",
        "  model.to(device)\n",
        "  model.eval()\n",
        "  with torch.inference_mode():\n",
        "    for sample in data:\n",
        "      sample = torch.unsqueeze(sample, dim=0).to(device)\n",
        "\n",
        "      pred_logit = model(sample)\n",
        "\n",
        "      pred_prob = torch.softmax(pred_logit.squeeze(), dim=0)\n",
        "\n",
        "      pred_probs.append(pred_prob.cpu())\n",
        "\n",
        "  return torch.stack(pred_probs)"
      ]
    },
    {
      "cell_type": "code",
      "execution_count": null,
      "metadata": {
        "colab": {
          "base_uri": "https://localhost:8080/"
        },
        "id": "9zvo10jtpwjx",
        "outputId": "e05dc373-f55e-40fe-f80d-2f1d79045bb1"
      },
      "outputs": [
        {
          "output_type": "execute_result",
          "data": {
            "text/plain": [
              "torch.Size([1, 28, 28])"
            ]
          },
          "metadata": {},
          "execution_count": 59
        }
      ],
      "source": [
        "import random\n",
        "#random.seed(42)\n",
        "test_samples = []\n",
        "test_labels = []\n",
        "for sample, label in random.sample(list(test_data), k=9):\n",
        "  test_samples.append(sample)\n",
        "  test_labels.append(label)\n",
        "\n",
        "test_samples[0].shape"
      ]
    },
    {
      "cell_type": "code",
      "execution_count": null,
      "metadata": {
        "colab": {
          "base_uri": "https://localhost:8080/",
          "height": 469
        },
        "id": "SDtv_TvLqp2v",
        "outputId": "5b6b9db4-e4b4-4777-a0e2-b9f7ad90509e"
      },
      "outputs": [
        {
          "output_type": "execute_result",
          "data": {
            "text/plain": [
              "Text(0.5, 1.0, 'Dress')"
            ]
          },
          "metadata": {},
          "execution_count": 60
        },
        {
          "output_type": "display_data",
          "data": {
            "text/plain": [
              "<Figure size 640x480 with 1 Axes>"
            ],
            "image/png": "[encoded data removed]"
          },
          "metadata": {}
        }
      ],
      "source": [
        "plt.imshow(test_samples[0].squeeze(), cmap='gray')\n",
        "plt.title(class_names[test_labels[0]])"
      ]
    },
    {
      "cell_type": "code",
      "execution_count": null,
      "metadata": {
        "colab": {
          "base_uri": "https://localhost:8080/"
        },
        "id": "uvheeBqrqy5s",
        "outputId": "3f8d2ace-72d7-4c5d-cf1d-e64436b74747"
      },
      "outputs": [
        {
          "output_type": "execute_result",
          "data": {
            "text/plain": [
              "tensor([[1.3813e-03, 1.1901e-04, 7.5669e-04, 9.9350e-01, 3.7811e-03, 4.0947e-06,\n",
              "         3.3944e-04, 9.0931e-06, 1.0452e-04, 6.8348e-06],\n",
              "        [5.6819e-01, 1.8641e-04, 8.2359e-02, 2.2232e-02, 6.6151e-04, 9.7166e-05,\n",
              "         3.2088e-01, 1.4463e-03, 3.5930e-03, 3.5792e-04]])"
            ]
          },
          "metadata": {},
          "execution_count": 61
        }
      ],
      "source": [
        "pred_probs = make_predictions(model=model_2,\n",
        "                              data=test_samples)\n",
        "pred_probs[:2]"
      ]
    },
    {
      "cell_type": "code",
      "execution_count": null,
      "metadata": {
        "colab": {
          "base_uri": "https://localhost:8080/"
        },
        "id": "4LQfFrhBsExg",
        "outputId": "f522cc6c-5503-4935-8ba0-7268c5df0794"
      },
      "outputs": [
        {
          "output_type": "execute_result",
          "data": {
            "text/plain": [
              "[3, 0, 4, 1, 7, 2, 3, 7, 8]"
            ]
          },
          "metadata": {},
          "execution_count": 62
        }
      ],
      "source": [
        "test_labels"
      ]
    },
    {
      "cell_type": "code",
      "execution_count": null,
      "metadata": {
        "colab": {
          "base_uri": "https://localhost:8080/"
        },
        "id": "nHZyIpLwrVwz",
        "outputId": "beca3e76-4649-4d50-f7b5-a0e58791c5ea"
      },
      "outputs": [
        {
          "output_type": "execute_result",
          "data": {
            "text/plain": [
              "tensor([ True,  True,  True,  True, False,  True,  True,  True,  True])"
            ]
          },
          "metadata": {},
          "execution_count": 63
        }
      ],
      "source": [
        "pred_classes = pred_probs.argmax(dim=1)\n",
        "pred_classes == torch.Tensor(test_labels)"
      ]
    },
    {
      "cell_type": "code",
      "execution_count": null,
      "metadata": {
        "colab": {
          "base_uri": "https://localhost:8080/"
        },
        "id": "BcyfKMzasm_Z",
        "outputId": "55388c9b-d741-4d8c-ba9b-00d3737ea585"
      },
      "outputs": [
        {
          "output_type": "execute_result",
          "data": {
            "text/plain": [
              "[3, 0, 4, 1, 7, 2, 3, 7, 8]"
            ]
          },
          "metadata": {},
          "execution_count": 64
        }
      ],
      "source": [
        "test_labels"
      ]
    },
    {
      "cell_type": "code",
      "execution_count": null,
      "metadata": {
        "colab": {
          "base_uri": "https://localhost:8080/",
          "height": 657
        },
        "id": "JyOAIqvqs6hs",
        "outputId": "0520d3c7-2a13-480d-92f6-67bec4ff9d2a"
      },
      "outputs": [
        {
          "output_type": "display_data",
          "data": {
            "text/plain": [
              "<Figure size 900x900 with 9 Axes>"
            ],
            "image/png": "[encoded data removed]"
          },
          "metadata": {}
        }
      ],
      "source": [
        "plt.figure(figsize=(9, 9))\n",
        "nrows, ncols = 3, 3\n",
        "for i, sample in enumerate(test_samples):\n",
        "  plt.subplot(nrows, ncols, i+1)\n",
        "\n",
        "  plt.imshow(sample.squeeze(), cmap='gray')\n",
        "\n",
        "  pred_label = class_names[pred_classes[i]]\n",
        "\n",
        "  truth_label = class_names[test_labels[i]]\n",
        "\n",
        "  title_text = f\"pred: {pred_label} | Truth: {truth_label}\"\n",
        "\n",
        "  if pred_label == truth_label:\n",
        "    plt.title(title_text, fontsize=10, c='g')\n",
        "  else:\n",
        "    plt.title(title_text, fontsize=10, c='r')\n",
        "\n",
        "  plt.axis(False);"
      ]
    },
    {
      "cell_type": "code",
      "execution_count": null,
      "metadata": {
        "colab": {
          "base_uri": "https://localhost:8080/",
          "height": 49,
          "referenced_widgets": [
            "d3bc67dc03dd45b9ab2f92cacd29d823",
            "27c864289a8f47138eb5ef408d8fa784",
            "fb9cbc80170d4c44b03de2361b472250",
            "72319e21ab97433e9b312705402ae941",
            "00fcae4e47be4d0b8acc3187b65e4cf6",
            "1537af1579b54f59abb67603d16a6b9c",
            "021d849c8e4b4fb5b135511c18a3baaa",
            "5a1c2c7fbd694d36a4e48f51c80900f3",
            "0ce40468503640b694ca8cfc3d3c474a",
            "418207bb7ae241be88a3884663a35341",
            "7c520283155a4eed86bbebfe71fffd5e"
          ]
        },
        "id": "jpihAhaqw7bg",
        "outputId": "6d5fd181-f815-41b7-c70f-31caaa1a62ff"
      },
      "outputs": [
        {
          "output_type": "display_data",
          "data": {
            "text/plain": [
              "Making predictions...:   0%|          | 0/313 [00:00<?, ?it/s]"
            ],
            "application/vnd.jupyter.widget-view+json": {
              "version_major": 2,
              "version_minor": 0,
              "model_id": "d3bc67dc03dd45b9ab2f92cacd29d823"
            }
          },
          "metadata": {}
        }
      ],
      "source": [
        "y_preds = []\n",
        "model_2.eval()\n",
        "with torch.inference_mode():\n",
        "  for X, y in tqdm(test_dataloader, desc=\"Making predictions...\"):\n",
        "    X, y = X.to(device), y.to(device)\n",
        "\n",
        "    y_logit = model_2(X)\n",
        "\n",
        "    y_pred = torch.softmax(y_logit.squeeze(), dim=0).argmax(dim=1)\n",
        "    y_preds.append(y_pred.cpu())\n",
        "\n",
        "\n",
        "y_pred_tensor = torch.cat(y_preds)"
      ]
    },
    {
      "cell_type": "code",
      "execution_count": null,
      "metadata": {
        "id": "-TNb-2iZww9N",
        "colab": {
          "base_uri": "https://localhost:8080/"
        },
        "outputId": "d0dc0357-f04c-4bed-b02e-8b8e90e8ed3b"
      },
      "outputs": [
        {
          "output_type": "stream",
          "name": "stdout",
          "text": [
            "\u001b[2K     \u001b[90m━━━━━━━━━━━━━━━━━━━━━━━━━━━━━━━━━━━━━━━━\u001b[0m \u001b[32m868.8/868.8 kB\u001b[0m \u001b[31m19.7 MB/s\u001b[0m eta \u001b[36m0:00:00\u001b[0m\n",
            "\u001b[2K     \u001b[90m━━━━━━━━━━━━━━━━━━━━━━━━━━━━━━━━━━━━━━━━\u001b[0m \u001b[32m1.4/1.4 MB\u001b[0m \u001b[31m55.6 MB/s\u001b[0m eta \u001b[36m0:00:00\u001b[0m\n",
            "\u001b[2K     \u001b[90m━━━━━━━━━━━━━━━━━━━━━━━━━━━━━━━━━━━━━━━━\u001b[0m \u001b[32m21.3/21.3 MB\u001b[0m \u001b[31m71.1 MB/s\u001b[0m eta \u001b[36m0:00:00\u001b[0m\n",
            "\u001b[?25hmlxtend version: 0.23.1\n"
          ]
        }
      ],
      "source": [
        "try:\n",
        "  import torchmetrics,mlextend\n",
        "  print(f\"mlxtend version: {mlxtend.__version__}\")\n",
        "  assert int(mlxtend.__version__.split(\".\")[1]) >= 19, \"mlxtend version should be 0. 19. 0 or higher\"\n",
        "except:\n",
        "  !pip install -q torchmetrics -U mlxtend\n",
        "  import torchmetrics, mlxtend\n",
        "  print(f\"mlxtend version: {mlxtend.__version__}\")"
      ]
    },
    {
      "cell_type": "code",
      "source": [
        "y_pred_tensor[:10]"
      ],
      "metadata": {
        "colab": {
          "base_uri": "https://localhost:8080/"
        },
        "id": "K7lyBtVbfxxL",
        "outputId": "1780a5d6-4cfe-49ff-8d60-c801cf731871"
      },
      "execution_count": null,
      "outputs": [
        {
          "output_type": "execute_result",
          "data": {
            "text/plain": [
              "tensor([9, 2, 1, 1, 6, 1, 4, 6, 5, 7])"
            ]
          },
          "metadata": {},
          "execution_count": 68
        }
      ]
    },
    {
      "cell_type": "code",
      "source": [
        "from torchmetrics import ConfusionMatrix\n",
        "from mlxtend.plotting import plot_confusion_matrix\n",
        "\n",
        "#2. Setup Confusion matrix instance and compare predictions\n",
        "confmat = ConfusionMatrix(num_classes=len(class_names), task='multiclass')\n",
        "confmat_tensor = confmat(preds=y_pred_tensor,\n",
        "                         target=test_data.targets)\n",
        "\n",
        "#3. Plot the confusion matrix\n",
        "fig, ax = plot_confusion_matrix(\n",
        "    conf_mat=confmat_tensor.numpy(),\n",
        "    class_names=class_names,\n",
        "    figsize=(10, 7)\n",
        ");"
      ],
      "metadata": {
        "colab": {
          "base_uri": "https://localhost:8080/",
          "height": 635
        },
        "id": "ecnjlhaef7Yq",
        "outputId": "eb8b00a9-2857-432c-bd63-88ddea5088d6"
      },
      "execution_count": null,
      "outputs": [
        {
          "output_type": "display_data",
          "data": {
            "text/plain": [
              "<Figure size 1000x700 with 1 Axes>"
            ],
            "image/png": "[encoded data removed]"
          },
          "metadata": {}
        }
      ]
    },
    {
      "cell_type": "code",
      "source": [
        "confmat_tensor.shape"
      ],
      "metadata": {
        "colab": {
          "base_uri": "https://localhost:8080/"
        },
        "id": "PeBNatOyg9Pt",
        "outputId": "75c98334-278e-4a82-f155-e72ce1e2c532"
      },
      "execution_count": null,
      "outputs": [
        {
          "output_type": "execute_result",
          "data": {
            "text/plain": [
              "torch.Size([10, 10])"
            ]
          },
          "metadata": {},
          "execution_count": 73
        }
      ]
    },
    {
      "cell_type": "code",
      "source": [
        "from pathlib import Path\n",
        "\n",
        "MODEL_PATH = Path(\"models\")\n",
        "MODEL_PATH.mkdir(parents=True, exist_ok=True)\n",
        "\n",
        "\n",
        "MODEL_NAME = \"03_pytorch_computer_vision_model_2.pth\"\n",
        "MODEL_SAVE_PATH = MODEL_PATH / MODEL_NAME\n",
        "\n",
        "print(f\"Saving model to : {MODEL_SAVE_PATH}\")\n",
        "\n",
        "torch.save(obj=model_2.state_dict(),\n",
        "           f=MODEL_SAVE_PATH)"
      ],
      "metadata": {
        "id": "aRJmXQhGhENE",
        "colab": {
          "base_uri": "https://localhost:8080/"
        },
        "outputId": "7f14646d-933a-46d1-e3a2-32023dbd8a7b"
      },
      "execution_count": null,
      "outputs": [
        {
          "output_type": "stream",
          "name": "stdout",
          "text": [
            "Saving model to : models/03_pytorch_computer_vision_model_2.pth\n"
          ]
        }
      ]
    },
    {
      "cell_type": "code",
      "source": [
        "model_2.state_dict()"
      ],
      "metadata": {
        "colab": {
          "base_uri": "https://localhost:8080/"
        },
        "id": "yZC9MI7z1Qrk",
        "outputId": "c87d721d-b072-4621-ef4e-c84f4e5c08b4"
      },
      "execution_count": null,
      "outputs": [
        {
          "output_type": "execute_result",
          "data": {
            "text/plain": [
              "OrderedDict([('conv_block_1.0.weight',\n",
              "              tensor([[[[ 2.9255e-01,  3.2364e-01, -5.2331e-01],\n",
              "                        [ 2.1015e-01,  1.5353e-01,  5.0540e-02],\n",
              "                        [-3.9963e-01,  5.9258e-02,  3.8640e-01]]],\n",
              "              \n",
              "              \n",
              "                      [[[-3.8810e-01,  4.8847e-01, -9.5271e-02],\n",
              "                        [ 2.2151e-01,  4.7060e-01,  7.9895e-02],\n",
              "                        [-1.4409e-01,  3.7485e-01,  7.8036e-02]]],\n",
              "              \n",
              "              \n",
              "                      [[[-4.0447e-01, -1.1355e-01,  2.5691e-02],\n",
              "                        [-5.7770e-01, -6.2503e-01,  1.7586e-01],\n",
              "                        [-7.1675e-01, -6.3013e-01, -1.1702e-01]]],\n",
              "              \n",
              "              \n",
              "                      [[[-8.3450e-01, -9.7643e-01, -8.1923e-01],\n",
              "                        [ 2.9196e-01, -6.2555e-01,  8.5652e-02],\n",
              "                        [ 3.3090e-01,  1.3989e-02,  3.2530e-01]]],\n",
              "              \n",
              "              \n",
              "                      [[[-1.6231e-01,  2.0882e-01, -1.8955e-01],\n",
              "                        [-4.0754e-01,  1.4457e-01, -3.6015e-01],\n",
              "                        [-1.4949e-01,  2.2091e-01,  2.8998e-02]]],\n",
              "              \n",
              "              \n",
              "                      [[[-1.4743e-01,  1.8606e-01,  5.7521e-02],\n",
              "                        [ 1.6690e-01, -2.0448e-01, -3.3016e-01],\n",
              "                        [-1.2869e-01, -2.5607e-01,  2.5500e-01]]],\n",
              "              \n",
              "              \n",
              "                      [[[ 1.3745e-01,  1.3806e-01,  4.4826e-02],\n",
              "                        [ 1.4105e-02,  2.0673e-01, -1.3572e-01],\n",
              "                        [-1.8887e-02, -4.3797e-01, -3.4625e-04]]],\n",
              "              \n",
              "              \n",
              "                      [[[-1.3312e-01,  2.1838e-02, -1.7472e-01],\n",
              "                        [ 2.6915e-01, -3.0045e-01, -3.0371e-01],\n",
              "                        [-1.9722e-01,  3.8808e-01,  2.2801e-01]]],\n",
              "              \n",
              "              \n",
              "                      [[[ 4.6113e-01, -2.8657e-01, -3.8111e-01],\n",
              "                        [-2.4068e-01, -2.7881e-01,  1.4699e-01],\n",
              "                        [ 2.9671e-01,  3.9547e-01, -8.5244e-02]]],\n",
              "              \n",
              "              \n",
              "                      [[[-2.2702e-01,  1.7606e-01, -1.3525e-01],\n",
              "                        [ 2.0097e-01, -8.0543e-02,  1.8891e-01],\n",
              "                        [-2.5914e-01, -1.6839e-01,  1.0114e-01]]]], device='cuda:0')),\n",
              "             ('conv_block_1.0.bias',\n",
              "              tensor([ 0.0508,  0.1024,  0.1777,  0.1162, -0.1128, -0.2035,  0.1943, -0.0712,\n",
              "                      -0.0366, -0.3242], device='cuda:0')),\n",
              "             ('conv_block_1.2.weight',\n",
              "              tensor([[[[ 1.1394e-01,  4.4595e-02, -5.5404e-02],\n",
              "                        [-9.5914e-02, -1.3693e-01, -1.8681e-01],\n",
              "                        [-1.1604e-01, -1.7864e-01, -1.6858e-01]],\n",
              "              \n",
              "                       [[-7.2251e-02, -3.0865e-02, -1.5086e-01],\n",
              "                        [-2.0851e-01, -3.2808e-01, -2.8097e-01],\n",
              "                        [-1.3178e-01, -2.0672e-01, -2.4206e-01]],\n",
              "              \n",
              "                       [[ 3.4786e-02,  5.1275e-02,  1.4275e-01],\n",
              "                        [ 6.4683e-02,  2.4602e-01,  1.8294e-01],\n",
              "                        [-8.0019e-02,  2.5600e-02,  1.0503e-01]],\n",
              "              \n",
              "                       [[-1.7637e-01, -1.2599e-02, -1.6436e-01],\n",
              "                        [ 2.4707e-02, -2.3609e-02, -1.2556e-01],\n",
              "                        [ 2.3275e-01,  6.4655e-02,  1.0687e-02]],\n",
              "              \n",
              "                       [[-1.3408e-01, -1.4289e-01, -3.3905e-02],\n",
              "                        [-5.9412e-02,  4.8829e-03, -1.3585e-01],\n",
              "                        [ 9.3241e-02, -8.8350e-02, -1.8123e-02]],\n",
              "              \n",
              "                       [[ 2.2516e-02,  5.4858e-02,  8.5085e-02],\n",
              "                        [ 9.6187e-02, -8.3540e-02,  2.8748e-02],\n",
              "                        [-4.4938e-02, -1.2848e-02, -7.8130e-02]],\n",
              "              \n",
              "                       [[ 1.6604e-01, -5.8224e-02, -1.9378e-02],\n",
              "                        [ 1.1658e-01,  6.7619e-02, -7.0246e-02],\n",
              "                        [ 4.7341e-02, -5.2499e-03, -6.4867e-02]],\n",
              "              \n",
              "                       [[-8.4325e-02,  4.9639e-02, -8.4455e-03],\n",
              "                        [-4.6756e-02,  8.9200e-02,  1.6072e-02],\n",
              "                        [-3.8073e-02, -6.4149e-02, -1.6868e-02]],\n",
              "              \n",
              "                       [[ 7.1019e-02, -1.4328e-02, -3.9343e-02],\n",
              "                        [-3.1791e-02, -6.1006e-02,  5.7108e-02],\n",
              "                        [ 1.1909e-01, -9.3677e-02,  9.1420e-04]],\n",
              "              \n",
              "                       [[ 5.4451e-02,  1.9112e-02, -3.7535e-02],\n",
              "                        [ 5.5015e-02,  5.5394e-02,  3.9421e-02],\n",
              "                        [-1.8523e-02, -2.7911e-02,  1.1269e-02]]],\n",
              "              \n",
              "              \n",
              "                      [[[-3.2919e-02, -4.1298e-02,  6.3333e-02],\n",
              "                        [ 7.9853e-02, -1.3683e-02, -1.7241e-02],\n",
              "                        [-2.5386e-02, -1.8704e-02,  2.2918e-02]],\n",
              "              \n",
              "                       [[ 1.4519e-02, -1.0319e-01, -3.7847e-02],\n",
              "                        [ 7.5753e-02,  3.6892e-02,  5.3527e-03],\n",
              "                        [-1.0164e-01, -7.7358e-02, -9.3323e-02]],\n",
              "              \n",
              "                       [[-3.4684e-02,  3.4616e-02,  6.4343e-02],\n",
              "                        [ 4.8606e-02, -9.4155e-02, -6.6226e-02],\n",
              "                        [-1.9011e-02,  1.0200e-01,  1.0520e-02]],\n",
              "              \n",
              "                       [[-1.3821e-02,  5.0536e-02, -3.7571e-02],\n",
              "                        [-6.4122e-02,  7.7106e-02, -4.7272e-02],\n",
              "                        [-2.0981e-02, -1.0910e-01,  6.9988e-02]],\n",
              "              \n",
              "                       [[ 7.2975e-02,  3.3818e-02, -7.2820e-02],\n",
              "                        [-1.2387e-01, -9.9347e-02,  7.6299e-02],\n",
              "                        [ 3.2100e-02,  8.4607e-02,  5.2771e-02]],\n",
              "              \n",
              "                       [[ 2.6703e-02, -1.0105e-03, -8.0146e-02],\n",
              "                        [-9.0256e-02, -9.8568e-02,  4.3487e-02],\n",
              "                        [-5.1664e-02, -2.1182e-02, -6.0655e-02]],\n",
              "              \n",
              "                       [[-1.8967e-02, -7.6782e-02, -7.0793e-02],\n",
              "                        [ 3.6861e-02, -3.0961e-02,  6.5138e-02],\n",
              "                        [-3.4776e-02, -8.6854e-02, -2.4819e-02]],\n",
              "              \n",
              "                       [[-4.9360e-02, -3.1093e-02, -1.0061e-01],\n",
              "                        [ 6.0876e-02, -7.3934e-02,  5.5228e-02],\n",
              "                        [ 4.8274e-02,  7.7440e-02, -8.0276e-02]],\n",
              "              \n",
              "                       [[ 7.5567e-02, -4.8413e-02,  4.0254e-02],\n",
              "                        [ 9.7643e-02, -1.5078e-02, -1.6448e-03],\n",
              "                        [-2.4170e-02, -8.9801e-02,  5.3540e-02]],\n",
              "              \n",
              "                       [[-1.0464e-01,  6.5432e-02,  7.8865e-02],\n",
              "                        [ 9.9692e-02, -2.4863e-02, -8.6607e-02],\n",
              "                        [ 2.3699e-02,  5.8231e-02, -1.0491e-01]]],\n",
              "              \n",
              "              \n",
              "                      [[[-2.4880e-02, -6.4529e-02, -9.9832e-03],\n",
              "                        [-5.1433e-02, -4.2881e-02, -2.9316e-02],\n",
              "                        [-9.7217e-02,  8.7360e-02,  8.8634e-02]],\n",
              "              \n",
              "                       [[-1.6810e-02, -1.2466e-02, -4.2233e-02],\n",
              "                        [-9.5120e-02, -1.0215e-01,  4.0035e-02],\n",
              "                        [-5.7199e-02, -6.6305e-02, -4.9677e-03]],\n",
              "              \n",
              "                       [[-3.8667e-02, -3.7837e-02,  1.4125e-04],\n",
              "                        [-2.2218e-02, -3.6548e-02, -5.3367e-02],\n",
              "                        [-8.7647e-02,  8.8701e-02, -4.1822e-02]],\n",
              "              \n",
              "                       [[ 2.3619e-02, -4.0769e-02,  4.0883e-03],\n",
              "                        [ 9.8266e-02,  4.8117e-02, -8.8447e-02],\n",
              "                        [ 3.8773e-02,  9.7709e-02,  2.7007e-02]],\n",
              "              \n",
              "                       [[ 7.0155e-02,  1.0349e-01, -1.6636e-02],\n",
              "                        [ 2.1924e-02, -7.3118e-02, -2.1659e-02],\n",
              "                        [ 7.6295e-02,  5.2792e-02, -7.1294e-02]],\n",
              "              \n",
              "                       [[-8.4526e-02, -7.2033e-02, -1.0403e-01],\n",
              "                        [-8.1338e-02, -2.6147e-02,  7.1301e-02],\n",
              "                        [ 1.7620e-02, -8.0069e-02, -8.4558e-02]],\n",
              "              \n",
              "                       [[ 4.9583e-02, -8.1505e-02, -1.6151e-02],\n",
              "                        [ 4.9693e-02, -4.9642e-02, -1.1547e-02],\n",
              "                        [-1.0607e-02, -2.5285e-02, -5.3871e-02]],\n",
              "              \n",
              "                       [[-9.3965e-02, -8.5212e-02, -5.6520e-02],\n",
              "                        [ 1.0161e-01, -5.1281e-02, -7.0779e-02],\n",
              "                        [ 2.7456e-02,  3.0518e-02,  5.5223e-02]],\n",
              "              \n",
              "                       [[ 8.0402e-02,  5.8608e-02, -1.0451e-01],\n",
              "                        [ 1.0202e-02,  6.4501e-02, -1.0205e-02],\n",
              "                        [-6.3693e-02,  1.0150e-01, -3.6623e-02]],\n",
              "              \n",
              "                       [[-6.0014e-02, -9.5032e-02,  4.7085e-03],\n",
              "                        [ 4.6710e-02,  2.3334e-02,  2.0844e-02],\n",
              "                        [-7.9941e-02, -9.8441e-02,  1.8562e-03]]],\n",
              "              \n",
              "              \n",
              "                      [[[-9.3885e-02, -9.6635e-03, -1.0765e-01],\n",
              "                        [ 3.9431e-02,  1.6620e-01, -1.2835e-01],\n",
              "                        [ 1.4037e-01,  1.6548e-01,  3.0556e-02]],\n",
              "              \n",
              "                       [[ 6.8736e-02, -3.5128e-02,  1.2934e-01],\n",
              "                        [ 2.2121e-01,  6.4138e-02,  1.0952e-01],\n",
              "                        [-2.1252e-01, -6.1033e-02,  1.3893e-01]],\n",
              "              \n",
              "                       [[-1.5852e-01, -3.2379e-01, -3.5240e-01],\n",
              "                        [-1.3977e-01, -1.5910e-01, -2.1321e-01],\n",
              "                        [ 1.3840e-01, -5.6256e-02, -1.5514e-01]],\n",
              "              \n",
              "                       [[ 5.5243e-02,  7.9318e-02, -1.3432e-02],\n",
              "                        [-4.9012e-01, -3.9634e-01, -6.5606e-02],\n",
              "                        [-2.2837e-01, -3.9320e-01, -3.5452e-01]],\n",
              "              \n",
              "                       [[-1.1890e-02, -2.4756e-01, -1.0640e-01],\n",
              "                        [ 6.6838e-02,  4.6490e-02,  1.7098e-01],\n",
              "                        [-8.8751e-02,  2.4098e-02,  5.4385e-02]],\n",
              "              \n",
              "                       [[-5.3812e-02, -4.8387e-02,  3.6651e-02],\n",
              "                        [-6.7949e-02, -7.0697e-02, -6.0640e-03],\n",
              "                        [-3.8596e-02, -7.6506e-02,  5.5543e-02]],\n",
              "              \n",
              "                       [[ 1.2406e-01, -3.0401e-02,  7.4902e-02],\n",
              "                        [-9.1750e-02, -1.1098e-01, -4.5677e-02],\n",
              "                        [ 2.3359e-01,  6.3780e-02,  1.3594e-01]],\n",
              "              \n",
              "                       [[-6.8587e-02, -2.5698e-01, -1.1842e-01],\n",
              "                        [-1.4939e-01, -1.0952e-02, -6.7898e-02],\n",
              "                        [ 3.8019e-02, -5.8917e-02, -1.1681e-02]],\n",
              "              \n",
              "                       [[ 1.6684e-03, -5.2554e-02, -1.2174e-01],\n",
              "                        [-1.8648e-01, -1.9499e-01, -4.7102e-02],\n",
              "                        [-6.8504e-03, -5.7206e-02, -9.9438e-02]],\n",
              "              \n",
              "                       [[-1.0383e-01, -8.6261e-02,  2.0289e-02],\n",
              "                        [ 2.8341e-02,  2.2136e-02, -2.8652e-02],\n",
              "                        [ 9.7342e-02,  1.5083e-02, -6.2154e-02]]],\n",
              "              \n",
              "              \n",
              "                      [[[-7.8829e-02, -3.4806e-02,  5.2861e-02],\n",
              "                        [-1.0400e-01,  6.0883e-02, -1.0713e-01],\n",
              "                        [ 2.5574e-02, -4.7939e-04, -1.1595e-02]],\n",
              "              \n",
              "                       [[ 1.6396e-01,  1.4452e-01,  1.3782e-02],\n",
              "                        [ 2.2052e-01, -1.0291e-02, -2.5918e-01],\n",
              "                        [ 1.4884e-01, -1.0785e-01, -2.2886e-01]],\n",
              "              \n",
              "                       [[-4.3622e-02,  5.7504e-03,  1.8494e-02],\n",
              "                        [-5.2114e-02, -7.6736e-02, -4.2683e-03],\n",
              "                        [-7.8636e-02, -7.5212e-02,  7.1341e-02]],\n",
              "              \n",
              "                       [[-5.5275e-03,  6.8759e-04,  4.6384e-02],\n",
              "                        [ 3.5459e-02,  2.3034e-02, -3.0524e-02],\n",
              "                        [-3.2200e-02, -2.8573e-02,  2.4920e-03]],\n",
              "              \n",
              "                       [[ 5.8206e-02,  9.7366e-02, -8.9889e-02],\n",
              "                        [-5.6640e-03, -1.4110e-02, -1.1890e-01],\n",
              "                        [ 5.6118e-02,  7.6546e-02,  1.8580e-02]],\n",
              "              \n",
              "                       [[ 4.8521e-02, -7.7620e-02, -5.6285e-02],\n",
              "                        [-2.3137e-02, -1.8598e-02,  8.8346e-03],\n",
              "                        [-9.6869e-02,  3.3060e-02, -8.0346e-02]],\n",
              "              \n",
              "                       [[-1.4221e-01, -6.5537e-02,  1.4027e-01],\n",
              "                        [-9.9120e-02,  1.2329e-01,  2.6754e-02],\n",
              "                        [ 1.9900e-03,  8.5983e-02, -2.3149e-02]],\n",
              "              \n",
              "                       [[ 4.3753e-02,  5.1077e-02, -9.4517e-02],\n",
              "                        [ 4.8587e-02,  3.5986e-02,  2.1455e-02],\n",
              "                        [ 1.3026e-02,  3.4826e-02, -4.2330e-02]],\n",
              "              \n",
              "                       [[ 2.1576e-03,  9.0993e-02,  5.3769e-02],\n",
              "                        [-2.1280e-02, -1.1716e-01,  2.1035e-02],\n",
              "                        [-8.0779e-02,  1.0243e-01, -5.9006e-02]],\n",
              "              \n",
              "                       [[-7.6297e-03, -2.3393e-02,  1.8814e-02],\n",
              "                        [ 9.9205e-02,  1.0028e-02,  6.1074e-02],\n",
              "                        [ 8.1800e-02,  8.5101e-02, -3.6404e-02]]],\n",
              "              \n",
              "              \n",
              "                      [[[ 2.0640e-01,  3.2508e-01,  3.2201e-01],\n",
              "                        [-7.4108e-02, -6.7139e-02,  1.5174e-02],\n",
              "                        [-3.8777e-01, -2.1205e-01, -1.2297e-02]],\n",
              "              \n",
              "                       [[ 2.2195e-01,  3.8280e-01,  3.5460e-01],\n",
              "                        [-1.4585e-01, -9.7627e-02,  2.8659e-02],\n",
              "                        [-3.8754e-01, -4.4505e-01, -2.3612e-01]],\n",
              "              \n",
              "                       [[-3.0183e-02, -8.5318e-02, -6.7264e-02],\n",
              "                        [-5.7339e-02, -4.0733e-02,  2.7069e-02],\n",
              "                        [ 1.9091e-01,  7.5572e-02,  5.1778e-02]],\n",
              "              \n",
              "                       [[-6.2003e-02, -1.5380e-01, -9.1100e-02],\n",
              "                        [-5.5176e-02, -1.8537e-01, -8.7078e-02],\n",
              "                        [ 6.1317e-02,  1.4019e-02, -3.5864e-02]],\n",
              "              \n",
              "                       [[-2.8556e-02,  1.2838e-01,  7.4404e-02],\n",
              "                        [ 1.6317e-02,  3.3330e-02,  5.3158e-02],\n",
              "                        [-2.2476e-01, -1.5975e-01, -1.2365e-01]],\n",
              "              \n",
              "                       [[-8.3319e-02, -8.2702e-03, -9.2843e-02],\n",
              "                        [ 7.3835e-02,  1.1762e-02, -5.6716e-02],\n",
              "                        [ 5.6486e-02, -9.9098e-02, -3.9704e-02]],\n",
              "              \n",
              "                       [[ 7.2216e-02, -1.8266e-02, -2.3448e-02],\n",
              "                        [ 2.7616e-02,  8.4390e-02,  1.0653e-01],\n",
              "                        [ 2.0512e-01,  7.8081e-02, -2.4670e-02]],\n",
              "              \n",
              "                       [[ 9.4038e-02,  4.9661e-02,  1.2559e-02],\n",
              "                        [-1.2986e-03, -8.8145e-02, -3.7066e-02],\n",
              "                        [ 8.2361e-02, -3.6141e-02, -1.8894e-02]],\n",
              "              \n",
              "                       [[-1.0583e-01, -5.6023e-02, -7.1089e-03],\n",
              "                        [-5.0413e-02,  5.6502e-04,  2.6147e-02],\n",
              "                        [-1.0031e-01,  3.0652e-02, -7.4930e-02]],\n",
              "              \n",
              "                       [[-5.1582e-02,  4.0269e-02,  8.3798e-02],\n",
              "                        [-2.8762e-02, -4.3256e-02, -9.5098e-02],\n",
              "                        [-5.4328e-02, -9.2309e-02, -2.4067e-02]]],\n",
              "              \n",
              "              \n",
              "                      [[[ 2.7547e-01, -1.8211e-01, -1.6171e-01],\n",
              "                        [ 2.2440e-01,  7.9125e-03, -3.9768e-01],\n",
              "                        [ 2.4186e-01,  3.7581e-01, -1.9868e-01]],\n",
              "              \n",
              "                       [[ 4.0889e-02,  3.2358e-02, -4.4202e-01],\n",
              "                        [ 4.2722e-01,  2.3895e-01, -3.9019e-01],\n",
              "                        [ 2.8561e-01,  1.7755e-01, -5.2104e-01]],\n",
              "              \n",
              "                       [[-2.2528e-01, -2.0949e-01, -1.0202e-01],\n",
              "                        [-1.0831e-01, -2.9414e-01,  4.3223e-02],\n",
              "                        [ 1.0327e-01, -6.3702e-02,  8.8936e-02]],\n",
              "              \n",
              "                       [[-3.5031e-01, -8.0683e-02,  1.4150e-01],\n",
              "                        [-3.0950e-02, -1.2702e-01,  4.7552e-01],\n",
              "                        [-8.6037e-02, -3.3410e-01,  2.7603e-01]],\n",
              "              \n",
              "                       [[ 6.2494e-02,  4.8093e-02, -2.2239e-01],\n",
              "                        [ 1.8290e-02,  1.7619e-01, -2.4773e-01],\n",
              "                        [-1.1349e-01,  2.5847e-01, -1.5716e-01]],\n",
              "              \n",
              "                       [[ 9.3948e-02, -9.2731e-02, -3.4650e-02],\n",
              "                        [-9.9790e-02, -4.2766e-02,  3.1466e-02],\n",
              "                        [ 1.0050e-01,  1.6133e-02,  1.0148e-01]],\n",
              "              \n",
              "                       [[ 4.3377e-02, -6.1608e-03,  1.6020e-01],\n",
              "                        [ 6.2385e-03, -1.3801e-01,  3.0083e-02],\n",
              "                        [ 9.7631e-02,  5.2928e-02, -7.6696e-02]],\n",
              "              \n",
              "                       [[-1.7474e-01, -4.1170e-02, -4.8902e-02],\n",
              "                        [-6.7497e-02,  1.8613e-02,  1.6131e-02],\n",
              "                        [-4.2472e-03, -7.3173e-02,  9.8464e-02]],\n",
              "              \n",
              "                       [[ 1.0802e-01, -1.8244e-01, -1.8281e-02],\n",
              "                        [ 1.6178e-02, -5.8197e-02, -1.8787e-01],\n",
              "                        [-7.9854e-03, -8.9168e-02, -1.8792e-01]],\n",
              "              \n",
              "                       [[ 5.9461e-02,  3.8308e-02,  8.3518e-02],\n",
              "                        [-3.9419e-02,  3.5427e-02,  3.7666e-02],\n",
              "                        [-8.7839e-02, -1.0221e-01, -5.4721e-02]]],\n",
              "              \n",
              "              \n",
              "                      [[[ 1.2028e-01, -7.6141e-02, -2.7839e-01],\n",
              "                        [ 8.3248e-02,  1.4571e-01, -1.0391e-01],\n",
              "                        [-5.7657e-02,  1.0348e-01,  3.6194e-02]],\n",
              "              \n",
              "                       [[ 9.1176e-02,  6.9909e-02, -2.9645e-01],\n",
              "                        [ 1.1573e-02,  2.6874e-01, -2.8830e-01],\n",
              "                        [-1.5775e-03,  3.9602e-01, -2.0961e-01]],\n",
              "              \n",
              "                       [[-7.2890e-02, -2.4638e-03,  5.1000e-03],\n",
              "                        [ 1.7425e-02, -1.1168e-01, -3.5566e-02],\n",
              "                        [ 1.2703e-01, -7.9669e-02, -4.8657e-03]],\n",
              "              \n",
              "                       [[-1.8199e-02, -1.3810e-01,  2.0415e-01],\n",
              "                        [-6.2384e-02, -8.7429e-02,  1.8880e-01],\n",
              "                        [-7.7196e-02, -2.1168e-01,  8.9756e-02]],\n",
              "              \n",
              "                       [[ 4.2390e-02, -6.3059e-02, -2.2652e-01],\n",
              "                        [ 5.4805e-02,  1.7095e-01, -7.7475e-02],\n",
              "                        [-9.8608e-02,  1.2203e-01, -9.2600e-02]],\n",
              "              \n",
              "                       [[-1.9948e-02, -7.2381e-02,  8.6020e-03],\n",
              "                        [ 1.0716e-02, -1.3786e-02,  1.4245e-02],\n",
              "                        [-4.1902e-02,  2.6336e-02,  3.9761e-02]],\n",
              "              \n",
              "                       [[-2.5163e-02, -1.0366e-01,  1.0997e-01],\n",
              "                        [ 1.5989e-03, -6.7346e-02,  5.9946e-02],\n",
              "                        [-9.8420e-02,  5.9343e-02,  4.1270e-02]],\n",
              "              \n",
              "                       [[-1.1489e-01,  4.5299e-02, -1.0683e-01],\n",
              "                        [-1.1125e-01,  9.7544e-03,  3.4338e-02],\n",
              "                        [ 8.7074e-02, -6.4956e-02,  4.1290e-02]],\n",
              "              \n",
              "                       [[-1.0582e-01,  5.7634e-02, -8.3943e-02],\n",
              "                        [-1.0531e-01, -2.0917e-02,  5.1305e-02],\n",
              "                        [ 7.9139e-02, -7.4504e-02, -8.0239e-02]],\n",
              "              \n",
              "                       [[ 2.0352e-02,  2.8590e-02,  4.0526e-02],\n",
              "                        [ 5.7805e-02, -2.3916e-02,  5.8682e-02],\n",
              "                        [ 7.7792e-02, -2.7510e-02,  7.4972e-02]]],\n",
              "              \n",
              "              \n",
              "                      [[[-1.1386e-01,  1.2118e-01,  9.3158e-02],\n",
              "                        [-5.8827e-02,  1.8817e-02, -1.7438e-02],\n",
              "                        [ 1.0308e-01,  2.5459e-02, -1.0364e-01]],\n",
              "              \n",
              "                       [[ 5.1580e-02,  3.0267e-01, -6.3188e-02],\n",
              "                        [ 6.2920e-02, -5.6854e-02, -1.8555e-01],\n",
              "                        [ 2.6921e-01,  4.4731e-02,  3.2677e-02]],\n",
              "              \n",
              "                       [[-1.4620e-01, -2.6240e-01, -4.3033e-02],\n",
              "                        [-2.0134e-01, -2.1171e-01, -1.3301e-01],\n",
              "                        [-1.0183e-01, -1.3693e-01,  3.2669e-03]],\n",
              "              \n",
              "                       [[-1.4575e-01, -3.9538e-02,  9.4274e-02],\n",
              "                        [-2.0181e-01, -2.1853e-01, -2.1787e-02],\n",
              "                        [-1.0876e-02, -1.4902e-01,  6.1543e-02]],\n",
              "              \n",
              "                       [[ 6.5760e-02,  2.0956e-02,  9.8198e-03],\n",
              "                        [ 2.3831e-01,  1.0747e-01, -3.8668e-02],\n",
              "                        [ 8.0232e-02, -5.4897e-02, -1.0160e-01]],\n",
              "              \n",
              "                       [[ 8.6223e-02,  8.0812e-02,  3.0689e-02],\n",
              "                        [ 6.7982e-03, -8.9928e-02, -1.2525e-02],\n",
              "                        [ 1.0103e-01,  2.5994e-02,  8.2879e-03]],\n",
              "              \n",
              "                       [[-7.2562e-02, -5.6219e-02,  1.7232e-01],\n",
              "                        [-1.6529e-02,  3.4219e-02, -3.5216e-02],\n",
              "                        [ 1.0565e-02,  2.1345e-02, -5.0373e-02]],\n",
              "              \n",
              "                       [[-4.6398e-02, -5.2539e-02,  8.7173e-02],\n",
              "                        [ 5.1620e-02, -8.3660e-02, -1.1611e-01],\n",
              "                        [-1.1692e-02, -2.0581e-02, -3.7372e-02]],\n",
              "              \n",
              "                       [[-6.3630e-02, -8.6661e-02, -4.3923e-02],\n",
              "                        [-2.1872e-02, -8.6525e-02, -1.1345e-01],\n",
              "                        [-3.0193e-02, -1.2036e-01,  1.1970e-02]],\n",
              "              \n",
              "                       [[ 5.5914e-02,  9.5036e-02,  3.0147e-04],\n",
              "                        [ 2.1278e-02,  3.6794e-02, -9.9739e-02],\n",
              "                        [ 9.3240e-03, -7.0025e-03, -5.9035e-02]]],\n",
              "              \n",
              "              \n",
              "                      [[[-1.9420e-01,  2.9576e-01,  3.5081e-01],\n",
              "                        [-3.2238e-01,  1.5227e-02,  1.4288e-01],\n",
              "                        [-3.0242e-01, -9.3890e-02,  1.1694e-01]],\n",
              "              \n",
              "                       [[-2.4688e-01,  5.2357e-02,  2.3520e-01],\n",
              "                        [-3.3991e-01, -2.7228e-02,  3.9322e-01],\n",
              "                        [-2.9090e-01, -9.5058e-02,  3.9176e-01]],\n",
              "              \n",
              "                       [[-5.0240e-02,  2.7458e-02,  6.0240e-02],\n",
              "                        [-6.3259e-02,  4.0976e-02, -7.7551e-02],\n",
              "                        [-5.9236e-02,  3.2573e-02, -5.1659e-02]],\n",
              "              \n",
              "                       [[-4.5881e-02,  1.4452e-02, -1.1972e-01],\n",
              "                        [ 4.3994e-03, -6.7128e-02, -2.5418e-01],\n",
              "                        [ 8.8973e-02, -1.2379e-01, -1.2682e-01]],\n",
              "              \n",
              "                       [[-8.4842e-02, -2.5907e-02, -3.9065e-02],\n",
              "                        [-5.3495e-03, -9.3586e-02,  8.7659e-02],\n",
              "                        [ 1.6955e-02,  4.2713e-02,  2.2525e-01]],\n",
              "              \n",
              "                       [[-9.9645e-02, -7.3311e-02, -3.8536e-02],\n",
              "                        [ 8.8666e-02,  1.2647e-02, -7.8735e-02],\n",
              "                        [ 2.2824e-03, -8.2319e-02, -2.1585e-02]],\n",
              "              \n",
              "                       [[ 1.4627e-02,  1.3609e-01,  2.0526e-02],\n",
              "                        [-1.4469e-03,  7.0999e-02,  2.0492e-03],\n",
              "                        [ 2.5310e-02, -6.4736e-02, -5.9240e-02]],\n",
              "              \n",
              "                       [[-4.6897e-02,  8.9813e-02, -3.3147e-02],\n",
              "                        [-3.5124e-02,  4.7857e-02,  9.8874e-02],\n",
              "                        [ 1.0500e-01,  4.1473e-02, -3.4083e-02]],\n",
              "              \n",
              "                       [[ 5.3772e-02,  1.1024e-01, -7.7003e-02],\n",
              "                        [ 6.7108e-03, -9.2717e-02,  4.7525e-04],\n",
              "                        [ 7.0666e-02, -3.5894e-02, -3.1324e-03]],\n",
              "              \n",
              "                       [[ 4.7493e-02, -1.7698e-02, -8.8349e-02],\n",
              "                        [ 8.4344e-02, -5.2880e-02, -1.1457e-02],\n",
              "                        [ 9.9793e-03, -6.3438e-03, -9.9063e-02]]]], device='cuda:0')),\n",
              "             ('conv_block_1.2.bias',\n",
              "              tensor([ 0.3379, -0.0527, -0.0587,  0.5237, -0.0918, -0.0086,  0.0979, -0.0301,\n",
              "                       0.1671,  0.1461], device='cuda:0')),\n",
              "             ('conv_block_2.0.weight',\n",
              "              tensor([[[[-3.9720e-02, -9.7507e-02, -3.4948e-02],\n",
              "                        [-3.6057e-02,  2.1942e-02,  1.3465e-01],\n",
              "                        [-8.8241e-02,  5.9820e-02,  1.2256e-01]],\n",
              "              \n",
              "                       [[ 5.9372e-02, -9.6945e-02, -4.0122e-02],\n",
              "                        [-9.0098e-02, -6.6852e-02,  5.8589e-02],\n",
              "                        [-1.4151e-02,  4.7071e-02, -6.2232e-02]],\n",
              "              \n",
              "                       [[ 1.5696e-02, -6.3869e-02,  5.2710e-02],\n",
              "                        [-4.5359e-02, -2.6182e-02, -9.1773e-02],\n",
              "                        [ 3.5873e-04,  1.0024e-01,  5.1516e-02]],\n",
              "              \n",
              "                       [[-1.0586e-01,  3.7146e-02, -2.1588e-02],\n",
              "                        [-1.2111e-01,  9.3879e-02, -3.8302e-02],\n",
              "                        [ 5.0287e-03, -1.0219e-01, -7.5311e-02]],\n",
              "              \n",
              "                       [[ 1.2864e-02,  4.4484e-02,  8.9431e-03],\n",
              "                        [-3.6527e-02,  1.0250e-01, -3.3394e-02],\n",
              "                        [-4.1683e-02, -4.2569e-02,  8.3823e-02]],\n",
              "              \n",
              "                       [[ 7.1984e-02, -1.4052e-02, -5.8693e-02],\n",
              "                        [ 4.9647e-03, -8.7733e-02, -9.5387e-02],\n",
              "                        [ 2.6868e-02,  8.3605e-02,  5.0216e-02]],\n",
              "              \n",
              "                       [[-1.4437e-01,  1.2040e-01, -1.1038e-01],\n",
              "                        [ 6.3112e-02,  1.4685e-01,  3.1902e-02],\n",
              "                        [ 2.5192e-01,  5.3573e-02, -4.8362e-02]],\n",
              "              \n",
              "                       [[ 5.1284e-02, -1.5330e-02,  1.2607e-02],\n",
              "                        [ 3.9280e-03,  5.1118e-02, -1.2905e-01],\n",
              "                        [ 5.4691e-02, -5.3467e-02, -7.7014e-02]],\n",
              "              \n",
              "                       [[-1.2632e-01, -6.0634e-02, -9.2629e-03],\n",
              "                        [ 5.3123e-02,  1.2319e-01,  3.9778e-02],\n",
              "                        [-3.8446e-02, -1.0481e-01,  2.0695e-02]],\n",
              "              \n",
              "                       [[ 2.1803e-01, -8.5895e-02,  5.3030e-02],\n",
              "                        [ 2.1387e-01,  5.4885e-02, -4.6938e-02],\n",
              "                        [ 1.5397e-01,  8.9675e-02,  5.5058e-02]]],\n",
              "              \n",
              "              \n",
              "                      [[[-8.5326e-02, -1.5727e-01, -1.7523e-01],\n",
              "                        [ 9.4772e-02, -3.1252e-01, -5.6003e-02],\n",
              "                        [ 5.1828e-02,  3.6208e-02, -4.6305e-02]],\n",
              "              \n",
              "                       [[ 4.3820e-02, -4.2506e-02, -1.0528e-01],\n",
              "                        [-4.0310e-02,  9.7928e-02, -1.7671e-02],\n",
              "                        [ 2.3105e-02, -4.8866e-02,  6.7278e-02]],\n",
              "              \n",
              "                       [[ 6.2147e-02,  3.7475e-02, -5.2611e-02],\n",
              "                        [-8.5986e-02,  3.8452e-03, -6.2641e-02],\n",
              "                        [ 8.6593e-02, -1.0116e-01,  4.7027e-02]],\n",
              "              \n",
              "                       [[-1.0457e-01,  3.3993e-01,  3.7634e-01],\n",
              "                        [-1.3276e-01,  7.8431e-01,  1.7584e-01],\n",
              "                        [-8.7719e-01, -3.7110e-02, -2.8202e-02]],\n",
              "              \n",
              "                       [[-1.8726e-02,  1.1540e-01,  1.7705e-02],\n",
              "                        [-1.1538e-01, -7.2677e-02, -1.0546e-02],\n",
              "                        [ 1.0087e-01, -1.4606e-01, -8.1447e-02]],\n",
              "              \n",
              "                       [[ 1.2664e-01, -4.4663e-01, -4.1754e-02],\n",
              "                        [ 3.7937e-01,  1.4102e-01, -6.3735e-02],\n",
              "                        [ 1.2625e-02,  2.5096e-01,  1.6208e-01]],\n",
              "              \n",
              "                       [[-4.0645e-01, -1.0537e-01, -1.5656e-02],\n",
              "                        [-5.3970e-01,  2.4756e-01,  2.9046e-01],\n",
              "                        [-4.9355e-01, -7.4729e-02,  1.5591e-01]],\n",
              "              \n",
              "                       [[-4.6984e-02, -1.8856e-01,  5.3810e-02],\n",
              "                        [-2.2358e-01,  1.2797e-01, -9.9660e-02],\n",
              "                        [-2.7867e-01, -9.6035e-03,  3.4232e-02]],\n",
              "              \n",
              "                       [[-3.5218e-01,  3.9679e-02,  4.3527e-01],\n",
              "                        [-1.9685e-01,  3.4910e-01,  2.5576e-01],\n",
              "                        [-3.1916e-01, -5.6458e-02, -1.2484e-01]],\n",
              "              \n",
              "                       [[ 2.7619e-01,  4.2234e-03, -1.4503e-01],\n",
              "                        [ 2.5786e-01, -4.0449e-02, -2.4855e-01],\n",
              "                        [-2.1145e-01,  6.3706e-02,  8.0322e-02]]],\n",
              "              \n",
              "              \n",
              "                      [[[-5.1644e-02,  7.5607e-02,  6.8730e-02],\n",
              "                        [-7.5548e-02, -1.0766e-01, -9.3185e-02],\n",
              "                        [-6.9689e-02, -5.5949e-02, -2.0880e-02]],\n",
              "              \n",
              "                       [[-2.5338e-02, -5.3347e-02, -3.3733e-02],\n",
              "                        [-3.7110e-02,  1.0310e-01, -3.9707e-02],\n",
              "                        [-7.5489e-02,  4.3842e-02, -6.0225e-03]],\n",
              "              \n",
              "                       [[ 8.0615e-02,  6.5794e-02,  9.6876e-02],\n",
              "                        [-7.7171e-02,  6.7736e-02,  8.8444e-02],\n",
              "                        [-5.2065e-02,  9.6887e-02,  7.9017e-02]],\n",
              "              \n",
              "                       [[-8.4098e-03,  4.6131e-02, -4.5404e-02],\n",
              "                        [-1.1090e-01,  4.6191e-02,  5.9078e-02],\n",
              "                        [-1.0736e-01,  4.8889e-02, -9.9614e-02]],\n",
              "              \n",
              "                       [[ 8.7042e-02,  1.0461e-01,  1.7573e-02],\n",
              "                        [-6.7795e-02,  6.5930e-02,  2.7176e-02],\n",
              "                        [ 6.6472e-03,  2.7743e-02,  7.4954e-02]],\n",
              "              \n",
              "                       [[-3.9991e-02, -4.0331e-02,  8.9192e-03],\n",
              "                        [ 8.2862e-04,  5.4793e-02, -4.9262e-02],\n",
              "                        [-1.6510e-02,  2.0781e-02, -1.1011e-02]],\n",
              "              \n",
              "                       [[ 9.6587e-02,  1.0008e-02, -7.9146e-02],\n",
              "                        [ 9.7724e-03, -4.8124e-02,  2.9770e-02],\n",
              "                        [-5.7974e-02, -1.2257e-01, -2.2303e-02]],\n",
              "              \n",
              "                       [[ 9.7826e-04, -3.3968e-02,  1.0152e-01],\n",
              "                        [-5.9632e-03,  7.6089e-02,  3.6915e-02],\n",
              "                        [-1.1062e-01,  1.7772e-02,  7.7474e-02]],\n",
              "              \n",
              "                       [[-7.8800e-02, -7.0836e-02,  9.2167e-02],\n",
              "                        [ 7.8788e-02, -5.1656e-02,  9.7178e-02],\n",
              "                        [-5.1581e-02, -1.1529e-01,  1.2254e-02]],\n",
              "              \n",
              "                       [[ 5.1398e-02, -1.7445e-02,  8.8334e-02],\n",
              "                        [-8.1298e-02,  1.3026e-01,  1.1884e-01],\n",
              "                        [ 6.1987e-02,  5.1365e-02,  2.0803e-02]]],\n",
              "              \n",
              "              \n",
              "                      [[[-4.3426e-02, -4.1151e-02,  2.9175e-03],\n",
              "                        [-7.5458e-02, -1.1214e-01,  1.0182e-01],\n",
              "                        [ 5.3129e-02, -1.1045e-01,  5.8818e-02]],\n",
              "              \n",
              "                       [[ 4.1874e-02,  1.0001e-01,  6.0986e-02],\n",
              "                        [ 9.5945e-02, -3.6605e-02,  7.3378e-02],\n",
              "                        [ 8.7231e-02, -1.0001e-01, -8.6213e-02]],\n",
              "              \n",
              "                       [[ 2.1473e-02,  5.7547e-02, -5.2891e-02],\n",
              "                        [ 1.1633e-02,  5.6065e-04,  2.7002e-02],\n",
              "                        [-5.6657e-02,  5.9455e-02,  6.9923e-02]],\n",
              "              \n",
              "                       [[-8.1031e-02, -5.7441e-02, -5.4028e-02],\n",
              "                        [ 1.6589e-01,  1.2087e-01,  7.6397e-03],\n",
              "                        [ 5.7561e-02,  1.2348e-01, -1.1300e-01]],\n",
              "              \n",
              "                       [[-3.4306e-02,  4.3264e-02, -8.1940e-02],\n",
              "                        [ 9.8479e-03, -5.0554e-02, -6.9930e-04],\n",
              "                        [ 4.3967e-03,  3.3456e-02, -1.0457e-01]],\n",
              "              \n",
              "                       [[-1.4593e-01,  5.9014e-02,  1.3072e-01],\n",
              "                        [-1.6465e-01,  9.6719e-03, -3.6236e-03],\n",
              "                        [-1.1448e-02,  3.3689e-02,  6.6942e-02]],\n",
              "              \n",
              "                       [[-1.1088e-01,  1.0273e-01,  5.1724e-02],\n",
              "                        [-1.4344e-02,  2.2579e-01, -2.5440e-02],\n",
              "                        [-7.0214e-02,  5.6614e-02, -7.7272e-02]],\n",
              "              \n",
              "                       [[ 1.3257e-02,  4.6673e-02, -6.0907e-02],\n",
              "                        [-6.6347e-02,  9.1405e-02, -9.0194e-02],\n",
              "                        [-4.7888e-02,  2.4159e-02, -6.1603e-02]],\n",
              "              \n",
              "                       [[ 2.7955e-02,  3.2125e-03,  6.1435e-02],\n",
              "                        [ 5.5384e-02, -3.1160e-02,  7.1834e-02],\n",
              "                        [ 5.6507e-02,  3.3888e-02, -9.9842e-02]],\n",
              "              \n",
              "                       [[ 3.8874e-03, -1.0895e-01,  1.9829e-02],\n",
              "                        [-2.7275e-02, -1.5824e-01, -7.2239e-02],\n",
              "                        [-9.4711e-02, -4.5740e-03,  2.6870e-02]]],\n",
              "              \n",
              "              \n",
              "                      [[[-6.5786e-02,  5.7936e-02, -1.2110e-01],\n",
              "                        [-7.3927e-02,  1.5094e-01,  7.2007e-02],\n",
              "                        [ 1.6642e-01,  8.7270e-02,  9.1605e-02]],\n",
              "              \n",
              "                       [[ 6.6740e-02,  7.7509e-02, -1.0511e-01],\n",
              "                        [ 8.5902e-02, -8.8099e-02,  9.4010e-02],\n",
              "                        [-7.2938e-03, -9.3637e-02,  2.8940e-02]],\n",
              "              \n",
              "                       [[-2.1800e-02, -9.4804e-02, -3.8259e-02],\n",
              "                        [ 1.1233e-02,  8.1831e-02, -3.2553e-02],\n",
              "                        [ 6.2781e-02,  1.3882e-02,  3.7850e-03]],\n",
              "              \n",
              "                       [[ 2.2320e-01, -5.7796e-02, -1.6102e-01],\n",
              "                        [ 1.4372e-01, -1.5258e-01, -2.1006e-01],\n",
              "                        [ 6.7873e-02, -1.3866e-02, -9.9949e-02]],\n",
              "              \n",
              "                       [[ 2.9790e-02,  1.5110e-02, -5.8256e-02],\n",
              "                        [ 7.0014e-02, -1.1157e-02,  1.9039e-02],\n",
              "                        [ 4.3135e-02, -4.7343e-02, -3.7154e-02]],\n",
              "              \n",
              "                       [[-1.8241e-02, -1.2929e-01, -1.6695e-02],\n",
              "                        [ 6.7862e-02, -1.4648e-02, -2.3446e-02],\n",
              "                        [ 6.7556e-02, -8.2637e-02, -1.5183e-01]],\n",
              "              \n",
              "                       [[ 1.0706e-01, -8.6410e-02, -9.3438e-02],\n",
              "                        [ 1.1120e-01, -2.2580e-02, -1.5070e-01],\n",
              "                        [ 1.4343e-01,  1.4557e-01,  6.4522e-03]],\n",
              "              \n",
              "                       [[ 1.1314e-01, -1.3248e-01, -6.8905e-03],\n",
              "                        [ 1.2029e-01,  1.5414e-02, -1.3107e-01],\n",
              "                        [ 4.5100e-02, -6.0267e-02,  1.2818e-02]],\n",
              "              \n",
              "                       [[ 7.5803e-02, -4.5448e-02, -1.4371e-01],\n",
              "                        [ 3.7784e-02,  5.3193e-02, -3.3144e-02],\n",
              "                        [-4.2810e-02,  5.5022e-03, -5.8232e-02]],\n",
              "              \n",
              "                       [[-8.5993e-02, -8.5245e-03,  4.8744e-02],\n",
              "                        [ 7.7203e-02, -1.4422e-01, -3.5387e-02],\n",
              "                        [ 1.5024e-01,  3.9684e-02, -1.1771e-01]]],\n",
              "              \n",
              "              \n",
              "                      [[[-1.1230e-01,  1.7490e-02, -2.2186e-02],\n",
              "                        [-5.5627e-04, -3.5600e-02,  3.8105e-02],\n",
              "                        [ 9.4996e-02, -1.6259e-02,  1.3574e-01]],\n",
              "              \n",
              "                       [[ 9.5135e-02,  1.2478e-02,  2.1187e-02],\n",
              "                        [-4.2051e-03,  6.9922e-02, -9.9273e-02],\n",
              "                        [ 4.3746e-02, -1.6602e-02,  5.0511e-02]],\n",
              "              \n",
              "                       [[-4.7666e-04, -3.9427e-02, -1.1337e-02],\n",
              "                        [ 5.6898e-02, -7.3481e-02, -6.7247e-02],\n",
              "                        [-2.3437e-02, -3.8054e-02,  4.1972e-02]],\n",
              "              \n",
              "                       [[-1.5807e-02, -1.2514e-02,  4.5418e-02],\n",
              "                        [-1.4703e-01, -7.5894e-02, -1.7440e-01],\n",
              "                        [-3.0553e-01, -1.1492e-01, -1.8623e-01]],\n",
              "              \n",
              "                       [[-8.4524e-02, -1.7867e-02,  6.2484e-02],\n",
              "                        [ 1.0262e-01,  1.1531e-01,  7.3755e-03],\n",
              "                        [-5.1034e-03, -3.7658e-02,  7.8628e-02]],\n",
              "              \n",
              "                       [[-1.3047e-01,  2.6013e-02,  5.6506e-02],\n",
              "                        [ 1.5799e-02, -9.4027e-04, -8.4749e-04],\n",
              "                        [ 9.3342e-02,  1.1168e-01,  1.5451e-01]],\n",
              "              \n",
              "                       [[ 2.0963e-01,  7.5536e-02,  2.1510e-02],\n",
              "                        [ 1.8227e-01,  2.4600e-01, -4.4616e-02],\n",
              "                        [-4.8764e-02,  1.2701e-01,  1.2613e-01]],\n",
              "              \n",
              "                       [[ 1.9832e-01,  3.7792e-02, -7.2999e-02],\n",
              "                        [ 8.8913e-02,  1.5118e-01,  8.2220e-03],\n",
              "                        [-4.6857e-02,  1.9414e-01,  9.4640e-02]],\n",
              "              \n",
              "                       [[-1.2792e-01, -2.2481e-02, -3.1045e-02],\n",
              "                        [-1.2531e-01,  6.3850e-02, -4.2684e-02],\n",
              "                        [-1.7462e-01,  3.5796e-03, -4.0956e-02]],\n",
              "              \n",
              "                       [[ 8.8800e-02,  2.1147e-01,  2.2521e-01],\n",
              "                        [ 2.0321e-02,  1.3159e-01,  1.5562e-01],\n",
              "                        [ 6.3694e-02, -6.7328e-02, -2.0535e-02]]],\n",
              "              \n",
              "              \n",
              "                      [[[-9.4457e-02,  2.6148e-01,  2.2711e-01],\n",
              "                        [-3.3627e-01, -5.0918e-02, -1.7761e-02],\n",
              "                        [-1.7123e-01, -2.6138e-01, -3.8019e-01]],\n",
              "              \n",
              "                       [[-6.3178e-02,  2.4731e-02,  4.9135e-02],\n",
              "                        [ 9.6292e-02, -4.2129e-02, -8.6597e-03],\n",
              "                        [-2.0457e-02, -1.9918e-03,  3.3597e-02]],\n",
              "              \n",
              "                       [[-1.9500e-03,  3.4356e-03,  1.1143e-02],\n",
              "                        [ 3.7267e-02, -3.2589e-02, -6.2835e-02],\n",
              "                        [ 2.4902e-02, -1.2668e-02, -4.7781e-02]],\n",
              "              \n",
              "                       [[-5.6281e-02, -3.5450e-01, -6.2022e-01],\n",
              "                        [ 4.7044e-01,  2.3869e-01, -2.0253e-01],\n",
              "                        [ 7.3995e-02,  2.4628e-01,  3.5296e-01]],\n",
              "              \n",
              "                       [[-5.4857e-02, -5.9868e-02, -2.3286e-02],\n",
              "                        [ 7.0090e-02, -1.8374e-01, -1.0965e-02],\n",
              "                        [-4.0215e-02, -1.5833e-01, -2.7333e-03]],\n",
              "              \n",
              "                       [[ 3.4233e-02,  2.2701e-02,  9.8192e-02],\n",
              "                        [-1.2550e-01,  3.8719e-02, -1.4437e-01],\n",
              "                        [ 3.0691e-01,  9.2555e-02,  2.1801e-02]],\n",
              "              \n",
              "                       [[-5.8637e-02,  3.1319e-01, -4.2479e-01],\n",
              "                        [ 2.6585e-01,  2.8612e-01, -2.0120e-01],\n",
              "                        [-2.8199e-01, -2.1373e-01, -2.6051e-01]],\n",
              "              \n",
              "                       [[ 2.1865e-02,  1.3763e-01, -3.5955e-01],\n",
              "                        [ 1.2690e-01,  4.8899e-02, -1.0321e-01],\n",
              "                        [-1.3657e-01, -2.1800e-01, -5.6836e-02]],\n",
              "              \n",
              "                       [[-6.7248e-02, -8.7702e-03, -2.0249e-01],\n",
              "                        [ 1.8449e-01,  1.6771e-01, -3.0329e-01],\n",
              "                        [-1.0277e-02,  1.4084e-01,  1.7322e-02]],\n",
              "              \n",
              "                       [[ 4.6064e-02, -2.4734e-01,  5.3665e-02],\n",
              "                        [-3.8873e-02, -4.5259e-01, -2.4824e-01],\n",
              "                        [ 1.2308e-01, -2.6904e-01, -6.9676e-02]]],\n",
              "              \n",
              "              \n",
              "                      [[[-1.0348e-01,  3.1231e-01,  1.0084e-01],\n",
              "                        [-7.5868e-02, -1.7351e-01, -6.1885e-02],\n",
              "                        [ 3.7405e-02,  1.0553e-02,  1.9484e-01]],\n",
              "              \n",
              "                       [[-8.9107e-02, -7.6712e-03, -5.2192e-02],\n",
              "                        [ 4.0701e-02, -5.0922e-02,  6.6107e-02],\n",
              "                        [-8.0936e-02,  6.5157e-02, -8.4468e-02]],\n",
              "              \n",
              "                       [[ 5.7831e-02, -4.5356e-02, -1.7635e-03],\n",
              "                        [-1.9429e-02,  6.8898e-02,  3.5536e-02],\n",
              "                        [-9.1226e-02,  1.0186e-02, -7.1823e-02]],\n",
              "              \n",
              "                       [[-8.9302e-02, -2.6904e-01, -5.5797e-01],\n",
              "                        [-2.6608e-01,  4.5808e-01,  1.8209e-01],\n",
              "                        [ 1.5086e-01,  4.7912e-01, -1.3684e-01]],\n",
              "              \n",
              "                       [[ 8.1032e-02, -2.4917e-01,  8.1983e-02],\n",
              "                        [-1.1374e-02, -5.5929e-02, -3.5363e-02],\n",
              "                        [-1.6381e-02, -3.7817e-02, -3.3445e-02]],\n",
              "              \n",
              "                       [[ 1.3439e-01, -4.2515e-01, -3.1239e-01],\n",
              "                        [-1.6739e-01, -2.4578e-01, -1.4422e-01],\n",
              "                        [-1.1968e-01,  1.7811e-02,  7.9244e-02]],\n",
              "              \n",
              "                       [[ 2.4605e-01, -2.4314e-01, -2.3185e-01],\n",
              "                        [-3.1104e-01,  1.3661e-01, -4.9742e-02],\n",
              "                        [-3.0981e-01,  2.7023e-01,  2.0334e-01]],\n",
              "              \n",
              "                       [[ 6.8199e-02, -1.2798e-01, -1.2461e-01],\n",
              "                        [-6.4491e-02, -2.4239e-02,  2.3385e-02],\n",
              "                        [-9.0812e-02,  1.0030e-01,  9.7839e-04]],\n",
              "              \n",
              "                       [[ 8.5644e-02, -1.2294e-01, -1.9927e-01],\n",
              "                        [-2.4073e-01,  1.8072e-01,  2.8491e-02],\n",
              "                        [ 3.2553e-02,  9.0692e-02,  6.2425e-02]],\n",
              "              \n",
              "                       [[ 8.0811e-02, -2.8935e-01,  1.1288e-01],\n",
              "                        [ 8.1995e-02, -1.1962e-01,  1.6083e-01],\n",
              "                        [ 2.2304e-02, -2.7499e-02, -5.1069e-02]]],\n",
              "              \n",
              "              \n",
              "                      [[[-9.6685e-02, -8.1649e-02,  1.7539e-01],\n",
              "                        [ 1.7941e-01,  3.0967e-01,  2.5482e-01],\n",
              "                        [ 1.0835e-02,  2.0615e-02, -2.5416e-02]],\n",
              "              \n",
              "                       [[ 6.0461e-02,  1.3802e-02,  3.9792e-02],\n",
              "                        [-4.8513e-02,  4.8948e-02,  7.6157e-02],\n",
              "                        [ 6.0049e-02,  2.4800e-02,  1.0422e-01]],\n",
              "              \n",
              "                       [[-3.3157e-04,  2.2353e-02,  9.9851e-02],\n",
              "                        [ 1.0117e-01, -4.5187e-02,  9.4708e-02],\n",
              "                        [ 3.7577e-02, -1.2662e-02,  9.1317e-02]],\n",
              "              \n",
              "                       [[ 1.5392e-01,  4.1445e-01,  2.2087e-01],\n",
              "                        [-1.7666e-01, -7.0019e-01, -3.0964e-01],\n",
              "                        [ 1.1508e-01, -3.9989e-01,  4.0764e-02]],\n",
              "              \n",
              "                       [[ 1.0515e-01,  1.4855e-01,  1.1193e-02],\n",
              "                        [ 1.0030e-01,  4.6360e-02, -1.1794e-01],\n",
              "                        [-9.3920e-02, -4.7370e-02,  8.8906e-02]],\n",
              "              \n",
              "                       [[-6.7208e-02,  2.3937e-01, -6.3568e-02],\n",
              "                        [ 2.1541e-02,  1.0937e-01, -2.9043e-02],\n",
              "                        [-9.6009e-02, -2.3471e-01, -1.3355e-01]],\n",
              "              \n",
              "                       [[-1.0643e-01,  1.5581e-01,  3.4880e-01],\n",
              "                        [-3.4230e-02, -5.6401e-01, -5.1327e-01],\n",
              "                        [ 2.4374e-01, -3.7504e-01, -3.2249e-01]],\n",
              "              \n",
              "                       [[ 2.1989e-02,  1.1261e-01,  1.2338e-01],\n",
              "                        [-1.8525e-01, -2.9347e-01, -3.4405e-02],\n",
              "                        [ 2.5397e-02, -2.3610e-01, -1.9472e-01]],\n",
              "              \n",
              "                       [[ 1.6777e-01,  1.2650e-01, -9.4169e-02],\n",
              "                        [ 3.2490e-02, -3.0299e-01, -2.7851e-01],\n",
              "                        [ 1.2479e-01, -3.5027e-01, -1.0767e-01]],\n",
              "              \n",
              "                       [[-8.0506e-02, -2.7255e-01,  3.2735e-02],\n",
              "                        [-1.9968e-01, -1.2493e-01,  1.0724e-01],\n",
              "                        [-3.0129e-01, -2.8195e-01,  1.8449e-01]]],\n",
              "              \n",
              "              \n",
              "                      [[[-9.6221e-02,  5.4135e-02,  1.8935e-02],\n",
              "                        [ 6.0611e-02,  9.4291e-02,  4.2032e-03],\n",
              "                        [ 1.2068e-01, -6.6025e-02, -7.9825e-02]],\n",
              "              \n",
              "                       [[ 7.7291e-02,  3.1670e-02, -1.3942e-02],\n",
              "                        [-2.4897e-02, -6.4313e-02,  6.3587e-02],\n",
              "                        [-3.3622e-03, -3.7302e-03,  2.4365e-02]],\n",
              "              \n",
              "                       [[ 7.8010e-02, -5.3503e-02, -3.6040e-02],\n",
              "                        [ 7.1676e-02,  5.9996e-02, -5.1988e-02],\n",
              "                        [-1.0427e-01,  1.9485e-02,  5.5469e-02]],\n",
              "              \n",
              "                       [[ 2.9138e-04,  4.9042e-02, -1.3267e-01],\n",
              "                        [-2.4484e-02, -1.1587e-01,  1.8587e-02],\n",
              "                        [ 1.4114e-03, -1.7763e-02,  1.5974e-01]],\n",
              "              \n",
              "                       [[-6.5851e-02, -9.2476e-02, -9.5488e-02],\n",
              "                        [ 6.1479e-02,  3.0182e-02, -7.6615e-02],\n",
              "                        [ 4.1217e-02,  8.9381e-02, -9.8382e-02]],\n",
              "              \n",
              "                       [[ 5.4409e-02,  1.8787e-02, -1.3635e-02],\n",
              "                        [ 1.0109e-01,  1.0662e-01,  3.1086e-02],\n",
              "                        [ 9.6991e-02,  7.8725e-02,  6.9370e-02]],\n",
              "              \n",
              "                       [[-1.2271e-01, -3.2725e-02, -9.4985e-02],\n",
              "                        [ 5.0705e-03, -4.9712e-02, -2.3287e-02],\n",
              "                        [-1.2821e-01, -1.2153e-01,  1.5687e-02]],\n",
              "              \n",
              "                       [[ 3.7839e-02,  3.3981e-02, -3.4723e-02],\n",
              "                        [-3.3508e-02, -5.2925e-02,  6.1187e-02],\n",
              "                        [-6.0280e-02,  4.4419e-02,  6.3027e-02]],\n",
              "              \n",
              "                       [[-9.8978e-02, -1.6244e-02, -2.3463e-02],\n",
              "                        [-8.3565e-02,  4.6215e-03, -2.9103e-02],\n",
              "                        [ 6.0430e-02, -1.1077e-01,  3.9726e-02]],\n",
              "              \n",
              "                       [[-1.1525e-01, -3.8647e-02, -3.3432e-02],\n",
              "                        [ 5.0505e-02,  1.0131e-01, -1.0177e-01],\n",
              "                        [-2.8477e-02, -3.6873e-03,  8.6011e-02]]]], device='cuda:0')),\n",
              "             ('conv_block_2.0.bias',\n",
              "              tensor([-0.0579,  0.1829, -0.0200, -0.1237, -0.2547, -0.0305,  0.2997,  0.5086,\n",
              "                       0.7931, -0.0734], device='cuda:0')),\n",
              "             ('conv_block_2.2.weight',\n",
              "              tensor([[[[-1.0882e-01, -1.0184e-01, -2.8541e-02],\n",
              "                        [-4.2785e-02, -2.3343e-02, -2.2138e-02],\n",
              "                        [ 1.6777e-02, -1.5803e-01,  1.9607e-02]],\n",
              "              \n",
              "                       [[-2.1276e-01, -2.6710e-01, -2.0436e-01],\n",
              "                        [-2.3595e-02, -1.3062e-01, -5.9378e-01],\n",
              "                        [ 3.3501e-01,  3.3249e-01, -6.7820e-01]],\n",
              "              \n",
              "                       [[ 1.7573e-02, -2.7678e-03,  8.5328e-02],\n",
              "                        [-1.0821e-01,  6.1276e-02,  1.7266e-02],\n",
              "                        [-4.6861e-03,  8.6191e-02, -9.4381e-02]],\n",
              "              \n",
              "                       [[-7.6859e-02,  1.6014e-01, -3.9534e-02],\n",
              "                        [-6.5714e-02,  5.5381e-02, -2.1341e-03],\n",
              "                        [-5.2961e-02,  6.3767e-02,  2.7724e-02]],\n",
              "              \n",
              "                       [[-9.5589e-02, -1.0719e-01, -6.7343e-02],\n",
              "                        [ 1.1195e-02, -1.0966e-01, -1.4101e-01],\n",
              "                        [-3.4038e-02, -1.1037e-01, -3.1772e-01]],\n",
              "              \n",
              "                       [[-2.2545e-01, -4.8610e-02,  4.2731e-02],\n",
              "                        [-8.5298e-02, -3.5445e-04,  4.4534e-02],\n",
              "                        [-8.7193e-02, -4.4709e-02, -7.2871e-02]],\n",
              "              \n",
              "                       [[-3.8121e-02,  1.0462e-01, -1.6493e-01],\n",
              "                        [-3.3982e-01,  2.2025e-03,  2.1246e-01],\n",
              "                        [-3.6785e-01,  2.6085e-01,  3.7357e-01]],\n",
              "              \n",
              "                       [[ 3.4798e-01,  7.3657e-02, -9.6751e-02],\n",
              "                        [-3.2348e-02,  2.2843e-02, -4.3586e-02],\n",
              "                        [ 1.2958e-02, -6.7448e-02, -1.3691e-01]],\n",
              "              \n",
              "                       [[ 3.3877e-01, -1.6293e-01,  1.3422e-01],\n",
              "                        [ 8.2830e-02, -4.4163e-01,  2.2687e-01],\n",
              "                        [-2.9624e-01, -4.6989e-01, -1.2458e-01]],\n",
              "              \n",
              "                       [[-3.8156e-02,  3.5780e-02, -5.5104e-02],\n",
              "                        [-6.1864e-03, -6.9938e-02, -4.1426e-02],\n",
              "                        [ 5.0084e-02, -2.3218e-03, -4.2709e-02]]],\n",
              "              \n",
              "              \n",
              "                      [[[ 2.3047e-02, -1.9189e-02, -2.5269e-02],\n",
              "                        [-1.1279e-01,  3.2809e-02, -8.8656e-04],\n",
              "                        [ 1.1035e-01, -2.3825e-02,  8.8094e-02]],\n",
              "              \n",
              "                       [[ 2.3004e-01,  2.3117e-01, -2.9596e-01],\n",
              "                        [-9.3803e-02, -8.7579e-02,  3.8896e-01],\n",
              "                        [-2.6943e-01, -7.2655e-01,  1.7381e-01]],\n",
              "              \n",
              "                       [[-3.1541e-03,  8.3599e-03,  7.2851e-02],\n",
              "                        [ 6.7089e-02, -7.1946e-02, -2.2493e-02],\n",
              "                        [-3.5593e-02, -1.0790e-01, -4.6002e-02]],\n",
              "              \n",
              "                       [[-6.7238e-02,  2.1485e-02,  5.3455e-02],\n",
              "                        [ 5.9329e-02, -1.3143e-01, -6.0707e-02],\n",
              "                        [ 1.3425e-01, -1.4881e-02, -6.4912e-03]],\n",
              "              \n",
              "                       [[-1.0359e-02,  2.0885e-02,  5.7603e-02],\n",
              "                        [ 3.2307e-02, -7.0123e-02,  6.4737e-02],\n",
              "                        [ 1.1530e-01, -6.1499e-02, -9.9603e-02]],\n",
              "              \n",
              "                       [[-7.9824e-02,  7.3584e-02,  4.3567e-02],\n",
              "                        [-1.3573e-03, -7.5248e-02,  7.9090e-02],\n",
              "                        [ 4.1946e-01,  1.7050e-01,  1.1410e-02]],\n",
              "              \n",
              "                       [[-6.0011e-02, -1.6166e-01,  1.8637e-01],\n",
              "                        [-2.1730e-01, -1.1602e-01,  2.5066e-01],\n",
              "                        [ 1.1776e-01,  7.7750e-02,  1.0464e-01]],\n",
              "              \n",
              "                       [[ 1.1182e-02, -8.1783e-02,  1.5012e-01],\n",
              "                        [ 1.1636e-01, -4.4070e-01,  2.4492e-02],\n",
              "                        [ 2.0755e-01, -6.1738e-01,  2.1609e-01]],\n",
              "              \n",
              "                       [[-8.6408e-02, -8.8826e-02, -2.6094e-01],\n",
              "                        [ 1.1582e-01,  9.5149e-02, -5.2002e-01],\n",
              "                        [-4.7735e-02,  2.1981e-01, -1.3340e-01]],\n",
              "              \n",
              "                       [[-2.3569e-02,  7.7553e-02,  9.7116e-02],\n",
              "                        [-6.5195e-02, -6.5925e-02,  3.9157e-02],\n",
              "                        [-1.9953e-03, -3.7974e-02, -9.5200e-02]]],\n",
              "              \n",
              "              \n",
              "                      [[[ 1.5187e-01,  4.7627e-02, -4.4186e-02],\n",
              "                        [-4.5084e-03,  3.9277e-02, -1.7693e-02],\n",
              "                        [ 1.8260e-02,  1.4407e-01, -4.1682e-03]],\n",
              "              \n",
              "                       [[-5.5027e-01,  1.2844e-01, -5.6146e-01],\n",
              "                        [-5.2195e-01,  4.5566e-01, -1.9023e-01],\n",
              "                        [-2.0500e-01,  4.8966e-02,  3.8458e-01]],\n",
              "              \n",
              "                       [[-1.7843e-02, -1.4939e-02, -1.8292e-02],\n",
              "                        [ 1.1636e-02,  4.7222e-02,  6.4392e-02],\n",
              "                        [ 2.9698e-02, -6.0899e-02,  6.3166e-02]],\n",
              "              \n",
              "                       [[-2.5854e-01, -5.8052e-03,  2.3546e-02],\n",
              "                        [-4.4618e-02,  2.8458e-02, -1.2200e-01],\n",
              "                        [ 2.3426e-02, -2.4581e-02,  3.8962e-02]],\n",
              "              \n",
              "                       [[ 9.7821e-02, -5.6032e-02, -5.3686e-02],\n",
              "                        [-4.7523e-02,  9.7414e-02, -8.0865e-02],\n",
              "                        [ 7.7796e-02,  4.1502e-02, -5.1127e-03]],\n",
              "              \n",
              "                       [[ 1.5537e-01,  6.5072e-02, -2.5220e-01],\n",
              "                        [ 2.9606e-01,  7.3192e-02, -1.3100e-01],\n",
              "                        [ 1.2165e-01,  2.5289e-02, -2.7613e-01]],\n",
              "              \n",
              "                       [[-5.4382e-01, -1.3811e-01,  3.2411e-01],\n",
              "                        [-2.3225e-01,  2.4970e-02, -5.6253e-02],\n",
              "                        [-9.1765e-02,  1.6602e-01,  9.1185e-02]],\n",
              "              \n",
              "                       [[-1.8415e-01,  5.9172e-01,  1.4329e-02],\n",
              "                        [-2.6430e-01,  2.0441e-01, -3.9066e-02],\n",
              "                        [ 2.0483e-02, -2.7116e-01, -2.5241e-01]],\n",
              "              \n",
              "                       [[-3.6404e-01, -2.7883e-01,  1.7605e-02],\n",
              "                        [-1.1448e-02, -1.9980e-01,  5.2982e-03],\n",
              "                        [-2.8999e-02, -1.0367e-01, -1.5943e-01]],\n",
              "              \n",
              "                       [[ 8.8413e-02, -2.6352e-02, -1.0480e-01],\n",
              "                        [-4.6786e-02, -4.3372e-03, -6.4943e-02],\n",
              "                        [ 3.4433e-02, -9.5380e-02, -1.0252e-01]]],\n",
              "              \n",
              "              \n",
              "                      [[[-1.2650e-01, -3.6697e-02, -2.0250e-02],\n",
              "                        [-4.8040e-02,  5.2874e-02, -1.0571e-01],\n",
              "                        [-8.4257e-03, -2.6820e-03,  4.3357e-02]],\n",
              "              \n",
              "                       [[ 1.3175e-01, -1.4545e-01, -3.9710e-01],\n",
              "                        [ 4.7455e-02, -2.6517e-01,  3.9974e-03],\n",
              "                        [-1.4240e-02, -3.7986e-01,  4.8644e-01]],\n",
              "              \n",
              "                       [[ 4.2893e-02, -5.1673e-02,  9.8623e-03],\n",
              "                        [ 2.8919e-02, -2.8806e-02,  1.0787e-01],\n",
              "                        [-8.2107e-02,  6.0432e-02, -4.8769e-02]],\n",
              "              \n",
              "                       [[-8.9530e-02,  1.8467e-02,  3.2110e-02],\n",
              "                        [ 1.1367e-01,  2.4709e-02, -4.1417e-02],\n",
              "                        [ 3.5244e-03, -6.1511e-02, -2.3633e-02]],\n",
              "              \n",
              "                       [[-3.4789e-02, -1.3264e-02,  1.8320e-02],\n",
              "                        [-8.7520e-02, -1.2245e-01, -1.0200e-01],\n",
              "                        [-1.0651e-02, -2.0636e-01,  6.3352e-03]],\n",
              "              \n",
              "                       [[-1.1361e-01,  6.9136e-02,  5.3496e-02],\n",
              "                        [-1.1893e-01, -9.4278e-02,  5.8095e-02],\n",
              "                        [-4.9985e-02,  4.3096e-02, -3.0005e-02]],\n",
              "              \n",
              "                       [[-2.5708e-02, -6.5684e-02, -1.2375e-01],\n",
              "                        [-7.0722e-02, -7.4380e-02, -8.8119e-02],\n",
              "                        [-1.7775e-02, -2.2629e-01, -1.3844e-01]],\n",
              "              \n",
              "                       [[-1.2237e-01,  3.3374e-02,  3.9656e-02],\n",
              "                        [-1.4589e-01, -1.2085e-02,  9.4981e-02],\n",
              "                        [-2.0952e-01, -1.4480e-02, -1.7486e-02]],\n",
              "              \n",
              "                       [[ 1.4331e-01,  1.7692e-01,  1.0013e-01],\n",
              "                        [ 6.0363e-02, -2.3034e-02, -4.6729e-01],\n",
              "                        [ 3.9163e-01,  1.0034e-01, -2.5591e-01]],\n",
              "              \n",
              "                       [[ 5.6455e-02,  7.6577e-02,  6.2577e-02],\n",
              "                        [ 3.4759e-02, -1.0644e-01, -1.3760e-01],\n",
              "                        [-9.0847e-02,  5.8178e-03, -1.1774e-01]]],\n",
              "              \n",
              "              \n",
              "                      [[[-6.2907e-02, -1.1701e-01, -6.1307e-02],\n",
              "                        [-1.9851e-02, -5.3583e-02, -7.2288e-02],\n",
              "                        [ 5.7098e-02, -5.7372e-02, -5.1736e-02]],\n",
              "              \n",
              "                       [[ 4.5279e-01,  3.6092e-01,  2.2648e-01],\n",
              "                        [-1.0863e-01, -1.7491e-01, -1.6515e-01],\n",
              "                        [-6.1832e-02, -9.9202e-02, -6.6687e-02]],\n",
              "              \n",
              "                       [[-9.7998e-02, -9.1886e-02, -3.5660e-02],\n",
              "                        [-3.3869e-03, -5.0158e-02, -8.3169e-02],\n",
              "                        [ 1.0291e-02, -8.7376e-02, -7.8542e-02]],\n",
              "              \n",
              "                       [[-1.2876e-02, -1.8587e-02,  1.7758e-01],\n",
              "                        [ 5.9617e-02, -1.8046e-02, -5.6308e-03],\n",
              "                        [ 3.4885e-02,  1.2506e-02, -1.1391e-01]],\n",
              "              \n",
              "                       [[-2.1343e-02, -3.9046e-03, -9.1404e-02],\n",
              "                        [-5.3648e-02,  3.3861e-02, -1.0182e-01],\n",
              "                        [ 2.1163e-01,  1.1590e-01,  5.0128e-02]],\n",
              "              \n",
              "                       [[ 4.7851e-02, -9.9884e-02,  7.6989e-02],\n",
              "                        [-1.1969e-01, -1.2491e-01, -1.0345e-01],\n",
              "                        [-1.7056e-02, -4.6992e-02,  5.2352e-02]],\n",
              "              \n",
              "                       [[ 2.5535e-01, -1.4627e-01,  2.2319e-01],\n",
              "                        [ 4.6525e-02, -1.1078e-01, -6.7536e-02],\n",
              "                        [ 8.6408e-02, -5.2415e-03, -1.5454e-01]],\n",
              "              \n",
              "                       [[ 8.8387e-04, -6.7885e-02,  7.6408e-03],\n",
              "                        [-1.3922e-01, -1.2843e-01, -7.6540e-02],\n",
              "                        [-2.6220e-01, -9.7577e-02,  9.7399e-02]],\n",
              "              \n",
              "                       [[-1.6180e-01,  1.1384e-01, -1.7679e-02],\n",
              "                        [-4.0103e-02,  6.6287e-02,  1.8398e-01],\n",
              "                        [-5.8624e-02,  1.4208e-02, -2.2841e-02]],\n",
              "              \n",
              "                       [[-9.2036e-02, -1.6773e-02, -3.4231e-02],\n",
              "                        [ 8.7801e-02,  9.1232e-02,  1.3240e-02],\n",
              "                        [ 8.9464e-02, -5.2538e-02,  9.2073e-02]]],\n",
              "              \n",
              "              \n",
              "                      [[[ 1.1385e-01, -4.0721e-02, -1.4789e-01],\n",
              "                        [ 2.6415e-02, -4.7251e-02, -4.7031e-02],\n",
              "                        [-5.8914e-02,  1.5698e-02, -5.7254e-02]],\n",
              "              \n",
              "                       [[-1.6555e-01, -3.8793e-01,  2.8076e-02],\n",
              "                        [-2.0683e-01, -3.2667e-01, -2.7378e-01],\n",
              "                        [ 2.2004e-01,  7.3057e-01,  1.0533e-01]],\n",
              "              \n",
              "                       [[ 4.2177e-02, -6.4183e-02, -6.9776e-02],\n",
              "                        [ 3.6149e-04, -6.0124e-02, -8.5528e-02],\n",
              "                        [-6.1353e-02, -6.6915e-02,  9.1718e-02]],\n",
              "              \n",
              "                       [[ 1.0646e-01, -1.5779e-01, -1.1514e-01],\n",
              "                        [-8.0908e-02, -1.5993e-01, -4.2557e-02],\n",
              "                        [ 9.2417e-02, -3.2235e-02,  3.9806e-03]],\n",
              "              \n",
              "                       [[-9.3114e-02, -2.1075e-02, -1.7304e-01],\n",
              "                        [-4.9052e-02, -2.4814e-02, -1.0837e-01],\n",
              "                        [ 1.2998e-01, -2.3548e-03, -2.0110e-01]],\n",
              "              \n",
              "                       [[ 6.1316e-02, -3.5461e-02,  3.5796e-02],\n",
              "                        [-1.1753e-01,  7.2993e-02, -1.8957e-01],\n",
              "                        [-8.4007e-02, -4.1619e-03, -8.0285e-02]],\n",
              "              \n",
              "                       [[ 4.2444e-01,  2.4965e-01, -2.2780e-01],\n",
              "                        [-2.3430e-01,  9.8625e-02, -9.3125e-02],\n",
              "                        [-1.3044e-02, -2.8594e-01, -2.2471e-01]],\n",
              "              \n",
              "                       [[ 9.9685e-02, -1.9136e-01, -1.1014e-01],\n",
              "                        [ 3.2569e-03,  1.8789e-01,  1.1624e-01],\n",
              "                        [-2.5140e-01, -2.2851e-01,  2.2891e-01]],\n",
              "              \n",
              "                       [[ 1.2301e-01, -1.0687e-01,  2.1150e-01],\n",
              "                        [-1.7929e-01, -2.6963e-01, -1.8689e-01],\n",
              "                        [ 1.2390e-01,  7.6187e-02, -1.5751e-01]],\n",
              "              \n",
              "                       [[ 1.2919e-01,  8.3459e-02, -1.2984e-02],\n",
              "                        [-1.3306e-02, -4.1796e-02,  9.0899e-02],\n",
              "                        [ 8.2130e-02,  4.4470e-02, -9.2576e-02]]],\n",
              "              \n",
              "              \n",
              "                      [[[ 6.2357e-02, -4.0023e-02,  1.1273e-01],\n",
              "                        [ 1.0132e-01, -8.6586e-02, -8.7260e-02],\n",
              "                        [ 6.3541e-02, -8.1607e-02,  1.2347e-01]],\n",
              "              \n",
              "                       [[ 1.6024e-01,  2.2550e-01,  3.0401e-01],\n",
              "                        [-1.3032e-01, -2.6740e-01, -4.3781e-01],\n",
              "                        [-3.3062e-01, -1.7674e-01,  6.0965e-02]],\n",
              "              \n",
              "                       [[-6.0760e-03, -7.9961e-02, -1.7285e-02],\n",
              "                        [-3.3933e-02,  5.8526e-02, -3.9786e-02],\n",
              "                        [-3.9428e-02, -8.7033e-02, -3.8324e-02]],\n",
              "              \n",
              "                       [[ 3.4553e-02,  4.3716e-02,  4.8356e-03],\n",
              "                        [-3.6666e-03,  2.3564e-02,  4.2524e-02],\n",
              "                        [-1.0769e-01, -7.6445e-02, -2.1059e-02]],\n",
              "              \n",
              "                       [[ 1.7195e-01,  1.1180e-01, -5.7226e-05],\n",
              "                        [-1.0536e-01,  1.2392e-01, -1.6380e-01],\n",
              "                        [-3.2828e-01, -1.6278e-01, -1.0153e-01]],\n",
              "              \n",
              "                       [[-5.2447e-02, -2.5182e-02, -2.0818e-02],\n",
              "                        [ 3.3205e-02,  3.2493e-02, -1.3475e-01],\n",
              "                        [ 1.0550e-02,  8.1366e-02,  1.0226e-02]],\n",
              "              \n",
              "                       [[-5.1214e-02, -4.9425e-01, -2.1000e-01],\n",
              "                        [ 2.7353e-01,  2.4472e-01, -1.6766e-01],\n",
              "                        [ 1.3020e-01,  2.4748e-01, -2.0543e-01]],\n",
              "              \n",
              "                       [[-1.7144e-01, -3.2541e-01, -2.6534e-01],\n",
              "                        [-3.1265e-01, -5.1224e-01,  2.9596e-01],\n",
              "                        [ 4.4886e-01,  7.9086e-01, -2.5923e-01]],\n",
              "              \n",
              "                       [[ 2.5887e-02,  3.6993e-01,  2.3608e-01],\n",
              "                        [-1.3258e-01,  6.6641e-02,  9.8165e-02],\n",
              "                        [-3.4151e-01, -8.8389e-01, -2.6365e-02]],\n",
              "              \n",
              "                       [[ 5.2306e-02, -1.0008e-01,  4.5188e-02],\n",
              "                        [ 1.5314e-02, -4.7332e-02, -4.0269e-02],\n",
              "                        [-9.0507e-03, -1.1400e-01,  6.3803e-02]]],\n",
              "              \n",
              "              \n",
              "                      [[[ 8.0185e-02, -2.7415e-02,  9.9647e-02],\n",
              "                        [-3.6148e-02,  2.1726e-02, -7.1045e-02],\n",
              "                        [-3.7826e-03,  4.4857e-02,  4.4310e-02]],\n",
              "              \n",
              "                       [[-1.2356e-01, -1.3603e-01, -2.6651e-02],\n",
              "                        [-2.2420e-02, -3.7715e-02, -1.2496e-01],\n",
              "                        [-8.4080e-02, -6.8929e-02,  1.4488e-03]],\n",
              "              \n",
              "                       [[ 8.8578e-03,  3.7435e-03, -5.0090e-03],\n",
              "                        [ 6.4930e-02,  8.5731e-03,  9.0976e-02],\n",
              "                        [ 6.1567e-02, -7.2670e-02, -6.4358e-04]],\n",
              "              \n",
              "                       [[-8.8170e-02, -7.8650e-02,  2.0025e-02],\n",
              "                        [ 2.5592e-02, -6.1618e-03,  1.0009e-01],\n",
              "                        [-5.4905e-02, -4.0996e-02, -1.7495e-02]],\n",
              "              \n",
              "                       [[ 6.6749e-05, -8.9283e-03,  9.5736e-02],\n",
              "                        [-4.4963e-02, -5.6746e-02,  1.1367e-02],\n",
              "                        [ 7.8462e-02,  2.3121e-02,  5.8532e-02]],\n",
              "              \n",
              "                       [[ 5.6877e-03,  7.8822e-02,  4.3088e-02],\n",
              "                        [ 8.2027e-02, -3.5237e-03, -8.8839e-02],\n",
              "                        [-3.6643e-02,  5.8355e-02,  8.4778e-02]],\n",
              "              \n",
              "                       [[-1.1028e-01,  4.3708e-02, -2.2443e-02],\n",
              "                        [-6.8272e-02, -4.2250e-02, -5.6662e-02],\n",
              "                        [ 2.4070e-02, -5.2801e-02,  1.8364e-02]],\n",
              "              \n",
              "                       [[-1.0014e-01, -5.0691e-02,  6.3465e-03],\n",
              "                        [ 6.7936e-02,  4.6687e-02,  6.0555e-03],\n",
              "                        [-1.4701e-01, -3.1122e-02, -1.1584e-01]],\n",
              "              \n",
              "                       [[-1.2630e-01, -3.6731e-02, -1.1381e-01],\n",
              "                        [ 5.5109e-02, -1.1428e-01, -1.7873e-02],\n",
              "                        [ 3.8223e-02, -1.1819e-01,  2.8465e-02]],\n",
              "              \n",
              "                       [[-1.9165e-02,  5.1266e-02,  9.5539e-02],\n",
              "                        [-5.5482e-02, -5.4476e-02,  7.1995e-02],\n",
              "                        [-8.1222e-03, -2.9708e-02,  5.9330e-02]]],\n",
              "              \n",
              "              \n",
              "                      [[[-2.1446e-01, -5.6190e-02,  6.7300e-02],\n",
              "                        [ 8.1856e-02, -7.5602e-02, -5.0556e-02],\n",
              "                        [-4.2369e-02, -2.3534e-02,  5.2930e-02]],\n",
              "              \n",
              "                       [[-1.5956e-01, -3.7249e-01, -8.1647e-02],\n",
              "                        [ 1.6611e-01, -1.4408e-01, -2.1834e-01],\n",
              "                        [-1.5624e-02, -2.1815e-01, -3.8250e-01]],\n",
              "              \n",
              "                       [[-3.2597e-03, -3.8293e-02, -7.1385e-02],\n",
              "                        [-3.9241e-02, -1.0532e-01, -5.8420e-02],\n",
              "                        [-1.7586e-02, -1.0584e-01, -9.6748e-02]],\n",
              "              \n",
              "                       [[-3.3613e-02,  7.1203e-02, -5.1340e-02],\n",
              "                        [-9.2402e-02,  9.2464e-02, -1.1272e-01],\n",
              "                        [-8.0469e-02, -6.2771e-02, -1.7210e-02]],\n",
              "              \n",
              "                       [[ 8.5616e-02, -2.9023e-01,  1.4493e-01],\n",
              "                        [ 1.1404e-01,  1.4944e-02, -1.7702e-01],\n",
              "                        [ 3.0113e-02, -3.3671e-02, -2.1117e-01]],\n",
              "              \n",
              "                       [[ 4.4821e-02, -1.2901e-01,  1.0610e-01],\n",
              "                        [-1.6292e-01, -1.8268e-02,  1.2682e-01],\n",
              "                        [ 1.6395e-01, -7.6636e-02, -3.6365e-02]],\n",
              "              \n",
              "                       [[-1.1032e-01, -4.6252e-01,  1.0815e-01],\n",
              "                        [-3.0015e-01, -3.5230e-01, -3.1860e-01],\n",
              "                        [ 5.1945e-02,  2.7469e-01, -2.1060e-01]],\n",
              "              \n",
              "                       [[-8.0879e-02, -3.7645e-01, -1.4326e-01],\n",
              "                        [-3.6590e-02, -5.9508e-01,  1.5188e-01],\n",
              "                        [ 4.4067e-01, -3.1460e-02,  3.8774e-02]],\n",
              "              \n",
              "                       [[ 1.1128e-01,  7.6835e-02,  2.3832e-01],\n",
              "                        [ 7.3091e-03,  4.5876e-01,  2.2849e-01],\n",
              "                        [-5.0466e-02,  1.0183e-01,  2.5758e-01]],\n",
              "              \n",
              "                       [[ 7.5417e-02,  6.9016e-02, -9.5037e-02],\n",
              "                        [-2.4865e-02, -1.2656e-01,  1.3736e-03],\n",
              "                        [-1.0962e-01, -3.7605e-02, -7.8714e-02]]],\n",
              "              \n",
              "              \n",
              "                      [[[ 4.7850e-02,  3.5178e-02, -4.7302e-02],\n",
              "                        [ 4.0790e-02,  3.1418e-02, -1.1417e-01],\n",
              "                        [ 1.0961e-01,  8.4787e-02,  3.7570e-02]],\n",
              "              \n",
              "                       [[-2.5331e-01, -2.3227e-01,  2.4338e-02],\n",
              "                        [-3.1944e-01,  4.0924e-04, -6.9915e-02],\n",
              "                        [-1.2081e-01,  3.3930e-01,  2.1472e-01]],\n",
              "              \n",
              "                       [[-8.2935e-02,  8.0359e-02,  6.2279e-02],\n",
              "                        [ 2.0411e-02,  9.6627e-02,  3.1906e-02],\n",
              "                        [ 7.2766e-02, -6.4633e-02,  6.9135e-02]],\n",
              "              \n",
              "                       [[ 1.2563e-02,  3.4026e-02,  4.6409e-03],\n",
              "                        [ 2.2653e-02,  4.3783e-02, -4.4216e-02],\n",
              "                        [ 7.7547e-02, -5.8155e-02, -9.1954e-03]],\n",
              "              \n",
              "                       [[-3.2678e-02, -1.3606e-02, -5.3519e-02],\n",
              "                        [-3.3096e-02, -7.7113e-02, -4.3364e-03],\n",
              "                        [-1.2492e-01, -6.7427e-02, -3.8543e-02]],\n",
              "              \n",
              "                       [[-6.4560e-02, -3.5418e-02,  1.0843e-01],\n",
              "                        [-9.5661e-02, -1.2686e-01,  1.0324e-01],\n",
              "                        [-1.3455e-01, -7.2261e-03, -5.9326e-02]],\n",
              "              \n",
              "                       [[ 4.6510e-01, -4.6013e-02, -2.7782e-01],\n",
              "                        [ 9.9753e-02, -3.9463e-01, -3.3596e-01],\n",
              "                        [ 1.6011e-01, -1.3042e-01, -1.3459e-01]],\n",
              "              \n",
              "                       [[-1.4593e-01,  2.1945e-01, -1.9619e-02],\n",
              "                        [-1.8443e-02, -3.9242e-02,  1.0601e-01],\n",
              "                        [ 2.5448e-01,  3.1674e-01,  2.6977e-01]],\n",
              "              \n",
              "                       [[ 5.8719e-01, -1.4218e-01, -4.5714e-01],\n",
              "                        [-1.1381e-01, -1.5141e-01, -2.8955e-01],\n",
              "                        [-2.5916e-01, -3.2113e-01, -1.1480e-01]],\n",
              "              \n",
              "                       [[-7.0283e-02, -8.4491e-02, -1.4230e-02],\n",
              "                        [-5.8276e-02, -7.0665e-02,  6.2936e-02],\n",
              "                        [-4.1369e-02, -6.5313e-02,  6.0417e-02]]]], device='cuda:0')),\n",
              "             ('conv_block_2.2.bias',\n",
              "              tensor([ 0.2604, -0.2330,  0.3363,  0.0305, -0.1416,  0.1598,  0.1608, -0.0707,\n",
              "                      -0.0794, -0.1629], device='cuda:0')),\n",
              "             ('classifier.1.weight',\n",
              "              tensor([[-0.0217, -0.0045,  0.0417,  ..., -0.0005, -0.0094, -0.0409],\n",
              "                      [ 0.0062,  0.1312,  0.1632,  ..., -0.0016,  0.0174,  0.0464],\n",
              "                      [-0.0252,  0.1230,  0.0959,  ...,  0.0536, -0.0245,  0.0522],\n",
              "                      ...,\n",
              "                      [-0.0574, -0.0849, -0.0934,  ...,  0.0199, -0.0024, -0.0271],\n",
              "                      [ 0.1195,  0.2124, -0.0566,  ...,  0.0051,  0.0305,  0.0055],\n",
              "                      [-0.0454, -0.1044, -0.0786,  ..., -0.0124, -0.0403,  0.0328]],\n",
              "                     device='cuda:0')),\n",
              "             ('classifier.1.bias',\n",
              "              tensor([ 0.0741, -0.1552,  0.4250, -0.0123, -0.4064, -0.1696,  0.1647, -0.0014,\n",
              "                       0.1554, -0.1111], device='cuda:0'))])"
            ]
          },
          "metadata": {},
          "execution_count": 76
        }
      ]
    },
    {
      "cell_type": "code",
      "source": [
        "torch.manual_seed(42)\n",
        "\n",
        "loaded_model_2 = ModelV2(input_shape=1,\n",
        "                         hidden_units=10,\n",
        "                         output_shape= len(class_names))\n",
        "\n",
        "\n",
        "loaded_model_2.load_state_dict(torch.load(f=MODEL_SAVE_PATH))\n",
        "loaded_model_2.to(device)\n"
      ],
      "metadata": {
        "colab": {
          "base_uri": "https://localhost:8080/"
        },
        "id": "LESTfgmT1bxl",
        "outputId": "86ed6067-6c5e-4a20-b965-1caa89c21146"
      },
      "execution_count": null,
      "outputs": [
        {
          "output_type": "execute_result",
          "data": {
            "text/plain": [
              "ModelV2(\n",
              "  (conv_block_1): Sequential(\n",
              "    (0): Conv2d(1, 10, kernel_size=(3, 3), stride=(1, 1), padding=(1, 1))\n",
              "    (1): ReLU()\n",
              "    (2): Conv2d(10, 10, kernel_size=(3, 3), stride=(1, 1), padding=(1, 1))\n",
              "    (3): ReLU()\n",
              "    (4): MaxPool2d(kernel_size=2, stride=2, padding=0, dilation=1, ceil_mode=False)\n",
              "  )\n",
              "  (conv_block_2): Sequential(\n",
              "    (0): Conv2d(10, 10, kernel_size=(3, 3), stride=(1, 1), padding=(1, 1))\n",
              "    (1): ReLU()\n",
              "    (2): Conv2d(10, 10, kernel_size=(3, 3), stride=(1, 1), padding=(1, 1))\n",
              "    (3): ReLU()\n",
              "    (4): MaxPool2d(kernel_size=2, stride=2, padding=0, dilation=1, ceil_mode=False)\n",
              "  )\n",
              "  (classifier): Sequential(\n",
              "    (0): Flatten(start_dim=1, end_dim=-1)\n",
              "    (1): Linear(in_features=490, out_features=10, bias=True)\n",
              "  )\n",
              ")"
            ]
          },
          "metadata": {},
          "execution_count": 78
        }
      ]
    },
    {
      "cell_type": "code",
      "source": [
        "torch.manual_seed(42)\n",
        "\n",
        "loaded_model_2_results = eval_model(\n",
        "    model=loaded_model_2,\n",
        "    data_loader=test_dataloader,\n",
        "    loss_fn=loss_fn,\n",
        "    accuracy_fn=accuracy_fn,\n",
        "    device=device\n",
        ")\n",
        "loaded_model_2_results"
      ],
      "metadata": {
        "colab": {
          "base_uri": "https://localhost:8080/",
          "height": 101,
          "referenced_widgets": [
            "9ce5c42ba07d44928a16445ce89177a4",
            "67ca2344a5eb474ea421e38708a4dd14",
            "c352d9753e7b48b58a62c7f0deaae38f",
            "2903015d4ece4415863b0c20e110c78b",
            "9c138e9f4aaf4baa89e708cd340375be",
            "a42b1cb6339f456093fceabceea63555",
            "6e5e1a487a2c4b5ca19f383a9f0d52ea",
            "f36bac6e5cc349c1965dce1b928d1464",
            "f08519f940bc4425bebe2e469e6a2fd1",
            "8b432a4553dc41159b6f2273feff9c4a",
            "029d4c8c5e04410e86c0533c236907ff"
          ]
        },
        "id": "l-h2lNkJ2sMS",
        "outputId": "b923c67b-93e1-4ba8-c99b-6bf599ac1066"
      },
      "execution_count": null,
      "outputs": [
        {
          "output_type": "display_data",
          "data": {
            "text/plain": [
              "  0%|          | 0/313 [00:00<?, ?it/s]"
            ],
            "application/vnd.jupyter.widget-view+json": {
              "version_major": 2,
              "version_minor": 0,
              "model_id": "9ce5c42ba07d44928a16445ce89177a4"
            }
          },
          "metadata": {}
        },
        {
          "output_type": "execute_result",
          "data": {
            "text/plain": [
              "{'model_name': 'ModelV2',\n",
              " 'model_loss': 0.3343946635723114,\n",
              " 'model_acc': 88.17891373801918}"
            ]
          },
          "metadata": {},
          "execution_count": 79
        }
      ]
    },
    {
      "cell_type": "code",
      "source": [
        "model_2_results"
      ],
      "metadata": {
        "colab": {
          "base_uri": "https://localhost:8080/"
        },
        "id": "-s10reIe3HpJ",
        "outputId": "12b32494-b352-45df-c2a4-d0684931ecd4"
      },
      "execution_count": null,
      "outputs": [
        {
          "output_type": "execute_result",
          "data": {
            "text/plain": [
              "{'model_name': 'ModelV2',\n",
              " 'model_loss': 0.3343946635723114,\n",
              " 'model_acc': 88.17891373801918}"
            ]
          },
          "metadata": {},
          "execution_count": 80
        }
      ]
    },
    {
      "cell_type": "code",
      "source": [
        "torch.isclose(torch.tensor(model_2_results['model_loss']),\n",
        "              torch.tensor(loaded_model_2_results['model_loss']),\n",
        "              atol=1e-02)"
      ],
      "metadata": {
        "colab": {
          "base_uri": "https://localhost:8080/"
        },
        "id": "PxPr9wqN3MIN",
        "outputId": "a80a7397-8adc-43b6-ed1e-a70a2fafdb17"
      },
      "execution_count": null,
      "outputs": [
        {
          "output_type": "execute_result",
          "data": {
            "text/plain": [
              "tensor(True)"
            ]
          },
          "metadata": {},
          "execution_count": 81
        }
      ]
    },
    {
      "cell_type": "code",
      "source": [
        "try:\n",
        "  assert torch.tensor(model_2_results['model_loss']) == torch.tensor(loaded_model_2_results['model_loss'])\n",
        "  print(f\"Both models results are equal\")\n",
        "except AssertionError as e:\n",
        "  print(e)"
      ],
      "metadata": {
        "colab": {
          "base_uri": "https://localhost:8080/"
        },
        "id": "TfjNx_Mt3-3x",
        "outputId": "57180dd4-7310-4579-e900-22e99c64b081"
      },
      "execution_count": null,
      "outputs": [
        {
          "output_type": "stream",
          "name": "stdout",
          "text": [
            "Both models results are equal\n"
          ]
        }
      ]
    }
  ],
  "metadata": {
    "colab": {
      "provenance": [],
      "mount_file_id": "1_m2ghAtmrkSK2D3JCpRK_ngjDReIWOhy",
      "authorship_tag": "ABX9TyMtL/qVIVLos4Z8vbf53zlq",
      "include_colab_link": true
    },
    "kernelspec": {
      "display_name": "Python 3",
      "name": "python3"
    },
    "language_info": {
      "name": "python"
    },
    "widgets": {
      "application/vnd.jupyter.widget-state+json": {
        "b04375e478b94f50ae662e0e6b467536": {
          "model_module": "@jupyter-widgets/controls",
          "model_name": "HBoxModel",
          "model_module_version": "1.5.0",
          "state": {
            "_dom_classes": [],
            "_model_module": "@jupyter-widgets/controls",
            "_model_module_version": "1.5.0",
            "_model_name": "HBoxModel",
            "_view_count": null,
            "_view_module": "@jupyter-widgets/controls",
            "_view_module_version": "1.5.0",
            "_view_name": "HBoxView",
            "box_style": "",
            "children": [
              "IPY_MODEL_0164824d752c4da6b7492fc8d0e58798",
              "IPY_MODEL_5fca9beda70b4ff8a3d4f44d6ed094a5",
              "IPY_MODEL_af0786c98c4948be97705bec17f81f71"
            ],
            "layout": "IPY_MODEL_02cc453a431240c59e37b9ea1f23f3fa"
          }
        },
        "0164824d752c4da6b7492fc8d0e58798": {
          "model_module": "@jupyter-widgets/controls",
          "model_name": "HTMLModel",
          "model_module_version": "1.5.0",
          "state": {
            "_dom_classes": [],
            "_model_module": "@jupyter-widgets/controls",
            "_model_module_version": "1.5.0",
            "_model_name": "HTMLModel",
            "_view_count": null,
            "_view_module": "@jupyter-widgets/controls",
            "_view_module_version": "1.5.0",
            "_view_name": "HTMLView",
            "description": "",
            "description_tooltip": null,
            "layout": "IPY_MODEL_8dd2daa2a5be4c61a5f3b9197960c4ba",
            "placeholder": "​",
            "style": "IPY_MODEL_4b4bea71e09e46dca61e1d61fb19ef3a",
            "value": "100%"
          }
        },
        "5fca9beda70b4ff8a3d4f44d6ed094a5": {
          "model_module": "@jupyter-widgets/controls",
          "model_name": "FloatProgressModel",
          "model_module_version": "1.5.0",
          "state": {
            "_dom_classes": [],
            "_model_module": "@jupyter-widgets/controls",
            "_model_module_version": "1.5.0",
            "_model_name": "FloatProgressModel",
            "_view_count": null,
            "_view_module": "@jupyter-widgets/controls",
            "_view_module_version": "1.5.0",
            "_view_name": "ProgressView",
            "bar_style": "success",
            "description": "",
            "description_tooltip": null,
            "layout": "IPY_MODEL_42ab2c1315b64c458c99a4c589620f9b",
            "max": 3,
            "min": 0,
            "orientation": "horizontal",
            "style": "IPY_MODEL_2390ff1790ec4cc88722a738a4465e26",
            "value": 3
          }
        },
        "af0786c98c4948be97705bec17f81f71": {
          "model_module": "@jupyter-widgets/controls",
          "model_name": "HTMLModel",
          "model_module_version": "1.5.0",
          "state": {
            "_dom_classes": [],
            "_model_module": "@jupyter-widgets/controls",
            "_model_module_version": "1.5.0",
            "_model_name": "HTMLModel",
            "_view_count": null,
            "_view_module": "@jupyter-widgets/controls",
            "_view_module_version": "1.5.0",
            "_view_name": "HTMLView",
            "description": "",
            "description_tooltip": null,
            "layout": "IPY_MODEL_bf366a2eb8f0483a9d6325ec76427871",
            "placeholder": "​",
            "style": "IPY_MODEL_c4b1da390c0f488383e08dce95730f91",
            "value": " 3/3 [00:26&lt;00:00,  8.74s/it]"
          }
        },
        "02cc453a431240c59e37b9ea1f23f3fa": {
          "model_module": "@jupyter-widgets/base",
          "model_name": "LayoutModel",
          "model_module_version": "1.2.0",
          "state": {
            "_model_module": "@jupyter-widgets/base",
            "_model_module_version": "1.2.0",
            "_model_name": "LayoutModel",
            "_view_count": null,
            "_view_module": "@jupyter-widgets/base",
            "_view_module_version": "1.2.0",
            "_view_name": "LayoutView",
            "align_content": null,
            "align_items": null,
            "align_self": null,
            "border": null,
            "bottom": null,
            "display": null,
            "flex": null,
            "flex_flow": null,
            "grid_area": null,
            "grid_auto_columns": null,
            "grid_auto_flow": null,
            "grid_auto_rows": null,
            "grid_column": null,
            "grid_gap": null,
            "grid_row": null,
            "grid_template_areas": null,
            "grid_template_columns": null,
            "grid_template_rows": null,
            "height": null,
            "justify_content": null,
            "justify_items": null,
            "left": null,
            "margin": null,
            "max_height": null,
            "max_width": null,
            "min_height": null,
            "min_width": null,
            "object_fit": null,
            "object_position": null,
            "order": null,
            "overflow": null,
            "overflow_x": null,
            "overflow_y": null,
            "padding": null,
            "right": null,
            "top": null,
            "visibility": null,
            "width": null
          }
        },
        "8dd2daa2a5be4c61a5f3b9197960c4ba": {
          "model_module": "@jupyter-widgets/base",
          "model_name": "LayoutModel",
          "model_module_version": "1.2.0",
          "state": {
            "_model_module": "@jupyter-widgets/base",
            "_model_module_version": "1.2.0",
            "_model_name": "LayoutModel",
            "_view_count": null,
            "_view_module": "@jupyter-widgets/base",
            "_view_module_version": "1.2.0",
            "_view_name": "LayoutView",
            "align_content": null,
            "align_items": null,
            "align_self": null,
            "border": null,
            "bottom": null,
            "display": null,
            "flex": null,
            "flex_flow": null,
            "grid_area": null,
            "grid_auto_columns": null,
            "grid_auto_flow": null,
            "grid_auto_rows": null,
            "grid_column": null,
            "grid_gap": null,
            "grid_row": null,
            "grid_template_areas": null,
            "grid_template_columns": null,
            "grid_template_rows": null,
            "height": null,
            "justify_content": null,
            "justify_items": null,
            "left": null,
            "margin": null,
            "max_height": null,
            "max_width": null,
            "min_height": null,
            "min_width": null,
            "object_fit": null,
            "object_position": null,
            "order": null,
            "overflow": null,
            "overflow_x": null,
            "overflow_y": null,
            "padding": null,
            "right": null,
            "top": null,
            "visibility": null,
            "width": null
          }
        },
        "4b4bea71e09e46dca61e1d61fb19ef3a": {
          "model_module": "@jupyter-widgets/controls",
          "model_name": "DescriptionStyleModel",
          "model_module_version": "1.5.0",
          "state": {
            "_model_module": "@jupyter-widgets/controls",
            "_model_module_version": "1.5.0",
            "_model_name": "DescriptionStyleModel",
            "_view_count": null,
            "_view_module": "@jupyter-widgets/base",
            "_view_module_version": "1.2.0",
            "_view_name": "StyleView",
            "description_width": ""
          }
        },
        "42ab2c1315b64c458c99a4c589620f9b": {
          "model_module": "@jupyter-widgets/base",
          "model_name": "LayoutModel",
          "model_module_version": "1.2.0",
          "state": {
            "_model_module": "@jupyter-widgets/base",
            "_model_module_version": "1.2.0",
            "_model_name": "LayoutModel",
            "_view_count": null,
            "_view_module": "@jupyter-widgets/base",
            "_view_module_version": "1.2.0",
            "_view_name": "LayoutView",
            "align_content": null,
            "align_items": null,
            "align_self": null,
            "border": null,
            "bottom": null,
            "display": null,
            "flex": null,
            "flex_flow": null,
            "grid_area": null,
            "grid_auto_columns": null,
            "grid_auto_flow": null,
            "grid_auto_rows": null,
            "grid_column": null,
            "grid_gap": null,
            "grid_row": null,
            "grid_template_areas": null,
            "grid_template_columns": null,
            "grid_template_rows": null,
            "height": null,
            "justify_content": null,
            "justify_items": null,
            "left": null,
            "margin": null,
            "max_height": null,
            "max_width": null,
            "min_height": null,
            "min_width": null,
            "object_fit": null,
            "object_position": null,
            "order": null,
            "overflow": null,
            "overflow_x": null,
            "overflow_y": null,
            "padding": null,
            "right": null,
            "top": null,
            "visibility": null,
            "width": null
          }
        },
        "2390ff1790ec4cc88722a738a4465e26": {
          "model_module": "@jupyter-widgets/controls",
          "model_name": "ProgressStyleModel",
          "model_module_version": "1.5.0",
          "state": {
            "_model_module": "@jupyter-widgets/controls",
            "_model_module_version": "1.5.0",
            "_model_name": "ProgressStyleModel",
            "_view_count": null,
            "_view_module": "@jupyter-widgets/base",
            "_view_module_version": "1.2.0",
            "_view_name": "StyleView",
            "bar_color": null,
            "description_width": ""
          }
        },
        "bf366a2eb8f0483a9d6325ec76427871": {
          "model_module": "@jupyter-widgets/base",
          "model_name": "LayoutModel",
          "model_module_version": "1.2.0",
          "state": {
            "_model_module": "@jupyter-widgets/base",
            "_model_module_version": "1.2.0",
            "_model_name": "LayoutModel",
            "_view_count": null,
            "_view_module": "@jupyter-widgets/base",
            "_view_module_version": "1.2.0",
            "_view_name": "LayoutView",
            "align_content": null,
            "align_items": null,
            "align_self": null,
            "border": null,
            "bottom": null,
            "display": null,
            "flex": null,
            "flex_flow": null,
            "grid_area": null,
            "grid_auto_columns": null,
            "grid_auto_flow": null,
            "grid_auto_rows": null,
            "grid_column": null,
            "grid_gap": null,
            "grid_row": null,
            "grid_template_areas": null,
            "grid_template_columns": null,
            "grid_template_rows": null,
            "height": null,
            "justify_content": null,
            "justify_items": null,
            "left": null,
            "margin": null,
            "max_height": null,
            "max_width": null,
            "min_height": null,
            "min_width": null,
            "object_fit": null,
            "object_position": null,
            "order": null,
            "overflow": null,
            "overflow_x": null,
            "overflow_y": null,
            "padding": null,
            "right": null,
            "top": null,
            "visibility": null,
            "width": null
          }
        },
        "c4b1da390c0f488383e08dce95730f91": {
          "model_module": "@jupyter-widgets/controls",
          "model_name": "DescriptionStyleModel",
          "model_module_version": "1.5.0",
          "state": {
            "_model_module": "@jupyter-widgets/controls",
            "_model_module_version": "1.5.0",
            "_model_name": "DescriptionStyleModel",
            "_view_count": null,
            "_view_module": "@jupyter-widgets/base",
            "_view_module_version": "1.2.0",
            "_view_name": "StyleView",
            "description_width": ""
          }
        },
        "975115ba3b4c4e8a9f0f0c957ab4f2db": {
          "model_module": "@jupyter-widgets/controls",
          "model_name": "HBoxModel",
          "model_module_version": "1.5.0",
          "state": {
            "_dom_classes": [],
            "_model_module": "@jupyter-widgets/controls",
            "_model_module_version": "1.5.0",
            "_model_name": "HBoxModel",
            "_view_count": null,
            "_view_module": "@jupyter-widgets/controls",
            "_view_module_version": "1.5.0",
            "_view_name": "HBoxView",
            "box_style": "",
            "children": [
              "IPY_MODEL_e562830aa90842439724ec36730cee8c",
              "IPY_MODEL_af03b346dfea4d77bab233fa23c584f0",
              "IPY_MODEL_807fe4a61a554d039d00ece13fd8a95b"
            ],
            "layout": "IPY_MODEL_32282053a5274e418552f68e3e70df22"
          }
        },
        "e562830aa90842439724ec36730cee8c": {
          "model_module": "@jupyter-widgets/controls",
          "model_name": "HTMLModel",
          "model_module_version": "1.5.0",
          "state": {
            "_dom_classes": [],
            "_model_module": "@jupyter-widgets/controls",
            "_model_module_version": "1.5.0",
            "_model_name": "HTMLModel",
            "_view_count": null,
            "_view_module": "@jupyter-widgets/controls",
            "_view_module_version": "1.5.0",
            "_view_name": "HTMLView",
            "description": "",
            "description_tooltip": null,
            "layout": "IPY_MODEL_42b9db0a6bb04fd5964d1bba5dfb84bc",
            "placeholder": "​",
            "style": "IPY_MODEL_837c106bd3c64d29bdd71382439f7813",
            "value": "100%"
          }
        },
        "af03b346dfea4d77bab233fa23c584f0": {
          "model_module": "@jupyter-widgets/controls",
          "model_name": "FloatProgressModel",
          "model_module_version": "1.5.0",
          "state": {
            "_dom_classes": [],
            "_model_module": "@jupyter-widgets/controls",
            "_model_module_version": "1.5.0",
            "_model_name": "FloatProgressModel",
            "_view_count": null,
            "_view_module": "@jupyter-widgets/controls",
            "_view_module_version": "1.5.0",
            "_view_name": "ProgressView",
            "bar_style": "success",
            "description": "",
            "description_tooltip": null,
            "layout": "IPY_MODEL_18d67387bd78481387c6648557f7ff86",
            "max": 3,
            "min": 0,
            "orientation": "horizontal",
            "style": "IPY_MODEL_933df7654a924fe680a3b102d9daad4d",
            "value": 3
          }
        },
        "807fe4a61a554d039d00ece13fd8a95b": {
          "model_module": "@jupyter-widgets/controls",
          "model_name": "HTMLModel",
          "model_module_version": "1.5.0",
          "state": {
            "_dom_classes": [],
            "_model_module": "@jupyter-widgets/controls",
            "_model_module_version": "1.5.0",
            "_model_name": "HTMLModel",
            "_view_count": null,
            "_view_module": "@jupyter-widgets/controls",
            "_view_module_version": "1.5.0",
            "_view_name": "HTMLView",
            "description": "",
            "description_tooltip": null,
            "layout": "IPY_MODEL_e19627f01b234ee3b523953324a19e0e",
            "placeholder": "​",
            "style": "IPY_MODEL_36032e2b94e84cada27bd67c5020a901",
            "value": " 3/3 [00:30&lt;00:00,  9.94s/it]"
          }
        },
        "32282053a5274e418552f68e3e70df22": {
          "model_module": "@jupyter-widgets/base",
          "model_name": "LayoutModel",
          "model_module_version": "1.2.0",
          "state": {
            "_model_module": "@jupyter-widgets/base",
            "_model_module_version": "1.2.0",
            "_model_name": "LayoutModel",
            "_view_count": null,
            "_view_module": "@jupyter-widgets/base",
            "_view_module_version": "1.2.0",
            "_view_name": "LayoutView",
            "align_content": null,
            "align_items": null,
            "align_self": null,
            "border": null,
            "bottom": null,
            "display": null,
            "flex": null,
            "flex_flow": null,
            "grid_area": null,
            "grid_auto_columns": null,
            "grid_auto_flow": null,
            "grid_auto_rows": null,
            "grid_column": null,
            "grid_gap": null,
            "grid_row": null,
            "grid_template_areas": null,
            "grid_template_columns": null,
            "grid_template_rows": null,
            "height": null,
            "justify_content": null,
            "justify_items": null,
            "left": null,
            "margin": null,
            "max_height": null,
            "max_width": null,
            "min_height": null,
            "min_width": null,
            "object_fit": null,
            "object_position": null,
            "order": null,
            "overflow": null,
            "overflow_x": null,
            "overflow_y": null,
            "padding": null,
            "right": null,
            "top": null,
            "visibility": null,
            "width": null
          }
        },
        "42b9db0a6bb04fd5964d1bba5dfb84bc": {
          "model_module": "@jupyter-widgets/base",
          "model_name": "LayoutModel",
          "model_module_version": "1.2.0",
          "state": {
            "_model_module": "@jupyter-widgets/base",
            "_model_module_version": "1.2.0",
            "_model_name": "LayoutModel",
            "_view_count": null,
            "_view_module": "@jupyter-widgets/base",
            "_view_module_version": "1.2.0",
            "_view_name": "LayoutView",
            "align_content": null,
            "align_items": null,
            "align_self": null,
            "border": null,
            "bottom": null,
            "display": null,
            "flex": null,
            "flex_flow": null,
            "grid_area": null,
            "grid_auto_columns": null,
            "grid_auto_flow": null,
            "grid_auto_rows": null,
            "grid_column": null,
            "grid_gap": null,
            "grid_row": null,
            "grid_template_areas": null,
            "grid_template_columns": null,
            "grid_template_rows": null,
            "height": null,
            "justify_content": null,
            "justify_items": null,
            "left": null,
            "margin": null,
            "max_height": null,
            "max_width": null,
            "min_height": null,
            "min_width": null,
            "object_fit": null,
            "object_position": null,
            "order": null,
            "overflow": null,
            "overflow_x": null,
            "overflow_y": null,
            "padding": null,
            "right": null,
            "top": null,
            "visibility": null,
            "width": null
          }
        },
        "837c106bd3c64d29bdd71382439f7813": {
          "model_module": "@jupyter-widgets/controls",
          "model_name": "DescriptionStyleModel",
          "model_module_version": "1.5.0",
          "state": {
            "_model_module": "@jupyter-widgets/controls",
            "_model_module_version": "1.5.0",
            "_model_name": "DescriptionStyleModel",
            "_view_count": null,
            "_view_module": "@jupyter-widgets/base",
            "_view_module_version": "1.2.0",
            "_view_name": "StyleView",
            "description_width": ""
          }
        },
        "18d67387bd78481387c6648557f7ff86": {
          "model_module": "@jupyter-widgets/base",
          "model_name": "LayoutModel",
          "model_module_version": "1.2.0",
          "state": {
            "_model_module": "@jupyter-widgets/base",
            "_model_module_version": "1.2.0",
            "_model_name": "LayoutModel",
            "_view_count": null,
            "_view_module": "@jupyter-widgets/base",
            "_view_module_version": "1.2.0",
            "_view_name": "LayoutView",
            "align_content": null,
            "align_items": null,
            "align_self": null,
            "border": null,
            "bottom": null,
            "display": null,
            "flex": null,
            "flex_flow": null,
            "grid_area": null,
            "grid_auto_columns": null,
            "grid_auto_flow": null,
            "grid_auto_rows": null,
            "grid_column": null,
            "grid_gap": null,
            "grid_row": null,
            "grid_template_areas": null,
            "grid_template_columns": null,
            "grid_template_rows": null,
            "height": null,
            "justify_content": null,
            "justify_items": null,
            "left": null,
            "margin": null,
            "max_height": null,
            "max_width": null,
            "min_height": null,
            "min_width": null,
            "object_fit": null,
            "object_position": null,
            "order": null,
            "overflow": null,
            "overflow_x": null,
            "overflow_y": null,
            "padding": null,
            "right": null,
            "top": null,
            "visibility": null,
            "width": null
          }
        },
        "933df7654a924fe680a3b102d9daad4d": {
          "model_module": "@jupyter-widgets/controls",
          "model_name": "ProgressStyleModel",
          "model_module_version": "1.5.0",
          "state": {
            "_model_module": "@jupyter-widgets/controls",
            "_model_module_version": "1.5.0",
            "_model_name": "ProgressStyleModel",
            "_view_count": null,
            "_view_module": "@jupyter-widgets/base",
            "_view_module_version": "1.2.0",
            "_view_name": "StyleView",
            "bar_color": null,
            "description_width": ""
          }
        },
        "e19627f01b234ee3b523953324a19e0e": {
          "model_module": "@jupyter-widgets/base",
          "model_name": "LayoutModel",
          "model_module_version": "1.2.0",
          "state": {
            "_model_module": "@jupyter-widgets/base",
            "_model_module_version": "1.2.0",
            "_model_name": "LayoutModel",
            "_view_count": null,
            "_view_module": "@jupyter-widgets/base",
            "_view_module_version": "1.2.0",
            "_view_name": "LayoutView",
            "align_content": null,
            "align_items": null,
            "align_self": null,
            "border": null,
            "bottom": null,
            "display": null,
            "flex": null,
            "flex_flow": null,
            "grid_area": null,
            "grid_auto_columns": null,
            "grid_auto_flow": null,
            "grid_auto_rows": null,
            "grid_column": null,
            "grid_gap": null,
            "grid_row": null,
            "grid_template_areas": null,
            "grid_template_columns": null,
            "grid_template_rows": null,
            "height": null,
            "justify_content": null,
            "justify_items": null,
            "left": null,
            "margin": null,
            "max_height": null,
            "max_width": null,
            "min_height": null,
            "min_width": null,
            "object_fit": null,
            "object_position": null,
            "order": null,
            "overflow": null,
            "overflow_x": null,
            "overflow_y": null,
            "padding": null,
            "right": null,
            "top": null,
            "visibility": null,
            "width": null
          }
        },
        "36032e2b94e84cada27bd67c5020a901": {
          "model_module": "@jupyter-widgets/controls",
          "model_name": "DescriptionStyleModel",
          "model_module_version": "1.5.0",
          "state": {
            "_model_module": "@jupyter-widgets/controls",
            "_model_module_version": "1.5.0",
            "_model_name": "DescriptionStyleModel",
            "_view_count": null,
            "_view_module": "@jupyter-widgets/base",
            "_view_module_version": "1.2.0",
            "_view_name": "StyleView",
            "description_width": ""
          }
        },
        "be518f3b2c5b4427a6e640ad34d9deea": {
          "model_module": "@jupyter-widgets/controls",
          "model_name": "HBoxModel",
          "model_module_version": "1.5.0",
          "state": {
            "_dom_classes": [],
            "_model_module": "@jupyter-widgets/controls",
            "_model_module_version": "1.5.0",
            "_model_name": "HBoxModel",
            "_view_count": null,
            "_view_module": "@jupyter-widgets/controls",
            "_view_module_version": "1.5.0",
            "_view_name": "HBoxView",
            "box_style": "",
            "children": [
              "IPY_MODEL_205588f8e7f742ea90a97635d87ec89c",
              "IPY_MODEL_e2d551132f29404e85600189bd4ca750",
              "IPY_MODEL_036d83c0c99e494c888c0338fa4aaf64"
            ],
            "layout": "IPY_MODEL_f590f9264d2d4826820ea26e4dd696a6"
          }
        },
        "205588f8e7f742ea90a97635d87ec89c": {
          "model_module": "@jupyter-widgets/controls",
          "model_name": "HTMLModel",
          "model_module_version": "1.5.0",
          "state": {
            "_dom_classes": [],
            "_model_module": "@jupyter-widgets/controls",
            "_model_module_version": "1.5.0",
            "_model_name": "HTMLModel",
            "_view_count": null,
            "_view_module": "@jupyter-widgets/controls",
            "_view_module_version": "1.5.0",
            "_view_name": "HTMLView",
            "description": "",
            "description_tooltip": null,
            "layout": "IPY_MODEL_bb7e9b155b194cb5b6b90bb623b46b8b",
            "placeholder": "​",
            "style": "IPY_MODEL_54ac26ac984348d1b9d4a2167b1518bf",
            "value": "100%"
          }
        },
        "e2d551132f29404e85600189bd4ca750": {
          "model_module": "@jupyter-widgets/controls",
          "model_name": "FloatProgressModel",
          "model_module_version": "1.5.0",
          "state": {
            "_dom_classes": [],
            "_model_module": "@jupyter-widgets/controls",
            "_model_module_version": "1.5.0",
            "_model_name": "FloatProgressModel",
            "_view_count": null,
            "_view_module": "@jupyter-widgets/controls",
            "_view_module_version": "1.5.0",
            "_view_name": "ProgressView",
            "bar_style": "success",
            "description": "",
            "description_tooltip": null,
            "layout": "IPY_MODEL_e97e43489d514e3d8aa142b92801e688",
            "max": 313,
            "min": 0,
            "orientation": "horizontal",
            "style": "IPY_MODEL_4cbb1c3347c944eab6ac26e6a959d128",
            "value": 313
          }
        },
        "036d83c0c99e494c888c0338fa4aaf64": {
          "model_module": "@jupyter-widgets/controls",
          "model_name": "HTMLModel",
          "model_module_version": "1.5.0",
          "state": {
            "_dom_classes": [],
            "_model_module": "@jupyter-widgets/controls",
            "_model_module_version": "1.5.0",
            "_model_name": "HTMLModel",
            "_view_count": null,
            "_view_module": "@jupyter-widgets/controls",
            "_view_module_version": "1.5.0",
            "_view_name": "HTMLView",
            "description": "",
            "description_tooltip": null,
            "layout": "IPY_MODEL_398358f8b70f44b0858bc215fada8d92",
            "placeholder": "​",
            "style": "IPY_MODEL_6a44f3b31c5149e7889404ec708e5bf8",
            "value": " 313/313 [00:01&lt;00:00, 286.35it/s]"
          }
        },
        "f590f9264d2d4826820ea26e4dd696a6": {
          "model_module": "@jupyter-widgets/base",
          "model_name": "LayoutModel",
          "model_module_version": "1.2.0",
          "state": {
            "_model_module": "@jupyter-widgets/base",
            "_model_module_version": "1.2.0",
            "_model_name": "LayoutModel",
            "_view_count": null,
            "_view_module": "@jupyter-widgets/base",
            "_view_module_version": "1.2.0",
            "_view_name": "LayoutView",
            "align_content": null,
            "align_items": null,
            "align_self": null,
            "border": null,
            "bottom": null,
            "display": null,
            "flex": null,
            "flex_flow": null,
            "grid_area": null,
            "grid_auto_columns": null,
            "grid_auto_flow": null,
            "grid_auto_rows": null,
            "grid_column": null,
            "grid_gap": null,
            "grid_row": null,
            "grid_template_areas": null,
            "grid_template_columns": null,
            "grid_template_rows": null,
            "height": null,
            "justify_content": null,
            "justify_items": null,
            "left": null,
            "margin": null,
            "max_height": null,
            "max_width": null,
            "min_height": null,
            "min_width": null,
            "object_fit": null,
            "object_position": null,
            "order": null,
            "overflow": null,
            "overflow_x": null,
            "overflow_y": null,
            "padding": null,
            "right": null,
            "top": null,
            "visibility": null,
            "width": null
          }
        },
        "bb7e9b155b194cb5b6b90bb623b46b8b": {
          "model_module": "@jupyter-widgets/base",
          "model_name": "LayoutModel",
          "model_module_version": "1.2.0",
          "state": {
            "_model_module": "@jupyter-widgets/base",
            "_model_module_version": "1.2.0",
            "_model_name": "LayoutModel",
            "_view_count": null,
            "_view_module": "@jupyter-widgets/base",
            "_view_module_version": "1.2.0",
            "_view_name": "LayoutView",
            "align_content": null,
            "align_items": null,
            "align_self": null,
            "border": null,
            "bottom": null,
            "display": null,
            "flex": null,
            "flex_flow": null,
            "grid_area": null,
            "grid_auto_columns": null,
            "grid_auto_flow": null,
            "grid_auto_rows": null,
            "grid_column": null,
            "grid_gap": null,
            "grid_row": null,
            "grid_template_areas": null,
            "grid_template_columns": null,
            "grid_template_rows": null,
            "height": null,
            "justify_content": null,
            "justify_items": null,
            "left": null,
            "margin": null,
            "max_height": null,
            "max_width": null,
            "min_height": null,
            "min_width": null,
            "object_fit": null,
            "object_position": null,
            "order": null,
            "overflow": null,
            "overflow_x": null,
            "overflow_y": null,
            "padding": null,
            "right": null,
            "top": null,
            "visibility": null,
            "width": null
          }
        },
        "54ac26ac984348d1b9d4a2167b1518bf": {
          "model_module": "@jupyter-widgets/controls",
          "model_name": "DescriptionStyleModel",
          "model_module_version": "1.5.0",
          "state": {
            "_model_module": "@jupyter-widgets/controls",
            "_model_module_version": "1.5.0",
            "_model_name": "DescriptionStyleModel",
            "_view_count": null,
            "_view_module": "@jupyter-widgets/base",
            "_view_module_version": "1.2.0",
            "_view_name": "StyleView",
            "description_width": ""
          }
        },
        "e97e43489d514e3d8aa142b92801e688": {
          "model_module": "@jupyter-widgets/base",
          "model_name": "LayoutModel",
          "model_module_version": "1.2.0",
          "state": {
            "_model_module": "@jupyter-widgets/base",
            "_model_module_version": "1.2.0",
            "_model_name": "LayoutModel",
            "_view_count": null,
            "_view_module": "@jupyter-widgets/base",
            "_view_module_version": "1.2.0",
            "_view_name": "LayoutView",
            "align_content": null,
            "align_items": null,
            "align_self": null,
            "border": null,
            "bottom": null,
            "display": null,
            "flex": null,
            "flex_flow": null,
            "grid_area": null,
            "grid_auto_columns": null,
            "grid_auto_flow": null,
            "grid_auto_rows": null,
            "grid_column": null,
            "grid_gap": null,
            "grid_row": null,
            "grid_template_areas": null,
            "grid_template_columns": null,
            "grid_template_rows": null,
            "height": null,
            "justify_content": null,
            "justify_items": null,
            "left": null,
            "margin": null,
            "max_height": null,
            "max_width": null,
            "min_height": null,
            "min_width": null,
            "object_fit": null,
            "object_position": null,
            "order": null,
            "overflow": null,
            "overflow_x": null,
            "overflow_y": null,
            "padding": null,
            "right": null,
            "top": null,
            "visibility": null,
            "width": null
          }
        },
        "4cbb1c3347c944eab6ac26e6a959d128": {
          "model_module": "@jupyter-widgets/controls",
          "model_name": "ProgressStyleModel",
          "model_module_version": "1.5.0",
          "state": {
            "_model_module": "@jupyter-widgets/controls",
            "_model_module_version": "1.5.0",
            "_model_name": "ProgressStyleModel",
            "_view_count": null,
            "_view_module": "@jupyter-widgets/base",
            "_view_module_version": "1.2.0",
            "_view_name": "StyleView",
            "bar_color": null,
            "description_width": ""
          }
        },
        "398358f8b70f44b0858bc215fada8d92": {
          "model_module": "@jupyter-widgets/base",
          "model_name": "LayoutModel",
          "model_module_version": "1.2.0",
          "state": {
            "_model_module": "@jupyter-widgets/base",
            "_model_module_version": "1.2.0",
            "_model_name": "LayoutModel",
            "_view_count": null,
            "_view_module": "@jupyter-widgets/base",
            "_view_module_version": "1.2.0",
            "_view_name": "LayoutView",
            "align_content": null,
            "align_items": null,
            "align_self": null,
            "border": null,
            "bottom": null,
            "display": null,
            "flex": null,
            "flex_flow": null,
            "grid_area": null,
            "grid_auto_columns": null,
            "grid_auto_flow": null,
            "grid_auto_rows": null,
            "grid_column": null,
            "grid_gap": null,
            "grid_row": null,
            "grid_template_areas": null,
            "grid_template_columns": null,
            "grid_template_rows": null,
            "height": null,
            "justify_content": null,
            "justify_items": null,
            "left": null,
            "margin": null,
            "max_height": null,
            "max_width": null,
            "min_height": null,
            "min_width": null,
            "object_fit": null,
            "object_position": null,
            "order": null,
            "overflow": null,
            "overflow_x": null,
            "overflow_y": null,
            "padding": null,
            "right": null,
            "top": null,
            "visibility": null,
            "width": null
          }
        },
        "6a44f3b31c5149e7889404ec708e5bf8": {
          "model_module": "@jupyter-widgets/controls",
          "model_name": "DescriptionStyleModel",
          "model_module_version": "1.5.0",
          "state": {
            "_model_module": "@jupyter-widgets/controls",
            "_model_module_version": "1.5.0",
            "_model_name": "DescriptionStyleModel",
            "_view_count": null,
            "_view_module": "@jupyter-widgets/base",
            "_view_module_version": "1.2.0",
            "_view_name": "StyleView",
            "description_width": ""
          }
        },
        "1c6117044f1942628a0d898550314cb7": {
          "model_module": "@jupyter-widgets/controls",
          "model_name": "HBoxModel",
          "model_module_version": "1.5.0",
          "state": {
            "_dom_classes": [],
            "_model_module": "@jupyter-widgets/controls",
            "_model_module_version": "1.5.0",
            "_model_name": "HBoxModel",
            "_view_count": null,
            "_view_module": "@jupyter-widgets/controls",
            "_view_module_version": "1.5.0",
            "_view_name": "HBoxView",
            "box_style": "",
            "children": [
              "IPY_MODEL_72adb60b3a3c499888e1b486cb79729f",
              "IPY_MODEL_bad3caf85d574e088da99a468ecc33a7",
              "IPY_MODEL_b61c28737cb847cf972d308eb58b7f72"
            ],
            "layout": "IPY_MODEL_b86005cc96894e3a8dc77319ff85996d"
          }
        },
        "72adb60b3a3c499888e1b486cb79729f": {
          "model_module": "@jupyter-widgets/controls",
          "model_name": "HTMLModel",
          "model_module_version": "1.5.0",
          "state": {
            "_dom_classes": [],
            "_model_module": "@jupyter-widgets/controls",
            "_model_module_version": "1.5.0",
            "_model_name": "HTMLModel",
            "_view_count": null,
            "_view_module": "@jupyter-widgets/controls",
            "_view_module_version": "1.5.0",
            "_view_name": "HTMLView",
            "description": "",
            "description_tooltip": null,
            "layout": "IPY_MODEL_5322031207684ad98c8ec70a0a2817d9",
            "placeholder": "​",
            "style": "IPY_MODEL_f5a8889d4102485ea891f55ca358e6b2",
            "value": "100%"
          }
        },
        "bad3caf85d574e088da99a468ecc33a7": {
          "model_module": "@jupyter-widgets/controls",
          "model_name": "FloatProgressModel",
          "model_module_version": "1.5.0",
          "state": {
            "_dom_classes": [],
            "_model_module": "@jupyter-widgets/controls",
            "_model_module_version": "1.5.0",
            "_model_name": "FloatProgressModel",
            "_view_count": null,
            "_view_module": "@jupyter-widgets/controls",
            "_view_module_version": "1.5.0",
            "_view_name": "ProgressView",
            "bar_style": "success",
            "description": "",
            "description_tooltip": null,
            "layout": "IPY_MODEL_b2344fe74f5a49da84ed83b24fe71f8b",
            "max": 3,
            "min": 0,
            "orientation": "horizontal",
            "style": "IPY_MODEL_0b0d514a807f4542bf6bee5c2d8bd2c1",
            "value": 3
          }
        },
        "b61c28737cb847cf972d308eb58b7f72": {
          "model_module": "@jupyter-widgets/controls",
          "model_name": "HTMLModel",
          "model_module_version": "1.5.0",
          "state": {
            "_dom_classes": [],
            "_model_module": "@jupyter-widgets/controls",
            "_model_module_version": "1.5.0",
            "_model_name": "HTMLModel",
            "_view_count": null,
            "_view_module": "@jupyter-widgets/controls",
            "_view_module_version": "1.5.0",
            "_view_name": "HTMLView",
            "description": "",
            "description_tooltip": null,
            "layout": "IPY_MODEL_d839b04194414df1a0bf0adcdc3ebb71",
            "placeholder": "​",
            "style": "IPY_MODEL_27466b006c824fcbbd6a239459883829",
            "value": " 3/3 [00:35&lt;00:00, 11.84s/it]"
          }
        },
        "b86005cc96894e3a8dc77319ff85996d": {
          "model_module": "@jupyter-widgets/base",
          "model_name": "LayoutModel",
          "model_module_version": "1.2.0",
          "state": {
            "_model_module": "@jupyter-widgets/base",
            "_model_module_version": "1.2.0",
            "_model_name": "LayoutModel",
            "_view_count": null,
            "_view_module": "@jupyter-widgets/base",
            "_view_module_version": "1.2.0",
            "_view_name": "LayoutView",
            "align_content": null,
            "align_items": null,
            "align_self": null,
            "border": null,
            "bottom": null,
            "display": null,
            "flex": null,
            "flex_flow": null,
            "grid_area": null,
            "grid_auto_columns": null,
            "grid_auto_flow": null,
            "grid_auto_rows": null,
            "grid_column": null,
            "grid_gap": null,
            "grid_row": null,
            "grid_template_areas": null,
            "grid_template_columns": null,
            "grid_template_rows": null,
            "height": null,
            "justify_content": null,
            "justify_items": null,
            "left": null,
            "margin": null,
            "max_height": null,
            "max_width": null,
            "min_height": null,
            "min_width": null,
            "object_fit": null,
            "object_position": null,
            "order": null,
            "overflow": null,
            "overflow_x": null,
            "overflow_y": null,
            "padding": null,
            "right": null,
            "top": null,
            "visibility": null,
            "width": null
          }
        },
        "5322031207684ad98c8ec70a0a2817d9": {
          "model_module": "@jupyter-widgets/base",
          "model_name": "LayoutModel",
          "model_module_version": "1.2.0",
          "state": {
            "_model_module": "@jupyter-widgets/base",
            "_model_module_version": "1.2.0",
            "_model_name": "LayoutModel",
            "_view_count": null,
            "_view_module": "@jupyter-widgets/base",
            "_view_module_version": "1.2.0",
            "_view_name": "LayoutView",
            "align_content": null,
            "align_items": null,
            "align_self": null,
            "border": null,
            "bottom": null,
            "display": null,
            "flex": null,
            "flex_flow": null,
            "grid_area": null,
            "grid_auto_columns": null,
            "grid_auto_flow": null,
            "grid_auto_rows": null,
            "grid_column": null,
            "grid_gap": null,
            "grid_row": null,
            "grid_template_areas": null,
            "grid_template_columns": null,
            "grid_template_rows": null,
            "height": null,
            "justify_content": null,
            "justify_items": null,
            "left": null,
            "margin": null,
            "max_height": null,
            "max_width": null,
            "min_height": null,
            "min_width": null,
            "object_fit": null,
            "object_position": null,
            "order": null,
            "overflow": null,
            "overflow_x": null,
            "overflow_y": null,
            "padding": null,
            "right": null,
            "top": null,
            "visibility": null,
            "width": null
          }
        },
        "f5a8889d4102485ea891f55ca358e6b2": {
          "model_module": "@jupyter-widgets/controls",
          "model_name": "DescriptionStyleModel",
          "model_module_version": "1.5.0",
          "state": {
            "_model_module": "@jupyter-widgets/controls",
            "_model_module_version": "1.5.0",
            "_model_name": "DescriptionStyleModel",
            "_view_count": null,
            "_view_module": "@jupyter-widgets/base",
            "_view_module_version": "1.2.0",
            "_view_name": "StyleView",
            "description_width": ""
          }
        },
        "b2344fe74f5a49da84ed83b24fe71f8b": {
          "model_module": "@jupyter-widgets/base",
          "model_name": "LayoutModel",
          "model_module_version": "1.2.0",
          "state": {
            "_model_module": "@jupyter-widgets/base",
            "_model_module_version": "1.2.0",
            "_model_name": "LayoutModel",
            "_view_count": null,
            "_view_module": "@jupyter-widgets/base",
            "_view_module_version": "1.2.0",
            "_view_name": "LayoutView",
            "align_content": null,
            "align_items": null,
            "align_self": null,
            "border": null,
            "bottom": null,
            "display": null,
            "flex": null,
            "flex_flow": null,
            "grid_area": null,
            "grid_auto_columns": null,
            "grid_auto_flow": null,
            "grid_auto_rows": null,
            "grid_column": null,
            "grid_gap": null,
            "grid_row": null,
            "grid_template_areas": null,
            "grid_template_columns": null,
            "grid_template_rows": null,
            "height": null,
            "justify_content": null,
            "justify_items": null,
            "left": null,
            "margin": null,
            "max_height": null,
            "max_width": null,
            "min_height": null,
            "min_width": null,
            "object_fit": null,
            "object_position": null,
            "order": null,
            "overflow": null,
            "overflow_x": null,
            "overflow_y": null,
            "padding": null,
            "right": null,
            "top": null,
            "visibility": null,
            "width": null
          }
        },
        "0b0d514a807f4542bf6bee5c2d8bd2c1": {
          "model_module": "@jupyter-widgets/controls",
          "model_name": "ProgressStyleModel",
          "model_module_version": "1.5.0",
          "state": {
            "_model_module": "@jupyter-widgets/controls",
            "_model_module_version": "1.5.0",
            "_model_name": "ProgressStyleModel",
            "_view_count": null,
            "_view_module": "@jupyter-widgets/base",
            "_view_module_version": "1.2.0",
            "_view_name": "StyleView",
            "bar_color": null,
            "description_width": ""
          }
        },
        "d839b04194414df1a0bf0adcdc3ebb71": {
          "model_module": "@jupyter-widgets/base",
          "model_name": "LayoutModel",
          "model_module_version": "1.2.0",
          "state": {
            "_model_module": "@jupyter-widgets/base",
            "_model_module_version": "1.2.0",
            "_model_name": "LayoutModel",
            "_view_count": null,
            "_view_module": "@jupyter-widgets/base",
            "_view_module_version": "1.2.0",
            "_view_name": "LayoutView",
            "align_content": null,
            "align_items": null,
            "align_self": null,
            "border": null,
            "bottom": null,
            "display": null,
            "flex": null,
            "flex_flow": null,
            "grid_area": null,
            "grid_auto_columns": null,
            "grid_auto_flow": null,
            "grid_auto_rows": null,
            "grid_column": null,
            "grid_gap": null,
            "grid_row": null,
            "grid_template_areas": null,
            "grid_template_columns": null,
            "grid_template_rows": null,
            "height": null,
            "justify_content": null,
            "justify_items": null,
            "left": null,
            "margin": null,
            "max_height": null,
            "max_width": null,
            "min_height": null,
            "min_width": null,
            "object_fit": null,
            "object_position": null,
            "order": null,
            "overflow": null,
            "overflow_x": null,
            "overflow_y": null,
            "padding": null,
            "right": null,
            "top": null,
            "visibility": null,
            "width": null
          }
        },
        "27466b006c824fcbbd6a239459883829": {
          "model_module": "@jupyter-widgets/controls",
          "model_name": "DescriptionStyleModel",
          "model_module_version": "1.5.0",
          "state": {
            "_model_module": "@jupyter-widgets/controls",
            "_model_module_version": "1.5.0",
            "_model_name": "DescriptionStyleModel",
            "_view_count": null,
            "_view_module": "@jupyter-widgets/base",
            "_view_module_version": "1.2.0",
            "_view_name": "StyleView",
            "description_width": ""
          }
        },
        "f743dd42570149289d11d5e8472b55c4": {
          "model_module": "@jupyter-widgets/controls",
          "model_name": "HBoxModel",
          "model_module_version": "1.5.0",
          "state": {
            "_dom_classes": [],
            "_model_module": "@jupyter-widgets/controls",
            "_model_module_version": "1.5.0",
            "_model_name": "HBoxModel",
            "_view_count": null,
            "_view_module": "@jupyter-widgets/controls",
            "_view_module_version": "1.5.0",
            "_view_name": "HBoxView",
            "box_style": "",
            "children": [
              "IPY_MODEL_b2997adac5274766af42e26e4d7eb4bd",
              "IPY_MODEL_871041fa5bf3455a9f629f009bb571a1",
              "IPY_MODEL_343587ad2e754874944a5b9d33ab51e5"
            ],
            "layout": "IPY_MODEL_6fce05d4f8aa46bf8b1ecd2838cc4e8d"
          }
        },
        "b2997adac5274766af42e26e4d7eb4bd": {
          "model_module": "@jupyter-widgets/controls",
          "model_name": "HTMLModel",
          "model_module_version": "1.5.0",
          "state": {
            "_dom_classes": [],
            "_model_module": "@jupyter-widgets/controls",
            "_model_module_version": "1.5.0",
            "_model_name": "HTMLModel",
            "_view_count": null,
            "_view_module": "@jupyter-widgets/controls",
            "_view_module_version": "1.5.0",
            "_view_name": "HTMLView",
            "description": "",
            "description_tooltip": null,
            "layout": "IPY_MODEL_b0fb785c87074c5d971d588f9de646d9",
            "placeholder": "​",
            "style": "IPY_MODEL_26f3074040fe43589961c3576c240be4",
            "value": "100%"
          }
        },
        "871041fa5bf3455a9f629f009bb571a1": {
          "model_module": "@jupyter-widgets/controls",
          "model_name": "FloatProgressModel",
          "model_module_version": "1.5.0",
          "state": {
            "_dom_classes": [],
            "_model_module": "@jupyter-widgets/controls",
            "_model_module_version": "1.5.0",
            "_model_name": "FloatProgressModel",
            "_view_count": null,
            "_view_module": "@jupyter-widgets/controls",
            "_view_module_version": "1.5.0",
            "_view_name": "ProgressView",
            "bar_style": "success",
            "description": "",
            "description_tooltip": null,
            "layout": "IPY_MODEL_f7525fc7dc804a0b94fc05235d2c6feb",
            "max": 313,
            "min": 0,
            "orientation": "horizontal",
            "style": "IPY_MODEL_96b1a2483d7640918e0d06acea9b8ae5",
            "value": 313
          }
        },
        "343587ad2e754874944a5b9d33ab51e5": {
          "model_module": "@jupyter-widgets/controls",
          "model_name": "HTMLModel",
          "model_module_version": "1.5.0",
          "state": {
            "_dom_classes": [],
            "_model_module": "@jupyter-widgets/controls",
            "_model_module_version": "1.5.0",
            "_model_name": "HTMLModel",
            "_view_count": null,
            "_view_module": "@jupyter-widgets/controls",
            "_view_module_version": "1.5.0",
            "_view_name": "HTMLView",
            "description": "",
            "description_tooltip": null,
            "layout": "IPY_MODEL_25837c3af9544cfab399af7817bba9f8",
            "placeholder": "​",
            "style": "IPY_MODEL_88d83c30832444faabc1289703ba34e2",
            "value": " 313/313 [00:01&lt;00:00, 260.75it/s]"
          }
        },
        "6fce05d4f8aa46bf8b1ecd2838cc4e8d": {
          "model_module": "@jupyter-widgets/base",
          "model_name": "LayoutModel",
          "model_module_version": "1.2.0",
          "state": {
            "_model_module": "@jupyter-widgets/base",
            "_model_module_version": "1.2.0",
            "_model_name": "LayoutModel",
            "_view_count": null,
            "_view_module": "@jupyter-widgets/base",
            "_view_module_version": "1.2.0",
            "_view_name": "LayoutView",
            "align_content": null,
            "align_items": null,
            "align_self": null,
            "border": null,
            "bottom": null,
            "display": null,
            "flex": null,
            "flex_flow": null,
            "grid_area": null,
            "grid_auto_columns": null,
            "grid_auto_flow": null,
            "grid_auto_rows": null,
            "grid_column": null,
            "grid_gap": null,
            "grid_row": null,
            "grid_template_areas": null,
            "grid_template_columns": null,
            "grid_template_rows": null,
            "height": null,
            "justify_content": null,
            "justify_items": null,
            "left": null,
            "margin": null,
            "max_height": null,
            "max_width": null,
            "min_height": null,
            "min_width": null,
            "object_fit": null,
            "object_position": null,
            "order": null,
            "overflow": null,
            "overflow_x": null,
            "overflow_y": null,
            "padding": null,
            "right": null,
            "top": null,
            "visibility": null,
            "width": null
          }
        },
        "b0fb785c87074c5d971d588f9de646d9": {
          "model_module": "@jupyter-widgets/base",
          "model_name": "LayoutModel",
          "model_module_version": "1.2.0",
          "state": {
            "_model_module": "@jupyter-widgets/base",
            "_model_module_version": "1.2.0",
            "_model_name": "LayoutModel",
            "_view_count": null,
            "_view_module": "@jupyter-widgets/base",
            "_view_module_version": "1.2.0",
            "_view_name": "LayoutView",
            "align_content": null,
            "align_items": null,
            "align_self": null,
            "border": null,
            "bottom": null,
            "display": null,
            "flex": null,
            "flex_flow": null,
            "grid_area": null,
            "grid_auto_columns": null,
            "grid_auto_flow": null,
            "grid_auto_rows": null,
            "grid_column": null,
            "grid_gap": null,
            "grid_row": null,
            "grid_template_areas": null,
            "grid_template_columns": null,
            "grid_template_rows": null,
            "height": null,
            "justify_content": null,
            "justify_items": null,
            "left": null,
            "margin": null,
            "max_height": null,
            "max_width": null,
            "min_height": null,
            "min_width": null,
            "object_fit": null,
            "object_position": null,
            "order": null,
            "overflow": null,
            "overflow_x": null,
            "overflow_y": null,
            "padding": null,
            "right": null,
            "top": null,
            "visibility": null,
            "width": null
          }
        },
        "26f3074040fe43589961c3576c240be4": {
          "model_module": "@jupyter-widgets/controls",
          "model_name": "DescriptionStyleModel",
          "model_module_version": "1.5.0",
          "state": {
            "_model_module": "@jupyter-widgets/controls",
            "_model_module_version": "1.5.0",
            "_model_name": "DescriptionStyleModel",
            "_view_count": null,
            "_view_module": "@jupyter-widgets/base",
            "_view_module_version": "1.2.0",
            "_view_name": "StyleView",
            "description_width": ""
          }
        },
        "f7525fc7dc804a0b94fc05235d2c6feb": {
          "model_module": "@jupyter-widgets/base",
          "model_name": "LayoutModel",
          "model_module_version": "1.2.0",
          "state": {
            "_model_module": "@jupyter-widgets/base",
            "_model_module_version": "1.2.0",
            "_model_name": "LayoutModel",
            "_view_count": null,
            "_view_module": "@jupyter-widgets/base",
            "_view_module_version": "1.2.0",
            "_view_name": "LayoutView",
            "align_content": null,
            "align_items": null,
            "align_self": null,
            "border": null,
            "bottom": null,
            "display": null,
            "flex": null,
            "flex_flow": null,
            "grid_area": null,
            "grid_auto_columns": null,
            "grid_auto_flow": null,
            "grid_auto_rows": null,
            "grid_column": null,
            "grid_gap": null,
            "grid_row": null,
            "grid_template_areas": null,
            "grid_template_columns": null,
            "grid_template_rows": null,
            "height": null,
            "justify_content": null,
            "justify_items": null,
            "left": null,
            "margin": null,
            "max_height": null,
            "max_width": null,
            "min_height": null,
            "min_width": null,
            "object_fit": null,
            "object_position": null,
            "order": null,
            "overflow": null,
            "overflow_x": null,
            "overflow_y": null,
            "padding": null,
            "right": null,
            "top": null,
            "visibility": null,
            "width": null
          }
        },
        "96b1a2483d7640918e0d06acea9b8ae5": {
          "model_module": "@jupyter-widgets/controls",
          "model_name": "ProgressStyleModel",
          "model_module_version": "1.5.0",
          "state": {
            "_model_module": "@jupyter-widgets/controls",
            "_model_module_version": "1.5.0",
            "_model_name": "ProgressStyleModel",
            "_view_count": null,
            "_view_module": "@jupyter-widgets/base",
            "_view_module_version": "1.2.0",
            "_view_name": "StyleView",
            "bar_color": null,
            "description_width": ""
          }
        },
        "25837c3af9544cfab399af7817bba9f8": {
          "model_module": "@jupyter-widgets/base",
          "model_name": "LayoutModel",
          "model_module_version": "1.2.0",
          "state": {
            "_model_module": "@jupyter-widgets/base",
            "_model_module_version": "1.2.0",
            "_model_name": "LayoutModel",
            "_view_count": null,
            "_view_module": "@jupyter-widgets/base",
            "_view_module_version": "1.2.0",
            "_view_name": "LayoutView",
            "align_content": null,
            "align_items": null,
            "align_self": null,
            "border": null,
            "bottom": null,
            "display": null,
            "flex": null,
            "flex_flow": null,
            "grid_area": null,
            "grid_auto_columns": null,
            "grid_auto_flow": null,
            "grid_auto_rows": null,
            "grid_column": null,
            "grid_gap": null,
            "grid_row": null,
            "grid_template_areas": null,
            "grid_template_columns": null,
            "grid_template_rows": null,
            "height": null,
            "justify_content": null,
            "justify_items": null,
            "left": null,
            "margin": null,
            "max_height": null,
            "max_width": null,
            "min_height": null,
            "min_width": null,
            "object_fit": null,
            "object_position": null,
            "order": null,
            "overflow": null,
            "overflow_x": null,
            "overflow_y": null,
            "padding": null,
            "right": null,
            "top": null,
            "visibility": null,
            "width": null
          }
        },
        "88d83c30832444faabc1289703ba34e2": {
          "model_module": "@jupyter-widgets/controls",
          "model_name": "DescriptionStyleModel",
          "model_module_version": "1.5.0",
          "state": {
            "_model_module": "@jupyter-widgets/controls",
            "_model_module_version": "1.5.0",
            "_model_name": "DescriptionStyleModel",
            "_view_count": null,
            "_view_module": "@jupyter-widgets/base",
            "_view_module_version": "1.2.0",
            "_view_name": "StyleView",
            "description_width": ""
          }
        },
        "d3bc67dc03dd45b9ab2f92cacd29d823": {
          "model_module": "@jupyter-widgets/controls",
          "model_name": "HBoxModel",
          "model_module_version": "1.5.0",
          "state": {
            "_dom_classes": [],
            "_model_module": "@jupyter-widgets/controls",
            "_model_module_version": "1.5.0",
            "_model_name": "HBoxModel",
            "_view_count": null,
            "_view_module": "@jupyter-widgets/controls",
            "_view_module_version": "1.5.0",
            "_view_name": "HBoxView",
            "box_style": "",
            "children": [
              "IPY_MODEL_27c864289a8f47138eb5ef408d8fa784",
              "IPY_MODEL_fb9cbc80170d4c44b03de2361b472250",
              "IPY_MODEL_72319e21ab97433e9b312705402ae941"
            ],
            "layout": "IPY_MODEL_00fcae4e47be4d0b8acc3187b65e4cf6"
          }
        },
        "27c864289a8f47138eb5ef408d8fa784": {
          "model_module": "@jupyter-widgets/controls",
          "model_name": "HTMLModel",
          "model_module_version": "1.5.0",
          "state": {
            "_dom_classes": [],
            "_model_module": "@jupyter-widgets/controls",
            "_model_module_version": "1.5.0",
            "_model_name": "HTMLModel",
            "_view_count": null,
            "_view_module": "@jupyter-widgets/controls",
            "_view_module_version": "1.5.0",
            "_view_name": "HTMLView",
            "description": "",
            "description_tooltip": null,
            "layout": "IPY_MODEL_1537af1579b54f59abb67603d16a6b9c",
            "placeholder": "​",
            "style": "IPY_MODEL_021d849c8e4b4fb5b135511c18a3baaa",
            "value": "Making predictions...: 100%"
          }
        },
        "fb9cbc80170d4c44b03de2361b472250": {
          "model_module": "@jupyter-widgets/controls",
          "model_name": "FloatProgressModel",
          "model_module_version": "1.5.0",
          "state": {
            "_dom_classes": [],
            "_model_module": "@jupyter-widgets/controls",
            "_model_module_version": "1.5.0",
            "_model_name": "FloatProgressModel",
            "_view_count": null,
            "_view_module": "@jupyter-widgets/controls",
            "_view_module_version": "1.5.0",
            "_view_name": "ProgressView",
            "bar_style": "success",
            "description": "",
            "description_tooltip": null,
            "layout": "IPY_MODEL_5a1c2c7fbd694d36a4e48f51c80900f3",
            "max": 313,
            "min": 0,
            "orientation": "horizontal",
            "style": "IPY_MODEL_0ce40468503640b694ca8cfc3d3c474a",
            "value": 313
          }
        },
        "72319e21ab97433e9b312705402ae941": {
          "model_module": "@jupyter-widgets/controls",
          "model_name": "HTMLModel",
          "model_module_version": "1.5.0",
          "state": {
            "_dom_classes": [],
            "_model_module": "@jupyter-widgets/controls",
            "_model_module_version": "1.5.0",
            "_model_name": "HTMLModel",
            "_view_count": null,
            "_view_module": "@jupyter-widgets/controls",
            "_view_module_version": "1.5.0",
            "_view_name": "HTMLView",
            "description": "",
            "description_tooltip": null,
            "layout": "IPY_MODEL_418207bb7ae241be88a3884663a35341",
            "placeholder": "​",
            "style": "IPY_MODEL_7c520283155a4eed86bbebfe71fffd5e",
            "value": " 313/313 [00:01&lt;00:00, 169.00it/s]"
          }
        },
        "00fcae4e47be4d0b8acc3187b65e4cf6": {
          "model_module": "@jupyter-widgets/base",
          "model_name": "LayoutModel",
          "model_module_version": "1.2.0",
          "state": {
            "_model_module": "@jupyter-widgets/base",
            "_model_module_version": "1.2.0",
            "_model_name": "LayoutModel",
            "_view_count": null,
            "_view_module": "@jupyter-widgets/base",
            "_view_module_version": "1.2.0",
            "_view_name": "LayoutView",
            "align_content": null,
            "align_items": null,
            "align_self": null,
            "border": null,
            "bottom": null,
            "display": null,
            "flex": null,
            "flex_flow": null,
            "grid_area": null,
            "grid_auto_columns": null,
            "grid_auto_flow": null,
            "grid_auto_rows": null,
            "grid_column": null,
            "grid_gap": null,
            "grid_row": null,
            "grid_template_areas": null,
            "grid_template_columns": null,
            "grid_template_rows": null,
            "height": null,
            "justify_content": null,
            "justify_items": null,
            "left": null,
            "margin": null,
            "max_height": null,
            "max_width": null,
            "min_height": null,
            "min_width": null,
            "object_fit": null,
            "object_position": null,
            "order": null,
            "overflow": null,
            "overflow_x": null,
            "overflow_y": null,
            "padding": null,
            "right": null,
            "top": null,
            "visibility": null,
            "width": null
          }
        },
        "1537af1579b54f59abb67603d16a6b9c": {
          "model_module": "@jupyter-widgets/base",
          "model_name": "LayoutModel",
          "model_module_version": "1.2.0",
          "state": {
            "_model_module": "@jupyter-widgets/base",
            "_model_module_version": "1.2.0",
            "_model_name": "LayoutModel",
            "_view_count": null,
            "_view_module": "@jupyter-widgets/base",
            "_view_module_version": "1.2.0",
            "_view_name": "LayoutView",
            "align_content": null,
            "align_items": null,
            "align_self": null,
            "border": null,
            "bottom": null,
            "display": null,
            "flex": null,
            "flex_flow": null,
            "grid_area": null,
            "grid_auto_columns": null,
            "grid_auto_flow": null,
            "grid_auto_rows": null,
            "grid_column": null,
            "grid_gap": null,
            "grid_row": null,
            "grid_template_areas": null,
            "grid_template_columns": null,
            "grid_template_rows": null,
            "height": null,
            "justify_content": null,
            "justify_items": null,
            "left": null,
            "margin": null,
            "max_height": null,
            "max_width": null,
            "min_height": null,
            "min_width": null,
            "object_fit": null,
            "object_position": null,
            "order": null,
            "overflow": null,
            "overflow_x": null,
            "overflow_y": null,
            "padding": null,
            "right": null,
            "top": null,
            "visibility": null,
            "width": null
          }
        },
        "021d849c8e4b4fb5b135511c18a3baaa": {
          "model_module": "@jupyter-widgets/controls",
          "model_name": "DescriptionStyleModel",
          "model_module_version": "1.5.0",
          "state": {
            "_model_module": "@jupyter-widgets/controls",
            "_model_module_version": "1.5.0",
            "_model_name": "DescriptionStyleModel",
            "_view_count": null,
            "_view_module": "@jupyter-widgets/base",
            "_view_module_version": "1.2.0",
            "_view_name": "StyleView",
            "description_width": ""
          }
        },
        "5a1c2c7fbd694d36a4e48f51c80900f3": {
          "model_module": "@jupyter-widgets/base",
          "model_name": "LayoutModel",
          "model_module_version": "1.2.0",
          "state": {
            "_model_module": "@jupyter-widgets/base",
            "_model_module_version": "1.2.0",
            "_model_name": "LayoutModel",
            "_view_count": null,
            "_view_module": "@jupyter-widgets/base",
            "_view_module_version": "1.2.0",
            "_view_name": "LayoutView",
            "align_content": null,
            "align_items": null,
            "align_self": null,
            "border": null,
            "bottom": null,
            "display": null,
            "flex": null,
            "flex_flow": null,
            "grid_area": null,
            "grid_auto_columns": null,
            "grid_auto_flow": null,
            "grid_auto_rows": null,
            "grid_column": null,
            "grid_gap": null,
            "grid_row": null,
            "grid_template_areas": null,
            "grid_template_columns": null,
            "grid_template_rows": null,
            "height": null,
            "justify_content": null,
            "justify_items": null,
            "left": null,
            "margin": null,
            "max_height": null,
            "max_width": null,
            "min_height": null,
            "min_width": null,
            "object_fit": null,
            "object_position": null,
            "order": null,
            "overflow": null,
            "overflow_x": null,
            "overflow_y": null,
            "padding": null,
            "right": null,
            "top": null,
            "visibility": null,
            "width": null
          }
        },
        "0ce40468503640b694ca8cfc3d3c474a": {
          "model_module": "@jupyter-widgets/controls",
          "model_name": "ProgressStyleModel",
          "model_module_version": "1.5.0",
          "state": {
            "_model_module": "@jupyter-widgets/controls",
            "_model_module_version": "1.5.0",
            "_model_name": "ProgressStyleModel",
            "_view_count": null,
            "_view_module": "@jupyter-widgets/base",
            "_view_module_version": "1.2.0",
            "_view_name": "StyleView",
            "bar_color": null,
            "description_width": ""
          }
        },
        "418207bb7ae241be88a3884663a35341": {
          "model_module": "@jupyter-widgets/base",
          "model_name": "LayoutModel",
          "model_module_version": "1.2.0",
          "state": {
            "_model_module": "@jupyter-widgets/base",
            "_model_module_version": "1.2.0",
            "_model_name": "LayoutModel",
            "_view_count": null,
            "_view_module": "@jupyter-widgets/base",
            "_view_module_version": "1.2.0",
            "_view_name": "LayoutView",
            "align_content": null,
            "align_items": null,
            "align_self": null,
            "border": null,
            "bottom": null,
            "display": null,
            "flex": null,
            "flex_flow": null,
            "grid_area": null,
            "grid_auto_columns": null,
            "grid_auto_flow": null,
            "grid_auto_rows": null,
            "grid_column": null,
            "grid_gap": null,
            "grid_row": null,
            "grid_template_areas": null,
            "grid_template_columns": null,
            "grid_template_rows": null,
            "height": null,
            "justify_content": null,
            "justify_items": null,
            "left": null,
            "margin": null,
            "max_height": null,
            "max_width": null,
            "min_height": null,
            "min_width": null,
            "object_fit": null,
            "object_position": null,
            "order": null,
            "overflow": null,
            "overflow_x": null,
            "overflow_y": null,
            "padding": null,
            "right": null,
            "top": null,
            "visibility": null,
            "width": null
          }
        },
        "7c520283155a4eed86bbebfe71fffd5e": {
          "model_module": "@jupyter-widgets/controls",
          "model_name": "DescriptionStyleModel",
          "model_module_version": "1.5.0",
          "state": {
            "_model_module": "@jupyter-widgets/controls",
            "_model_module_version": "1.5.0",
            "_model_name": "DescriptionStyleModel",
            "_view_count": null,
            "_view_module": "@jupyter-widgets/base",
            "_view_module_version": "1.2.0",
            "_view_name": "StyleView",
            "description_width": ""
          }
        },
        "9ce5c42ba07d44928a16445ce89177a4": {
          "model_module": "@jupyter-widgets/controls",
          "model_name": "HBoxModel",
          "model_module_version": "1.5.0",
          "state": {
            "_dom_classes": [],
            "_model_module": "@jupyter-widgets/controls",
            "_model_module_version": "1.5.0",
            "_model_name": "HBoxModel",
            "_view_count": null,
            "_view_module": "@jupyter-widgets/controls",
            "_view_module_version": "1.5.0",
            "_view_name": "HBoxView",
            "box_style": "",
            "children": [
              "IPY_MODEL_67ca2344a5eb474ea421e38708a4dd14",
              "IPY_MODEL_c352d9753e7b48b58a62c7f0deaae38f",
              "IPY_MODEL_2903015d4ece4415863b0c20e110c78b"
            ],
            "layout": "IPY_MODEL_9c138e9f4aaf4baa89e708cd340375be"
          }
        },
        "67ca2344a5eb474ea421e38708a4dd14": {
          "model_module": "@jupyter-widgets/controls",
          "model_name": "HTMLModel",
          "model_module_version": "1.5.0",
          "state": {
            "_dom_classes": [],
            "_model_module": "@jupyter-widgets/controls",
            "_model_module_version": "1.5.0",
            "_model_name": "HTMLModel",
            "_view_count": null,
            "_view_module": "@jupyter-widgets/controls",
            "_view_module_version": "1.5.0",
            "_view_name": "HTMLView",
            "description": "",
            "description_tooltip": null,
            "layout": "IPY_MODEL_a42b1cb6339f456093fceabceea63555",
            "placeholder": "​",
            "style": "IPY_MODEL_6e5e1a487a2c4b5ca19f383a9f0d52ea",
            "value": "100%"
          }
        },
        "c352d9753e7b48b58a62c7f0deaae38f": {
          "model_module": "@jupyter-widgets/controls",
          "model_name": "FloatProgressModel",
          "model_module_version": "1.5.0",
          "state": {
            "_dom_classes": [],
            "_model_module": "@jupyter-widgets/controls",
            "_model_module_version": "1.5.0",
            "_model_name": "FloatProgressModel",
            "_view_count": null,
            "_view_module": "@jupyter-widgets/controls",
            "_view_module_version": "1.5.0",
            "_view_name": "ProgressView",
            "bar_style": "success",
            "description": "",
            "description_tooltip": null,
            "layout": "IPY_MODEL_f36bac6e5cc349c1965dce1b928d1464",
            "max": 313,
            "min": 0,
            "orientation": "horizontal",
            "style": "IPY_MODEL_f08519f940bc4425bebe2e469e6a2fd1",
            "value": 313
          }
        },
        "2903015d4ece4415863b0c20e110c78b": {
          "model_module": "@jupyter-widgets/controls",
          "model_name": "HTMLModel",
          "model_module_version": "1.5.0",
          "state": {
            "_dom_classes": [],
            "_model_module": "@jupyter-widgets/controls",
            "_model_module_version": "1.5.0",
            "_model_name": "HTMLModel",
            "_view_count": null,
            "_view_module": "@jupyter-widgets/controls",
            "_view_module_version": "1.5.0",
            "_view_name": "HTMLView",
            "description": "",
            "description_tooltip": null,
            "layout": "IPY_MODEL_8b432a4553dc41159b6f2273feff9c4a",
            "placeholder": "​",
            "style": "IPY_MODEL_029d4c8c5e04410e86c0533c236907ff",
            "value": " 313/313 [00:02&lt;00:00, 174.89it/s]"
          }
        },
        "9c138e9f4aaf4baa89e708cd340375be": {
          "model_module": "@jupyter-widgets/base",
          "model_name": "LayoutModel",
          "model_module_version": "1.2.0",
          "state": {
            "_model_module": "@jupyter-widgets/base",
            "_model_module_version": "1.2.0",
            "_model_name": "LayoutModel",
            "_view_count": null,
            "_view_module": "@jupyter-widgets/base",
            "_view_module_version": "1.2.0",
            "_view_name": "LayoutView",
            "align_content": null,
            "align_items": null,
            "align_self": null,
            "border": null,
            "bottom": null,
            "display": null,
            "flex": null,
            "flex_flow": null,
            "grid_area": null,
            "grid_auto_columns": null,
            "grid_auto_flow": null,
            "grid_auto_rows": null,
            "grid_column": null,
            "grid_gap": null,
            "grid_row": null,
            "grid_template_areas": null,
            "grid_template_columns": null,
            "grid_template_rows": null,
            "height": null,
            "justify_content": null,
            "justify_items": null,
            "left": null,
            "margin": null,
            "max_height": null,
            "max_width": null,
            "min_height": null,
            "min_width": null,
            "object_fit": null,
            "object_position": null,
            "order": null,
            "overflow": null,
            "overflow_x": null,
            "overflow_y": null,
            "padding": null,
            "right": null,
            "top": null,
            "visibility": null,
            "width": null
          }
        },
        "a42b1cb6339f456093fceabceea63555": {
          "model_module": "@jupyter-widgets/base",
          "model_name": "LayoutModel",
          "model_module_version": "1.2.0",
          "state": {
            "_model_module": "@jupyter-widgets/base",
            "_model_module_version": "1.2.0",
            "_model_name": "LayoutModel",
            "_view_count": null,
            "_view_module": "@jupyter-widgets/base",
            "_view_module_version": "1.2.0",
            "_view_name": "LayoutView",
            "align_content": null,
            "align_items": null,
            "align_self": null,
            "border": null,
            "bottom": null,
            "display": null,
            "flex": null,
            "flex_flow": null,
            "grid_area": null,
            "grid_auto_columns": null,
            "grid_auto_flow": null,
            "grid_auto_rows": null,
            "grid_column": null,
            "grid_gap": null,
            "grid_row": null,
            "grid_template_areas": null,
            "grid_template_columns": null,
            "grid_template_rows": null,
            "height": null,
            "justify_content": null,
            "justify_items": null,
            "left": null,
            "margin": null,
            "max_height": null,
            "max_width": null,
            "min_height": null,
            "min_width": null,
            "object_fit": null,
            "object_position": null,
            "order": null,
            "overflow": null,
            "overflow_x": null,
            "overflow_y": null,
            "padding": null,
            "right": null,
            "top": null,
            "visibility": null,
            "width": null
          }
        },
        "6e5e1a487a2c4b5ca19f383a9f0d52ea": {
          "model_module": "@jupyter-widgets/controls",
          "model_name": "DescriptionStyleModel",
          "model_module_version": "1.5.0",
          "state": {
            "_model_module": "@jupyter-widgets/controls",
            "_model_module_version": "1.5.0",
            "_model_name": "DescriptionStyleModel",
            "_view_count": null,
            "_view_module": "@jupyter-widgets/base",
            "_view_module_version": "1.2.0",
            "_view_name": "StyleView",
            "description_width": ""
          }
        },
        "f36bac6e5cc349c1965dce1b928d1464": {
          "model_module": "@jupyter-widgets/base",
          "model_name": "LayoutModel",
          "model_module_version": "1.2.0",
          "state": {
            "_model_module": "@jupyter-widgets/base",
            "_model_module_version": "1.2.0",
            "_model_name": "LayoutModel",
            "_view_count": null,
            "_view_module": "@jupyter-widgets/base",
            "_view_module_version": "1.2.0",
            "_view_name": "LayoutView",
            "align_content": null,
            "align_items": null,
            "align_self": null,
            "border": null,
            "bottom": null,
            "display": null,
            "flex": null,
            "flex_flow": null,
            "grid_area": null,
            "grid_auto_columns": null,
            "grid_auto_flow": null,
            "grid_auto_rows": null,
            "grid_column": null,
            "grid_gap": null,
            "grid_row": null,
            "grid_template_areas": null,
            "grid_template_columns": null,
            "grid_template_rows": null,
            "height": null,
            "justify_content": null,
            "justify_items": null,
            "left": null,
            "margin": null,
            "max_height": null,
            "max_width": null,
            "min_height": null,
            "min_width": null,
            "object_fit": null,
            "object_position": null,
            "order": null,
            "overflow": null,
            "overflow_x": null,
            "overflow_y": null,
            "padding": null,
            "right": null,
            "top": null,
            "visibility": null,
            "width": null
          }
        },
        "f08519f940bc4425bebe2e469e6a2fd1": {
          "model_module": "@jupyter-widgets/controls",
          "model_name": "ProgressStyleModel",
          "model_module_version": "1.5.0",
          "state": {
            "_model_module": "@jupyter-widgets/controls",
            "_model_module_version": "1.5.0",
            "_model_name": "ProgressStyleModel",
            "_view_count": null,
            "_view_module": "@jupyter-widgets/base",
            "_view_module_version": "1.2.0",
            "_view_name": "StyleView",
            "bar_color": null,
            "description_width": ""
          }
        },
        "8b432a4553dc41159b6f2273feff9c4a": {
          "model_module": "@jupyter-widgets/base",
          "model_name": "LayoutModel",
          "model_module_version": "1.2.0",
          "state": {
            "_model_module": "@jupyter-widgets/base",
            "_model_module_version": "1.2.0",
            "_model_name": "LayoutModel",
            "_view_count": null,
            "_view_module": "@jupyter-widgets/base",
            "_view_module_version": "1.2.0",
            "_view_name": "LayoutView",
            "align_content": null,
            "align_items": null,
            "align_self": null,
            "border": null,
            "bottom": null,
            "display": null,
            "flex": null,
            "flex_flow": null,
            "grid_area": null,
            "grid_auto_columns": null,
            "grid_auto_flow": null,
            "grid_auto_rows": null,
            "grid_column": null,
            "grid_gap": null,
            "grid_row": null,
            "grid_template_areas": null,
            "grid_template_columns": null,
            "grid_template_rows": null,
            "height": null,
            "justify_content": null,
            "justify_items": null,
            "left": null,
            "margin": null,
            "max_height": null,
            "max_width": null,
            "min_height": null,
            "min_width": null,
            "object_fit": null,
            "object_position": null,
            "order": null,
            "overflow": null,
            "overflow_x": null,
            "overflow_y": null,
            "padding": null,
            "right": null,
            "top": null,
            "visibility": null,
            "width": null
          }
        },
        "029d4c8c5e04410e86c0533c236907ff": {
          "model_module": "@jupyter-widgets/controls",
          "model_name": "DescriptionStyleModel",
          "model_module_version": "1.5.0",
          "state": {
            "_model_module": "@jupyter-widgets/controls",
            "_model_module_version": "1.5.0",
            "_model_name": "DescriptionStyleModel",
            "_view_count": null,
            "_view_module": "@jupyter-widgets/base",
            "_view_module_version": "1.2.0",
            "_view_name": "StyleView",
            "description_width": ""
          }
        }
      }
    }
  },
  "nbformat": 4,
  "nbformat_minor": 0
}